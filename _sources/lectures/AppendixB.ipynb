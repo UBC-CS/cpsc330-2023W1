{
 "cells": [
  {
   "cell_type": "markdown",
   "id": "681546e7-c576-42b3-9d09-831f8f18c71e",
   "metadata": {},
   "source": [
    "# Appendix B: K-Means customer segmentation case study "
   ]
  },
  {
   "cell_type": "code",
   "execution_count": 1,
   "id": "2102387f-015d-4e6e-8105-cf6c60751c5b",
   "metadata": {},
   "outputs": [],
   "source": [
    "import os\n",
    "import random\n",
    "import sys\n",
    "import time\n",
    "\n",
    "import numpy as np\n",
    "import pandas as pd\n",
    "\n",
    "sys.path.append(\"code/.\")\n",
    "import matplotlib.pyplot as plt\n",
    "import seaborn as sns\n",
    "\n",
    "from plotting_functions import *\n",
    "from sklearn import cluster, datasets, metrics\n",
    "from sklearn.compose import ColumnTransformer, make_column_transformer\n",
    "from sklearn.datasets import make_blobs\n",
    "from sklearn.decomposition import PCA\n",
    "from sklearn.pipeline import Pipeline, make_pipeline\n",
    "from sklearn.preprocessing import StandardScaler\n",
    "# from support_functions import *\n",
    "from yellowbrick.cluster import KElbowVisualizer, SilhouetteVisualizer\n",
    "\n",
    "#plt.style.use(\"seaborn\")\n",
    "\n",
    "plt.rcParams[\"font.size\"] = 16"
   ]
  },
  {
   "cell_type": "markdown",
   "id": "5ff2bc54-572e-4b74-aff4-9a177387b54a",
   "metadata": {},
   "source": [
    "### What is customer segmentation? \n",
    "\n",
    "- Understand landscape of the market in businesses and craft targeted business or marketing strategies tailored for each group.\n",
    "\n",
    "<img src=\"img/customer-segmentation.png\" alt=\"\" height=\"600\" width=\"600\"> \n",
    "\n",
    "[source](https://www.youtube.com/watch?v=zPJtDohab-g&t=134s)"
   ]
  },
  {
   "cell_type": "markdown",
   "id": "c7bee581-976f-4c96-a372-58d53d97cc05",
   "metadata": {},
   "source": [
    "Check out [this interesting talk by Malcom Gladwell](https://www.ted.com/talks/malcolm_gladwell_on_spaghetti_sauce?language=en). Humans are diverse and there is no single spaghetti sauce that would make all of them happy! \n",
    "\n",
    "Often it's beneficial to businesses to explore the landscape of the market and tailor their services and products offered to each group. This is called **customer segmentation**. It's usually applied when the dataset contains some of the following features. \n",
    "\n",
    "- **Demographic information** such as gender, age, marital status, income, education, and occupation\n",
    "- **Geographical information** such as specific towns or counties or a customer's city, state, or even country of residence (in case of big global companies)\n",
    "- **Psychographics** such as social class, lifestyle, and personality traits\n",
    "- **Behavioral data** such as spending and consumption habits, product/service usage, and desired benefits "
   ]
  },
  {
   "cell_type": "markdown",
   "id": "3754b722-3ae1-45f7-ba26-48c807beb05e",
   "metadata": {
    "slideshow": {
     "slide_type": "slide"
    }
   },
   "source": [
    "### Business problem \n",
    "\n",
    "- Imagine that you are hired as a data scientist at a bank. They provide some data of their credit card customers to you. \n",
    "- Their goal is to develop customized marketing campaigns and they ask you to group customers based on the given information. \n",
    "- Now that you know about K-Means clustering, let's apply it to the dataset to group customers. "
   ]
  },
  {
   "cell_type": "markdown",
   "id": "eadebb58-ecfb-4419-85f5-7138a92a1211",
   "metadata": {
    "slideshow": {
     "slide_type": "slide"
    }
   },
   "source": [
    "### Data\n",
    "\n",
    "- We will use the [Credit Card Dataset for clustering](https://www.kaggle.com/arjunbhasin2013/ccdata) from Kaggle.\n",
    "- Download the data and save the CSV under the `data` folder. \n",
    "- I encourage you to work through this case study on your own. "
   ]
  },
  {
   "cell_type": "code",
   "execution_count": 2,
   "id": "125635f4-41b5-4278-85f1-31384ef83989",
   "metadata": {
    "slideshow": {
     "slide_type": "-"
    }
   },
   "outputs": [
    {
     "data": {
      "text/plain": [
       "(8950, 18)"
      ]
     },
     "execution_count": 2,
     "metadata": {},
     "output_type": "execute_result"
    }
   ],
   "source": [
    "creditcard_df = pd.read_csv(\"data/CC General.csv\")\n",
    "creditcard_df.shape"
   ]
  },
  {
   "cell_type": "markdown",
   "id": "748bcd45-8b3d-49f1-944f-4083e85d2298",
   "metadata": {
    "slideshow": {
     "slide_type": "slide"
    }
   },
   "source": [
    "### Information of the dataset \n",
    "\n",
    "We have behavioral data. \n",
    "\n",
    "- CUSTID: Identification of Credit Card holder\n",
    "- BALANCE: Balance amount left in customer's account to make purchases\n",
    "- BALANCE_FREQUENCY: How frequently the Balance is updated, score between 0 and 1 (1 = frequently updated, 0 = not frequently updated)\n",
    "- PURCHASES: Amount of purchases made from account\n",
    "- ONEOFFPURCHASES: Maximum purchase amount done in one-go\n",
    "- INSTALLMENTS_PURCHASES: Amount of purchase done in installment\n",
    "- CASH_ADVANCE: Cash in advance given by the user\n",
    "- PURCHASES_FREQUENCY: How frequently the Purchases are being made, score between 0 and 1 (1 = frequently purchased, 0 = not frequently purchased)\n",
    "- ONEOFF_PURCHASES_FREQUENCY: How frequently Purchases are happening in one-go (1 = frequently purchased, 0 = not frequently purchased)\n",
    "- PURCHASES_INSTALLMENTS_FREQUENCY: How frequently purchases in installments are being done (1 = frequently done, 0 = not frequently done)\n",
    "- CASH_ADVANCE_FREQUENCY: How frequently the cash in advance being paid\n",
    "- CASH_ADVANCE_TRX: Number of Transactions made with \"Cash in Advance\"\n",
    "- PURCHASES_TRX: Number of purchase transactions made\n",
    "- CREDIT_LIMIT: Limit of Credit Card for user\n",
    "- PAYMENTS: Amount of Payment done by user\n",
    "- MINIMUM_PAYMENTS: Minimum amount of payments made by user\n",
    "- PRC_FULL_PAYMENT: Percent of full payment paid by user\n",
    "- TENURE: Tenure of credit card service for user"
   ]
  },
  {
   "cell_type": "markdown",
   "id": "7f99bf55-bde7-4a88-bcfd-1c597ed62229",
   "metadata": {
    "slideshow": {
     "slide_type": "slide"
    }
   },
   "source": [
    "### Preliminary EDA"
   ]
  },
  {
   "cell_type": "code",
   "execution_count": 3,
   "id": "4d77c57a-61da-4110-8e0f-72909a507504",
   "metadata": {},
   "outputs": [
    {
     "name": "stdout",
     "output_type": "stream",
     "text": [
      "<class 'pandas.core.frame.DataFrame'>\n",
      "RangeIndex: 8950 entries, 0 to 8949\n",
      "Data columns (total 18 columns):\n",
      " #   Column                            Non-Null Count  Dtype  \n",
      "---  ------                            --------------  -----  \n",
      " 0   CUST_ID                           8950 non-null   object \n",
      " 1   BALANCE                           8950 non-null   float64\n",
      " 2   BALANCE_FREQUENCY                 8950 non-null   float64\n",
      " 3   PURCHASES                         8950 non-null   float64\n",
      " 4   ONEOFF_PURCHASES                  8950 non-null   float64\n",
      " 5   INSTALLMENTS_PURCHASES            8950 non-null   float64\n",
      " 6   CASH_ADVANCE                      8950 non-null   float64\n",
      " 7   PURCHASES_FREQUENCY               8950 non-null   float64\n",
      " 8   ONEOFF_PURCHASES_FREQUENCY        8950 non-null   float64\n",
      " 9   PURCHASES_INSTALLMENTS_FREQUENCY  8950 non-null   float64\n",
      " 10  CASH_ADVANCE_FREQUENCY            8950 non-null   float64\n",
      " 11  CASH_ADVANCE_TRX                  8950 non-null   int64  \n",
      " 12  PURCHASES_TRX                     8950 non-null   int64  \n",
      " 13  CREDIT_LIMIT                      8949 non-null   float64\n",
      " 14  PAYMENTS                          8950 non-null   float64\n",
      " 15  MINIMUM_PAYMENTS                  8637 non-null   float64\n",
      " 16  PRC_FULL_PAYMENT                  8950 non-null   float64\n",
      " 17  TENURE                            8950 non-null   int64  \n",
      "dtypes: float64(14), int64(3), object(1)\n",
      "memory usage: 1.2+ MB\n"
     ]
    }
   ],
   "source": [
    "creditcard_df.info()"
   ]
  },
  {
   "cell_type": "markdown",
   "id": "1b5cbd0f-6d29-4b28-ac07-2ab048b7f950",
   "metadata": {},
   "source": [
    "- All numeric features\n",
    "- Some missing values"
   ]
  },
  {
   "cell_type": "code",
   "execution_count": 4,
   "id": "027473f2-acf5-4097-a0f5-7e31341814fa",
   "metadata": {
    "slideshow": {
     "slide_type": "slide"
    }
   },
   "outputs": [
    {
     "data": {
      "text/html": [
       "<div>\n",
       "<style scoped>\n",
       "    .dataframe tbody tr th:only-of-type {\n",
       "        vertical-align: middle;\n",
       "    }\n",
       "\n",
       "    .dataframe tbody tr th {\n",
       "        vertical-align: top;\n",
       "    }\n",
       "\n",
       "    .dataframe thead th {\n",
       "        text-align: right;\n",
       "    }\n",
       "</style>\n",
       "<table border=\"1\" class=\"dataframe\">\n",
       "  <thead>\n",
       "    <tr style=\"text-align: right;\">\n",
       "      <th></th>\n",
       "      <th>BALANCE</th>\n",
       "      <th>BALANCE_FREQUENCY</th>\n",
       "      <th>PURCHASES</th>\n",
       "      <th>ONEOFF_PURCHASES</th>\n",
       "      <th>INSTALLMENTS_PURCHASES</th>\n",
       "      <th>CASH_ADVANCE</th>\n",
       "      <th>PURCHASES_FREQUENCY</th>\n",
       "      <th>ONEOFF_PURCHASES_FREQUENCY</th>\n",
       "      <th>PURCHASES_INSTALLMENTS_FREQUENCY</th>\n",
       "      <th>CASH_ADVANCE_FREQUENCY</th>\n",
       "      <th>CASH_ADVANCE_TRX</th>\n",
       "      <th>PURCHASES_TRX</th>\n",
       "      <th>CREDIT_LIMIT</th>\n",
       "      <th>PAYMENTS</th>\n",
       "      <th>MINIMUM_PAYMENTS</th>\n",
       "      <th>PRC_FULL_PAYMENT</th>\n",
       "      <th>TENURE</th>\n",
       "    </tr>\n",
       "  </thead>\n",
       "  <tbody>\n",
       "    <tr>\n",
       "      <th>count</th>\n",
       "      <td>8950.000000</td>\n",
       "      <td>8950.000000</td>\n",
       "      <td>8950.000000</td>\n",
       "      <td>8950.000000</td>\n",
       "      <td>8950.000000</td>\n",
       "      <td>8950.000000</td>\n",
       "      <td>8950.000000</td>\n",
       "      <td>8950.000000</td>\n",
       "      <td>8950.000000</td>\n",
       "      <td>8950.000000</td>\n",
       "      <td>8950.000000</td>\n",
       "      <td>8950.000000</td>\n",
       "      <td>8949.000000</td>\n",
       "      <td>8950.000000</td>\n",
       "      <td>8637.000000</td>\n",
       "      <td>8950.000000</td>\n",
       "      <td>8950.000000</td>\n",
       "    </tr>\n",
       "    <tr>\n",
       "      <th>mean</th>\n",
       "      <td>1564.474828</td>\n",
       "      <td>0.877271</td>\n",
       "      <td>1003.204834</td>\n",
       "      <td>592.437371</td>\n",
       "      <td>411.067645</td>\n",
       "      <td>978.871112</td>\n",
       "      <td>0.490351</td>\n",
       "      <td>0.202458</td>\n",
       "      <td>0.364437</td>\n",
       "      <td>0.135144</td>\n",
       "      <td>3.248827</td>\n",
       "      <td>14.709832</td>\n",
       "      <td>4494.449450</td>\n",
       "      <td>1733.143852</td>\n",
       "      <td>864.206542</td>\n",
       "      <td>0.153715</td>\n",
       "      <td>11.517318</td>\n",
       "    </tr>\n",
       "    <tr>\n",
       "      <th>std</th>\n",
       "      <td>2081.531879</td>\n",
       "      <td>0.236904</td>\n",
       "      <td>2136.634782</td>\n",
       "      <td>1659.887917</td>\n",
       "      <td>904.338115</td>\n",
       "      <td>2097.163877</td>\n",
       "      <td>0.401371</td>\n",
       "      <td>0.298336</td>\n",
       "      <td>0.397448</td>\n",
       "      <td>0.200121</td>\n",
       "      <td>6.824647</td>\n",
       "      <td>24.857649</td>\n",
       "      <td>3638.815725</td>\n",
       "      <td>2895.063757</td>\n",
       "      <td>2372.446607</td>\n",
       "      <td>0.292499</td>\n",
       "      <td>1.338331</td>\n",
       "    </tr>\n",
       "    <tr>\n",
       "      <th>min</th>\n",
       "      <td>0.000000</td>\n",
       "      <td>0.000000</td>\n",
       "      <td>0.000000</td>\n",
       "      <td>0.000000</td>\n",
       "      <td>0.000000</td>\n",
       "      <td>0.000000</td>\n",
       "      <td>0.000000</td>\n",
       "      <td>0.000000</td>\n",
       "      <td>0.000000</td>\n",
       "      <td>0.000000</td>\n",
       "      <td>0.000000</td>\n",
       "      <td>0.000000</td>\n",
       "      <td>50.000000</td>\n",
       "      <td>0.000000</td>\n",
       "      <td>0.019163</td>\n",
       "      <td>0.000000</td>\n",
       "      <td>6.000000</td>\n",
       "    </tr>\n",
       "    <tr>\n",
       "      <th>25%</th>\n",
       "      <td>128.281915</td>\n",
       "      <td>0.888889</td>\n",
       "      <td>39.635000</td>\n",
       "      <td>0.000000</td>\n",
       "      <td>0.000000</td>\n",
       "      <td>0.000000</td>\n",
       "      <td>0.083333</td>\n",
       "      <td>0.000000</td>\n",
       "      <td>0.000000</td>\n",
       "      <td>0.000000</td>\n",
       "      <td>0.000000</td>\n",
       "      <td>1.000000</td>\n",
       "      <td>1600.000000</td>\n",
       "      <td>383.276166</td>\n",
       "      <td>169.123707</td>\n",
       "      <td>0.000000</td>\n",
       "      <td>12.000000</td>\n",
       "    </tr>\n",
       "    <tr>\n",
       "      <th>50%</th>\n",
       "      <td>873.385231</td>\n",
       "      <td>1.000000</td>\n",
       "      <td>361.280000</td>\n",
       "      <td>38.000000</td>\n",
       "      <td>89.000000</td>\n",
       "      <td>0.000000</td>\n",
       "      <td>0.500000</td>\n",
       "      <td>0.083333</td>\n",
       "      <td>0.166667</td>\n",
       "      <td>0.000000</td>\n",
       "      <td>0.000000</td>\n",
       "      <td>7.000000</td>\n",
       "      <td>3000.000000</td>\n",
       "      <td>856.901546</td>\n",
       "      <td>312.343947</td>\n",
       "      <td>0.000000</td>\n",
       "      <td>12.000000</td>\n",
       "    </tr>\n",
       "    <tr>\n",
       "      <th>75%</th>\n",
       "      <td>2054.140036</td>\n",
       "      <td>1.000000</td>\n",
       "      <td>1110.130000</td>\n",
       "      <td>577.405000</td>\n",
       "      <td>468.637500</td>\n",
       "      <td>1113.821139</td>\n",
       "      <td>0.916667</td>\n",
       "      <td>0.300000</td>\n",
       "      <td>0.750000</td>\n",
       "      <td>0.222222</td>\n",
       "      <td>4.000000</td>\n",
       "      <td>17.000000</td>\n",
       "      <td>6500.000000</td>\n",
       "      <td>1901.134317</td>\n",
       "      <td>825.485459</td>\n",
       "      <td>0.142857</td>\n",
       "      <td>12.000000</td>\n",
       "    </tr>\n",
       "    <tr>\n",
       "      <th>max</th>\n",
       "      <td>19043.138560</td>\n",
       "      <td>1.000000</td>\n",
       "      <td>49039.570000</td>\n",
       "      <td>40761.250000</td>\n",
       "      <td>22500.000000</td>\n",
       "      <td>47137.211760</td>\n",
       "      <td>1.000000</td>\n",
       "      <td>1.000000</td>\n",
       "      <td>1.000000</td>\n",
       "      <td>1.500000</td>\n",
       "      <td>123.000000</td>\n",
       "      <td>358.000000</td>\n",
       "      <td>30000.000000</td>\n",
       "      <td>50721.483360</td>\n",
       "      <td>76406.207520</td>\n",
       "      <td>1.000000</td>\n",
       "      <td>12.000000</td>\n",
       "    </tr>\n",
       "  </tbody>\n",
       "</table>\n",
       "</div>"
      ],
      "text/plain": [
       "            BALANCE  BALANCE_FREQUENCY     PURCHASES  ONEOFF_PURCHASES  \\\n",
       "count   8950.000000        8950.000000   8950.000000       8950.000000   \n",
       "mean    1564.474828           0.877271   1003.204834        592.437371   \n",
       "std     2081.531879           0.236904   2136.634782       1659.887917   \n",
       "min        0.000000           0.000000      0.000000          0.000000   \n",
       "25%      128.281915           0.888889     39.635000          0.000000   \n",
       "50%      873.385231           1.000000    361.280000         38.000000   \n",
       "75%     2054.140036           1.000000   1110.130000        577.405000   \n",
       "max    19043.138560           1.000000  49039.570000      40761.250000   \n",
       "\n",
       "       INSTALLMENTS_PURCHASES  CASH_ADVANCE  PURCHASES_FREQUENCY  \\\n",
       "count             8950.000000   8950.000000          8950.000000   \n",
       "mean               411.067645    978.871112             0.490351   \n",
       "std                904.338115   2097.163877             0.401371   \n",
       "min                  0.000000      0.000000             0.000000   \n",
       "25%                  0.000000      0.000000             0.083333   \n",
       "50%                 89.000000      0.000000             0.500000   \n",
       "75%                468.637500   1113.821139             0.916667   \n",
       "max              22500.000000  47137.211760             1.000000   \n",
       "\n",
       "       ONEOFF_PURCHASES_FREQUENCY  PURCHASES_INSTALLMENTS_FREQUENCY  \\\n",
       "count                 8950.000000                       8950.000000   \n",
       "mean                     0.202458                          0.364437   \n",
       "std                      0.298336                          0.397448   \n",
       "min                      0.000000                          0.000000   \n",
       "25%                      0.000000                          0.000000   \n",
       "50%                      0.083333                          0.166667   \n",
       "75%                      0.300000                          0.750000   \n",
       "max                      1.000000                          1.000000   \n",
       "\n",
       "       CASH_ADVANCE_FREQUENCY  CASH_ADVANCE_TRX  PURCHASES_TRX  CREDIT_LIMIT  \\\n",
       "count             8950.000000       8950.000000    8950.000000   8949.000000   \n",
       "mean                 0.135144          3.248827      14.709832   4494.449450   \n",
       "std                  0.200121          6.824647      24.857649   3638.815725   \n",
       "min                  0.000000          0.000000       0.000000     50.000000   \n",
       "25%                  0.000000          0.000000       1.000000   1600.000000   \n",
       "50%                  0.000000          0.000000       7.000000   3000.000000   \n",
       "75%                  0.222222          4.000000      17.000000   6500.000000   \n",
       "max                  1.500000        123.000000     358.000000  30000.000000   \n",
       "\n",
       "           PAYMENTS  MINIMUM_PAYMENTS  PRC_FULL_PAYMENT       TENURE  \n",
       "count   8950.000000       8637.000000       8950.000000  8950.000000  \n",
       "mean    1733.143852        864.206542          0.153715    11.517318  \n",
       "std     2895.063757       2372.446607          0.292499     1.338331  \n",
       "min        0.000000          0.019163          0.000000     6.000000  \n",
       "25%      383.276166        169.123707          0.000000    12.000000  \n",
       "50%      856.901546        312.343947          0.000000    12.000000  \n",
       "75%     1901.134317        825.485459          0.142857    12.000000  \n",
       "max    50721.483360      76406.207520          1.000000    12.000000  "
      ]
     },
     "execution_count": 4,
     "metadata": {},
     "output_type": "execute_result"
    }
   ],
   "source": [
    "creditcard_df.describe()"
   ]
  },
  {
   "cell_type": "markdown",
   "id": "9fd81750-3ecd-4572-b0b2-3f4c652d1736",
   "metadata": {
    "slideshow": {
     "slide_type": "skip"
    }
   },
   "source": [
    "### Practice exercises for you\n",
    "\n",
    "1. What is the average `BALANCE` amount?\n",
    "2. How often the `BALANCE_FREQUENCY` is updated on average? \n",
    "3. Obtain the row the customer who made the maximum cash advance transaction. "
   ]
  },
  {
   "cell_type": "markdown",
   "id": "7102951d-9446-4a20-b89b-0112cd13f634",
   "metadata": {
    "slideshow": {
     "slide_type": "skip"
    }
   },
   "source": [
    "<br><br><br><br>"
   ]
  },
  {
   "cell_type": "markdown",
   "id": "703e623b-9f90-49a4-b9b6-5181b85456f6",
   "metadata": {
    "slideshow": {
     "slide_type": "skip"
    }
   },
   "source": [
    "### Mini exercises for you (Answers)\n",
    "\n",
    "1. What is the average `BALANCE` amount? 1564.47\n",
    "2. How often the `BALANCE_FREQUENCY` is updated on average? 0.877 (pretty often) \n",
    "3. Obtain the row of the customer who made the maximum cash advance transaction. "
   ]
  },
  {
   "cell_type": "code",
   "execution_count": 5,
   "id": "8b94202b-a87e-454b-9fef-a04949a35b86",
   "metadata": {},
   "outputs": [
    {
     "data": {
      "text/html": [
       "<div>\n",
       "<style scoped>\n",
       "    .dataframe tbody tr th:only-of-type {\n",
       "        vertical-align: middle;\n",
       "    }\n",
       "\n",
       "    .dataframe tbody tr th {\n",
       "        vertical-align: top;\n",
       "    }\n",
       "\n",
       "    .dataframe thead th {\n",
       "        text-align: right;\n",
       "    }\n",
       "</style>\n",
       "<table border=\"1\" class=\"dataframe\">\n",
       "  <thead>\n",
       "    <tr style=\"text-align: right;\">\n",
       "      <th></th>\n",
       "      <th>CUST_ID</th>\n",
       "      <th>BALANCE</th>\n",
       "      <th>BALANCE_FREQUENCY</th>\n",
       "      <th>PURCHASES</th>\n",
       "      <th>ONEOFF_PURCHASES</th>\n",
       "      <th>INSTALLMENTS_PURCHASES</th>\n",
       "      <th>CASH_ADVANCE</th>\n",
       "      <th>PURCHASES_FREQUENCY</th>\n",
       "      <th>ONEOFF_PURCHASES_FREQUENCY</th>\n",
       "      <th>PURCHASES_INSTALLMENTS_FREQUENCY</th>\n",
       "      <th>CASH_ADVANCE_FREQUENCY</th>\n",
       "      <th>CASH_ADVANCE_TRX</th>\n",
       "      <th>PURCHASES_TRX</th>\n",
       "      <th>CREDIT_LIMIT</th>\n",
       "      <th>PAYMENTS</th>\n",
       "      <th>MINIMUM_PAYMENTS</th>\n",
       "      <th>PRC_FULL_PAYMENT</th>\n",
       "      <th>TENURE</th>\n",
       "    </tr>\n",
       "  </thead>\n",
       "  <tbody>\n",
       "    <tr>\n",
       "      <th>2159</th>\n",
       "      <td>C12226</td>\n",
       "      <td>10905.05381</td>\n",
       "      <td>1.0</td>\n",
       "      <td>431.93</td>\n",
       "      <td>133.5</td>\n",
       "      <td>298.43</td>\n",
       "      <td>47137.21176</td>\n",
       "      <td>0.583333</td>\n",
       "      <td>0.25</td>\n",
       "      <td>0.5</td>\n",
       "      <td>1.0</td>\n",
       "      <td>123</td>\n",
       "      <td>21</td>\n",
       "      <td>19600.0</td>\n",
       "      <td>39048.59762</td>\n",
       "      <td>5394.173671</td>\n",
       "      <td>0.0</td>\n",
       "      <td>12</td>\n",
       "    </tr>\n",
       "  </tbody>\n",
       "</table>\n",
       "</div>"
      ],
      "text/plain": [
       "     CUST_ID      BALANCE  BALANCE_FREQUENCY  PURCHASES  ONEOFF_PURCHASES  \\\n",
       "2159  C12226  10905.05381                1.0     431.93             133.5   \n",
       "\n",
       "      INSTALLMENTS_PURCHASES  CASH_ADVANCE  PURCHASES_FREQUENCY  \\\n",
       "2159                  298.43   47137.21176             0.583333   \n",
       "\n",
       "      ONEOFF_PURCHASES_FREQUENCY  PURCHASES_INSTALLMENTS_FREQUENCY  \\\n",
       "2159                        0.25                               0.5   \n",
       "\n",
       "      CASH_ADVANCE_FREQUENCY  CASH_ADVANCE_TRX  PURCHASES_TRX  CREDIT_LIMIT  \\\n",
       "2159                     1.0               123             21       19600.0   \n",
       "\n",
       "         PAYMENTS  MINIMUM_PAYMENTS  PRC_FULL_PAYMENT  TENURE  \n",
       "2159  39048.59762       5394.173671               0.0      12  "
      ]
     },
     "execution_count": 5,
     "metadata": {},
     "output_type": "execute_result"
    }
   ],
   "source": [
    "# Answer 3.\n",
    "max_cash_advance = creditcard_df[\"CASH_ADVANCE\"].max()\n",
    "creditcard_df[creditcard_df[\"CASH_ADVANCE\"] == max_cash_advance]"
   ]
  },
  {
   "cell_type": "markdown",
   "id": "e4cedb5c-f897-41c0-b99e-df801f1c043f",
   "metadata": {
    "slideshow": {
     "slide_type": "slide"
    }
   },
   "source": [
    "Let's examine correlations between features. "
   ]
  },
  {
   "cell_type": "code",
   "execution_count": 6,
   "id": "495c8c40-c593-40f5-8218-dde57f970909",
   "metadata": {},
   "outputs": [
    {
     "ename": "ValueError",
     "evalue": "could not convert string to float: 'C10001'",
     "output_type": "error",
     "traceback": [
      "\u001b[0;31m---------------------------------------------------------------------------\u001b[0m",
      "\u001b[0;31mValueError\u001b[0m                                Traceback (most recent call last)",
      "Cell \u001b[0;32mIn[6], line 1\u001b[0m\n\u001b[0;32m----> 1\u001b[0m cor \u001b[38;5;241m=\u001b[39m \u001b[43mcreditcard_df\u001b[49m\u001b[38;5;241;43m.\u001b[39;49m\u001b[43mcorr\u001b[49m\u001b[43m(\u001b[49m\u001b[43m)\u001b[49m\n\u001b[1;32m      2\u001b[0m plt\u001b[38;5;241m.\u001b[39mfigure(figsize\u001b[38;5;241m=\u001b[39m(\u001b[38;5;241m20\u001b[39m, \u001b[38;5;241m10\u001b[39m))\n\u001b[1;32m      3\u001b[0m sns\u001b[38;5;241m.\u001b[39mset(font_scale\u001b[38;5;241m=\u001b[39m\u001b[38;5;241m1\u001b[39m)\n",
      "File \u001b[0;32m~/miniconda3/envs/cpsc330/lib/python3.10/site-packages/pandas/core/frame.py:10054\u001b[0m, in \u001b[0;36mDataFrame.corr\u001b[0;34m(self, method, min_periods, numeric_only)\u001b[0m\n\u001b[1;32m  10052\u001b[0m cols \u001b[38;5;241m=\u001b[39m data\u001b[38;5;241m.\u001b[39mcolumns\n\u001b[1;32m  10053\u001b[0m idx \u001b[38;5;241m=\u001b[39m cols\u001b[38;5;241m.\u001b[39mcopy()\n\u001b[0;32m> 10054\u001b[0m mat \u001b[38;5;241m=\u001b[39m \u001b[43mdata\u001b[49m\u001b[38;5;241;43m.\u001b[39;49m\u001b[43mto_numpy\u001b[49m\u001b[43m(\u001b[49m\u001b[43mdtype\u001b[49m\u001b[38;5;241;43m=\u001b[39;49m\u001b[38;5;28;43mfloat\u001b[39;49m\u001b[43m,\u001b[49m\u001b[43m \u001b[49m\u001b[43mna_value\u001b[49m\u001b[38;5;241;43m=\u001b[39;49m\u001b[43mnp\u001b[49m\u001b[38;5;241;43m.\u001b[39;49m\u001b[43mnan\u001b[49m\u001b[43m,\u001b[49m\u001b[43m \u001b[49m\u001b[43mcopy\u001b[49m\u001b[38;5;241;43m=\u001b[39;49m\u001b[38;5;28;43;01mFalse\u001b[39;49;00m\u001b[43m)\u001b[49m\n\u001b[1;32m  10056\u001b[0m \u001b[38;5;28;01mif\u001b[39;00m method \u001b[38;5;241m==\u001b[39m \u001b[38;5;124m\"\u001b[39m\u001b[38;5;124mpearson\u001b[39m\u001b[38;5;124m\"\u001b[39m:\n\u001b[1;32m  10057\u001b[0m     correl \u001b[38;5;241m=\u001b[39m libalgos\u001b[38;5;241m.\u001b[39mnancorr(mat, minp\u001b[38;5;241m=\u001b[39mmin_periods)\n",
      "File \u001b[0;32m~/miniconda3/envs/cpsc330/lib/python3.10/site-packages/pandas/core/frame.py:1838\u001b[0m, in \u001b[0;36mDataFrame.to_numpy\u001b[0;34m(self, dtype, copy, na_value)\u001b[0m\n\u001b[1;32m   1836\u001b[0m \u001b[38;5;28;01mif\u001b[39;00m dtype \u001b[38;5;129;01mis\u001b[39;00m \u001b[38;5;129;01mnot\u001b[39;00m \u001b[38;5;28;01mNone\u001b[39;00m:\n\u001b[1;32m   1837\u001b[0m     dtype \u001b[38;5;241m=\u001b[39m np\u001b[38;5;241m.\u001b[39mdtype(dtype)\n\u001b[0;32m-> 1838\u001b[0m result \u001b[38;5;241m=\u001b[39m \u001b[38;5;28;43mself\u001b[39;49m\u001b[38;5;241;43m.\u001b[39;49m\u001b[43m_mgr\u001b[49m\u001b[38;5;241;43m.\u001b[39;49m\u001b[43mas_array\u001b[49m\u001b[43m(\u001b[49m\u001b[43mdtype\u001b[49m\u001b[38;5;241;43m=\u001b[39;49m\u001b[43mdtype\u001b[49m\u001b[43m,\u001b[49m\u001b[43m \u001b[49m\u001b[43mcopy\u001b[49m\u001b[38;5;241;43m=\u001b[39;49m\u001b[43mcopy\u001b[49m\u001b[43m,\u001b[49m\u001b[43m \u001b[49m\u001b[43mna_value\u001b[49m\u001b[38;5;241;43m=\u001b[39;49m\u001b[43mna_value\u001b[49m\u001b[43m)\u001b[49m\n\u001b[1;32m   1839\u001b[0m \u001b[38;5;28;01mif\u001b[39;00m result\u001b[38;5;241m.\u001b[39mdtype \u001b[38;5;129;01mis\u001b[39;00m \u001b[38;5;129;01mnot\u001b[39;00m dtype:\n\u001b[1;32m   1840\u001b[0m     result \u001b[38;5;241m=\u001b[39m np\u001b[38;5;241m.\u001b[39marray(result, dtype\u001b[38;5;241m=\u001b[39mdtype, copy\u001b[38;5;241m=\u001b[39m\u001b[38;5;28;01mFalse\u001b[39;00m)\n",
      "File \u001b[0;32m~/miniconda3/envs/cpsc330/lib/python3.10/site-packages/pandas/core/internals/managers.py:1732\u001b[0m, in \u001b[0;36mBlockManager.as_array\u001b[0;34m(self, dtype, copy, na_value)\u001b[0m\n\u001b[1;32m   1730\u001b[0m         arr\u001b[38;5;241m.\u001b[39mflags\u001b[38;5;241m.\u001b[39mwriteable \u001b[38;5;241m=\u001b[39m \u001b[38;5;28;01mFalse\u001b[39;00m\n\u001b[1;32m   1731\u001b[0m \u001b[38;5;28;01melse\u001b[39;00m:\n\u001b[0;32m-> 1732\u001b[0m     arr \u001b[38;5;241m=\u001b[39m \u001b[38;5;28;43mself\u001b[39;49m\u001b[38;5;241;43m.\u001b[39;49m\u001b[43m_interleave\u001b[49m\u001b[43m(\u001b[49m\u001b[43mdtype\u001b[49m\u001b[38;5;241;43m=\u001b[39;49m\u001b[43mdtype\u001b[49m\u001b[43m,\u001b[49m\u001b[43m \u001b[49m\u001b[43mna_value\u001b[49m\u001b[38;5;241;43m=\u001b[39;49m\u001b[43mna_value\u001b[49m\u001b[43m)\u001b[49m\n\u001b[1;32m   1733\u001b[0m     \u001b[38;5;66;03m# The underlying data was copied within _interleave, so no need\u001b[39;00m\n\u001b[1;32m   1734\u001b[0m     \u001b[38;5;66;03m# to further copy if copy=True or setting na_value\u001b[39;00m\n\u001b[1;32m   1736\u001b[0m \u001b[38;5;28;01mif\u001b[39;00m na_value \u001b[38;5;129;01mis\u001b[39;00m \u001b[38;5;129;01mnot\u001b[39;00m lib\u001b[38;5;241m.\u001b[39mno_default:\n",
      "File \u001b[0;32m~/miniconda3/envs/cpsc330/lib/python3.10/site-packages/pandas/core/internals/managers.py:1794\u001b[0m, in \u001b[0;36mBlockManager._interleave\u001b[0;34m(self, dtype, na_value)\u001b[0m\n\u001b[1;32m   1792\u001b[0m     \u001b[38;5;28;01melse\u001b[39;00m:\n\u001b[1;32m   1793\u001b[0m         arr \u001b[38;5;241m=\u001b[39m blk\u001b[38;5;241m.\u001b[39mget_values(dtype)\n\u001b[0;32m-> 1794\u001b[0m     \u001b[43mresult\u001b[49m\u001b[43m[\u001b[49m\u001b[43mrl\u001b[49m\u001b[38;5;241;43m.\u001b[39;49m\u001b[43mindexer\u001b[49m\u001b[43m]\u001b[49m \u001b[38;5;241m=\u001b[39m arr\n\u001b[1;32m   1795\u001b[0m     itemmask[rl\u001b[38;5;241m.\u001b[39mindexer] \u001b[38;5;241m=\u001b[39m \u001b[38;5;241m1\u001b[39m\n\u001b[1;32m   1797\u001b[0m \u001b[38;5;28;01mif\u001b[39;00m \u001b[38;5;129;01mnot\u001b[39;00m itemmask\u001b[38;5;241m.\u001b[39mall():\n",
      "\u001b[0;31mValueError\u001b[0m: could not convert string to float: 'C10001'"
     ]
    }
   ],
   "source": [
    "cor = creditcard_df.corr()\n",
    "plt.figure(figsize=(20, 10))\n",
    "sns.set(font_scale=1)\n",
    "sns.heatmap(cor, annot=True, cmap=plt.cm.Blues);"
   ]
  },
  {
   "cell_type": "code",
   "execution_count": null,
   "id": "14c355db-9646-4ebd-a21e-66141e398259",
   "metadata": {},
   "outputs": [],
   "source": [
    "corr_df = (creditcard_df.corr('spearman').round(2))\n",
    "corr_df.style.background_gradient().set_precision(2)"
   ]
  },
  {
   "cell_type": "markdown",
   "id": "2dbca456-845e-449e-9502-dd5737767823",
   "metadata": {
    "slideshow": {
     "slide_type": "slide"
    }
   },
   "source": [
    "### Feature types and preprocessing \n",
    "\n",
    "Let's identify different feature types and transformations "
   ]
  },
  {
   "cell_type": "code",
   "execution_count": null,
   "id": "2ba99de1-2bec-407b-9186-ca6bac409ac2",
   "metadata": {},
   "outputs": [],
   "source": [
    "creditcard_df.columns"
   ]
  },
  {
   "cell_type": "code",
   "execution_count": null,
   "id": "a10afc32-214d-422a-b8df-91e763e348bc",
   "metadata": {},
   "outputs": [],
   "source": [
    "drop_features = [\"CUST_ID\"]\n",
    "numeric_features = list(set(creditcard_df.columns) - set(drop_features))"
   ]
  },
  {
   "cell_type": "code",
   "execution_count": null,
   "id": "1923376d-49d9-460a-9ba7-6302dc98e72e",
   "metadata": {},
   "outputs": [],
   "source": [
    "from sklearn.impute import SimpleImputer\n",
    "\n",
    "numeric_transformer = make_pipeline(SimpleImputer(), StandardScaler())\n",
    "\n",
    "preprocessor = make_column_transformer(\n",
    "    (numeric_transformer, numeric_features), (\"drop\", drop_features)\n",
    ")"
   ]
  },
  {
   "cell_type": "code",
   "execution_count": null,
   "id": "ceb23c2e-209a-4133-a548-351c0cad3ce6",
   "metadata": {
    "slideshow": {
     "slide_type": "slide"
    }
   },
   "outputs": [],
   "source": [
    "transformed_df = pd.DataFrame(\n",
    "    data=preprocessor.fit_transform(creditcard_df), columns=numeric_features\n",
    ")"
   ]
  },
  {
   "cell_type": "code",
   "execution_count": null,
   "id": "9300d396-1a67-42f1-bbc1-fde61bf121bd",
   "metadata": {},
   "outputs": [],
   "source": [
    "transformed_df"
   ]
  },
  {
   "cell_type": "markdown",
   "id": "a19d1776-e11d-43b4-a218-141ebf49b573",
   "metadata": {},
   "source": [
    "Now that we have transformed the data, we are ready to run K-Means to cluster credit card customers. "
   ]
  },
  {
   "cell_type": "markdown",
   "id": "29a2afeb-5efb-4cf7-9a86-3c8f4d1cd764",
   "metadata": {
    "slideshow": {
     "slide_type": "slide"
    }
   },
   "source": [
    "### Choosing `n_clusters`\n",
    "\n",
    "- There is no definitive method to find the optimal number of clusters. \n",
    "- Let's try different approaches. "
   ]
  },
  {
   "cell_type": "markdown",
   "id": "6710e776-bf87-4894-aae5-9058f18c09b1",
   "metadata": {},
   "source": [
    "### The Elbow method"
   ]
  },
  {
   "cell_type": "code",
   "execution_count": null,
   "id": "8ad45d74-31b7-4260-9455-1d241990290f",
   "metadata": {},
   "outputs": [],
   "source": [
    "model = KMeans(random_state=42, n_init='auto')\n",
    "visualizer = KElbowVisualizer(model, k=(1, 20))\n",
    "\n",
    "visualizer.fit(transformed_df)  # Fit the data to the visualizer\n",
    "visualizer.show();"
   ]
  },
  {
   "cell_type": "markdown",
   "id": "a124b19e-5488-488c-9e27-07cc597f6926",
   "metadata": {},
   "source": [
    "- The optimal number of clusters is not as clear as it was in our toy example. "
   ]
  },
  {
   "cell_type": "markdown",
   "id": "5e161841-fc11-4c7c-9e83-c11d975e22ac",
   "metadata": {
    "slideshow": {
     "slide_type": "slide"
    }
   },
   "source": [
    "- Let's examine Silhouette scores.  "
   ]
  },
  {
   "cell_type": "code",
   "execution_count": null,
   "id": "bc88c23a-9fcf-4dcd-8a4f-a02c2fc2b337",
   "metadata": {},
   "outputs": [],
   "source": [
    "for k in range(3, 6):\n",
    "    model = KMeans(k, random_state=42)\n",
    "    visualizer = SilhouetteVisualizer(model, colors=\"yellowbrick\")\n",
    "    visualizer.fit(transformed_df)  # Fit the data to the visualizer\n",
    "    visualizer.show()"
   ]
  },
  {
   "cell_type": "markdown",
   "id": "8cdbe3e1-801c-40a4-be00-9778491f6c67",
   "metadata": {
    "slideshow": {
     "slide_type": "slide"
    }
   },
   "source": [
    "- I'm going to run `KMeans` with `n_clusters = 4`. \n",
    "- You can try out `n_clusters = 5` and `n_clusters = 6` on your own. "
   ]
  },
  {
   "cell_type": "markdown",
   "id": "63819353-7fdd-437a-b5d5-4b1b37dab9c3",
   "metadata": {
    "slideshow": {
     "slide_type": "slide"
    }
   },
   "source": [
    "### Visualizing clusters \n",
    "\n",
    "- Can we visualize the clusters? \n",
    "- We have a high dimensional data and we need to reduce the dimensionality in order to visualize it. \n",
    "- Let's reduce the dimensionality using a technique called [UMAP](https://umap-learn.readthedocs.io/en/latest/index.html). "
   ]
  },
  {
   "cell_type": "markdown",
   "id": "889ce11d-ee46-4805-8b39-a38aa9237a32",
   "metadata": {},
   "source": [
    "I forgot to put this package in the course environment file. So to run the code below, you'll have to install the `umap-learn` package in the course conda environment either with `conda` or `pip`, as described in the [documentation](https://umap-learn.readthedocs.io/en/latest/index.html). \n",
    "\n",
    "```\n",
    "> conda activate 563\n",
    "> conda install -c conda-forge umap-learn\n",
    "```\n",
    "\n",
    "or \n",
    "\n",
    "```\n",
    "> conda activate 563\n",
    "> pip install umap-learn\n",
    "```\n"
   ]
  },
  {
   "cell_type": "code",
   "execution_count": null,
   "id": "627b7d9a-8ecc-4a82-bd44-f0d073966e50",
   "metadata": {},
   "outputs": [],
   "source": [
    "import umap"
   ]
  },
  {
   "cell_type": "code",
   "execution_count": null,
   "id": "85a6c49e-a076-4805-9370-5ed86a13ab2e",
   "metadata": {},
   "outputs": [],
   "source": [
    "def plot_umap_clusters(\n",
    "    data,\n",
    "    cluster_labels,\n",
    "    size=50,\n",
    "    n_neighbors=15,\n",
    "    title=\"UMAP visualization\",\n",
    "):\n",
    "    \"\"\"\n",
    "    Carry out dimensionality reduction using UMAP and plot 2-dimensional clusters.\n",
    "\n",
    "    Parameters\n",
    "    -----------\n",
    "    data : numpy array\n",
    "        data as a numpy array\n",
    "    cluster_labels : list\n",
    "        cluster labels for each row in the dataset\n",
    "    size : int\n",
    "        size of points in the scatterplot\n",
    "    n_neighbors : int\n",
    "        n_neighbors hyperparameter of UMAP. See the documentation.\n",
    "    title : str\n",
    "        title for the visualization plot\n",
    "\n",
    "    Returns\n",
    "    -----------\n",
    "    None. Shows the clusters.\n",
    "    \"\"\"\n",
    "\n",
    "    reducer = umap.UMAP(n_neighbors=n_neighbors)\n",
    "    Z = reducer.fit_transform(data)  # reduce dimensionality\n",
    "    umap_df = pd.DataFrame(data=Z, columns=[\"dim1\", \"dim2\"])\n",
    "    umap_df[\"cluster\"] = cluster_labels\n",
    "\n",
    "    labels = np.unique(umap_df[\"cluster\"])\n",
    "\n",
    "    fig, ax = plt.subplots(figsize=(10, 7))\n",
    "    ax.set_title(title)\n",
    "\n",
    "    scatter = ax.scatter(\n",
    "        umap_df[\"dim1\"],\n",
    "        umap_df[\"dim2\"],\n",
    "        c=umap_df[\"cluster\"],\n",
    "        cmap=\"tab20b\",\n",
    "        s=size,\n",
    "        edgecolors=\"k\",\n",
    "        linewidths=0.1,\n",
    "    )\n",
    "\n",
    "    legend = ax.legend(*scatter.legend_elements(), loc=\"best\", title=\"Clusters\")\n",
    "    ax.add_artist(legend)\n",
    "\n",
    "    plt.show()"
   ]
  },
  {
   "cell_type": "code",
   "execution_count": null,
   "id": "de4e089d-a664-4eb7-8199-3d98b68452ea",
   "metadata": {
    "slideshow": {
     "slide_type": "-"
    }
   },
   "outputs": [],
   "source": [
    "for k in range(3, 7):\n",
    "    kmeans = KMeans(n_clusters=k, random_state=42)\n",
    "    kmeans.fit(transformed_df)\n",
    "    labels = kmeans.labels_\n",
    "    plot_umap_clusters(transformed_df, kmeans.labels_, title=f\"K-Means with k = {k}\")"
   ]
  },
  {
   "cell_type": "markdown",
   "id": "c3e02010-5e90-475a-9acd-d3765c2d7fb9",
   "metadata": {},
   "source": [
    "- The clusters above look reasonably well separated. \n",
    "- This might not always be the case. "
   ]
  },
  {
   "cell_type": "markdown",
   "id": "37d2f83d-4cc4-43ba-bb76-0f5259d7819a",
   "metadata": {
    "slideshow": {
     "slide_type": "slide"
    }
   },
   "source": [
    "### Cluster interpretation\n",
    "\n",
    "- Let's examine the cluster centers for k=4 and identify types of customers.  "
   ]
  },
  {
   "cell_type": "code",
   "execution_count": null,
   "id": "1d343380-07e3-4d08-b5dd-98fbafd2f2ea",
   "metadata": {},
   "outputs": [],
   "source": [
    "reasonable_k = 4\n",
    "kmeans = KMeans(n_clusters=reasonable_k, random_state=42)\n",
    "kmeans.fit(transformed_df)\n",
    "labels = kmeans.labels_"
   ]
  },
  {
   "cell_type": "code",
   "execution_count": null,
   "id": "135b4c7e-f3ee-47e2-847e-c4c2ddb99246",
   "metadata": {},
   "outputs": [],
   "source": [
    "cluster_centers = pd.DataFrame(\n",
    "    data=kmeans.cluster_centers_, columns=[transformed_df.columns]\n",
    ")\n",
    "cluster_centers"
   ]
  },
  {
   "cell_type": "markdown",
   "id": "33e731f7-c26b-462d-ac65-98c40ca3f9d3",
   "metadata": {
    "slideshow": {
     "slide_type": "slide"
    }
   },
   "source": [
    "- Recall that we have applied imputation and scaling on the dataset. \n",
    "- But we would be able to interpret these clusters better if the centers are in the original scale. \n",
    "- So let's apply inverse transformations to get the cluster center values in the original scale. "
   ]
  },
  {
   "cell_type": "code",
   "execution_count": null,
   "id": "f8791bb3-9873-420d-87c0-a7ea0e727912",
   "metadata": {},
   "outputs": [],
   "source": [
    "data = (\n",
    "    preprocessor.named_transformers_[\"pipeline\"]\n",
    "    .named_steps[\"standardscaler\"]\n",
    "    .inverse_transform(cluster_centers[numeric_features])\n",
    ")"
   ]
  },
  {
   "cell_type": "code",
   "execution_count": null,
   "id": "3fc703af-068f-47a8-8c6a-1b278e4b5b04",
   "metadata": {
    "slideshow": {
     "slide_type": "slide"
    }
   },
   "outputs": [],
   "source": [
    "org_cluster_centers = pd.DataFrame(data=data, columns=numeric_features)\n",
    "org_cluster_centers = org_cluster_centers.reindex(\n",
    "    sorted(org_cluster_centers.columns), axis=1\n",
    ")\n",
    "org_cluster_centers"
   ]
  },
  {
   "cell_type": "code",
   "execution_count": null,
   "id": "94085ac7-f85b-4b8f-ade0-e2f7579de9a3",
   "metadata": {},
   "outputs": [],
   "source": [
    "cluster_labels = {0: \"Transactors\", 1: \"Revolvers\", 2: \"Low activity\", 3: \"VIP/Prime\"}\n",
    "org_cluster_centers[\"cluster_labels\"] = list(cluster_labels.values())"
   ]
  },
  {
   "cell_type": "code",
   "execution_count": null,
   "id": "607cb64a-1a92-4b8b-bd1d-20c53e2b9a92",
   "metadata": {},
   "outputs": [],
   "source": [
    "relevant_cols = [\n",
    "    \"cluster_labels\",\n",
    "    \"BALANCE\",\n",
    "    \"CREDIT_LIMIT\",\n",
    "    \"PRC_FULL_PAYMENT\",\n",
    "    \"PURCHASES_FREQUENCY\",\n",
    "    \"CASH_ADVANCE\",\n",
    "    \"CASH_ADVANCE_FREQUENCY\",\n",
    "    \"CASH_ADVANCE_TRX\",\n",
    "]\n",
    "org_cluster_centers[relevant_cols]"
   ]
  },
  {
   "cell_type": "markdown",
   "id": "bbbef704-1571-43f9-9321-7764ef2fba11",
   "metadata": {
    "jp-MarkdownHeadingCollapsed": true,
    "slideshow": {
     "slide_type": "-"
    },
    "tags": []
   },
   "source": [
    "One way to interpret and label the clusters above is as follows. \n",
    "\n",
    "#### Transactors\n",
    "- Credit card users who pay off their balance every month with least amount of interest charges. \n",
    "- They are careful with their money. \n",
    "- They have lowest balance and cash advance\n",
    "\n",
    "#### Revolvers\n",
    "- Credit card users who pay off only part of their monthly balance. They use credit card as a loan.  \n",
    "- They have highest balance and cash advance, high cash advance frequency, low purchase frequency, high cash advance transactions, low percentage of full payment\n",
    "- Their credit limit is also high. (Lucrative group for banks 😟.)\n",
    "\n",
    "#### Low activity\n",
    "- There is not much activity in the account. It has low balance and not many purchases. \n",
    "- Credit card users who have low credit limit.\n",
    "\n",
    "#### VIP/Prime\n",
    "- Credit card users who have high credit limit. \n",
    "- They have high one-off purchases frequency, high number of purchase transactions. \n",
    "- They have high balance but they also have higher percentage of full payment, similar to transactors\n",
    "- Target for increase credit limit (and increase spending habits)"
   ]
  },
  {
   "cell_type": "markdown",
   "id": "62fe892e-fbbb-4c07-b0a5-e7a33f71f151",
   "metadata": {
    "slideshow": {
     "slide_type": "slide"
    }
   },
   "source": [
    "### More on interpretation of clusters\n",
    "\n",
    "- In real life, you'll look through all features in detail before assigning meaning to clusters. \n",
    "- This is not that easy, especially when you have a large number of features and clusters. \n",
    "- One way to approach this would be visualizing the distribution of feature values for each cluster. \n",
    "- Some domain knowledge would definitely help at this stage.  "
   ]
  },
  {
   "cell_type": "code",
   "execution_count": null,
   "id": "d48def70-126e-4bb4-91e6-e66a4c5f713f",
   "metadata": {},
   "outputs": [],
   "source": [
    "creditcard_df['cluster'] = labels"
   ]
  },
  {
   "cell_type": "markdown",
   "id": "37b67b0f-877e-4ace-afeb-2d44efcc322a",
   "metadata": {},
   "source": [
    "Let's check the cluster assignment for the customer who made the maximum cash advance transaction. "
   ]
  },
  {
   "cell_type": "code",
   "execution_count": null,
   "id": "b4bad08f-5b6a-4b4e-be63-90ffe6d8386a",
   "metadata": {},
   "outputs": [],
   "source": [
    "creditcard_df[creditcard_df[\"CASH_ADVANCE\"] == max_cash_advance] "
   ]
  },
  {
   "cell_type": "markdown",
   "id": "669db0de-9fe3-4810-8a38-2cb88371a426",
   "metadata": {},
   "source": []
  },
  {
   "cell_type": "code",
   "execution_count": null,
   "id": "a26cb632-7cf7-4717-9f9a-57c044866f74",
   "metadata": {},
   "outputs": [],
   "source": [
    "def show_hists(df=creditcard_df, cols=[\"BALANCE\", \"CASH_ADVANCE\"]):\n",
    "    for i in cols:\n",
    "        plt.figure(figsize=(35, 5))\n",
    "        for j in range(4):\n",
    "            plt.subplot(1, 4, j + 1)\n",
    "            cluster = df[df[\"cluster\"] == j]\n",
    "            cluster[i].hist(bins=20)\n",
    "            plt.title(f\"{i}    \\nCluster: {cluster_labels[j]} \")\n",
    "\n",
    "        plt.show()"
   ]
  },
  {
   "cell_type": "code",
   "execution_count": null,
   "id": "ccc9cd13-6cad-4444-bf85-301afd8c8407",
   "metadata": {},
   "outputs": [],
   "source": [
    "show_hists() # Examining clusters for two features. "
   ]
  },
  {
   "cell_type": "code",
   "execution_count": null,
   "id": "84c4b0ea-76d5-4e65-8500-23d35b977148",
   "metadata": {},
   "outputs": [],
   "source": [
    "# Uncomment the code below to show histograms for all features. \n",
    "# cols = creditcard_df_cluster.columns.to_list()\n",
    "# cols.remove('CUST_ID')\n",
    "# cols.remove('cluster')\n",
    "# show_hists(creditcard_df_cluster, cols)"
   ]
  },
  {
   "cell_type": "markdown",
   "id": "08c694bd-e4f2-4663-ac92-9bc722afa655",
   "metadata": {
    "slideshow": {
     "slide_type": "slide"
    }
   },
   "source": [
    "### Practice exercise for you\n",
    "- Try out different values for `n_clusters` in `KMeans` and examine the clusters. \n",
    "- If you are feeling adventurous, you may try customer segmentation on [All Lending Club loan data](https://www.kaggle.com/wordsforthewise/lending-club). "
   ]
  }
 ],
 "metadata": {
  "kernelspec": {
   "display_name": "cpsc330",
   "language": "python",
   "name": "cpsc330"
  },
  "language_info": {
   "codemirror_mode": {
    "name": "ipython",
    "version": 3
   },
   "file_extension": ".py",
   "mimetype": "text/x-python",
   "name": "python",
   "nbconvert_exporter": "python",
   "pygments_lexer": "ipython3",
   "version": "3.10.0"
  }
 },
 "nbformat": 4,
 "nbformat_minor": 5
}
