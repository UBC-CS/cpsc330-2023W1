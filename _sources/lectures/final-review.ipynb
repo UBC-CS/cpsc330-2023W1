{
 "cells": [
  {
   "cell_type": "markdown",
   "id": "fccaa48b-de09-4a40-be2c-35ae0a9eeeac",
   "metadata": {
    "slideshow": {
     "slide_type": "slide"
    }
   },
   "source": [
    "![](img/330-banner.png)"
   ]
  },
  {
   "cell_type": "markdown",
   "id": "81698de4-5a49-4d43-9c6c-4dedba5ca83a",
   "metadata": {
    "slideshow": {
     "slide_type": "-"
    }
   },
   "source": [
    "# Final review guiding questions\n",
    "\n",
    "UBC 2023-24\n",
    "\n",
    "Instructor: Varada Kolhatkar"
   ]
  },
  {
   "cell_type": "markdown",
   "id": "3514acb8-3fde-4ef5-8a6c-81c1ec2b6237",
   "metadata": {},
   "source": [
    "- Which clustering method in what scenario?\n",
    "- What is unsupervised learning?\n",
    "- Why clustering and what is the problem of clustering?\n",
    "- What are the three methods of clustering we talked about?\n",
    "- What’s the difficulty in evaluation of clustering? How do we evaluate clusters?\n",
    "- What’s the problem of recommender systems?\n",
    "- What’s the utility matrix?\n",
    "- How do we evaluate recommender systems?\n",
    "- What are the baseline models we talked about?\n",
    "- What are the two recommender systems methods we talked about?\n",
    "- What are different document and word representations we talked about?\n",
    "- What do we care about creating different representations?\n",
    "- What are pre-trained models? Why are the benefits of using them?\n",
    "- What is topic modeling? What are the inputs and outputs of topic modeling?\n",
    "- What’s the difference between OVR and OVO?\n",
    "- What are the methods we saw to use pre-trained image classification models for our image classification tasks?\n",
    "- What is time series?\n",
    "- What’s wrong with using our usual `train_train_split` on time-series data?\n",
    "- What are lag features?\n",
    "- How can we forecast into the future?\n",
    "- What’s wrong with using binary classification models on right censored data?\n",
    "- What are different principles of good explanation?\n",
    "- What to watch out for when producing or consuming visualizations?"
   ]
  }
 ],
 "metadata": {
  "kernelspec": {
   "display_name": "cpsc330",
   "language": "python",
   "name": "cpsc330"
  },
  "language_info": {
   "codemirror_mode": {
    "name": "ipython",
    "version": 3
   },
   "file_extension": ".py",
   "mimetype": "text/x-python",
   "name": "python",
   "nbconvert_exporter": "python",
   "pygments_lexer": "ipython3",
   "version": "3.10.0"
  }
 },
 "nbformat": 4,
 "nbformat_minor": 5
}
