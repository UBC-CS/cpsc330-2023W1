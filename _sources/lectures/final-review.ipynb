{
 "cells": [
  {
   "cell_type": "markdown",
   "id": "fccaa48b-de09-4a40-be2c-35ae0a9eeeac",
   "metadata": {
    "slideshow": {
     "slide_type": "slide"
    }
   },
   "source": [
    "![](img/330-banner.png)"
   ]
  },
  {
   "cell_type": "markdown",
   "id": "81698de4-5a49-4d43-9c6c-4dedba5ca83a",
   "metadata": {
    "slideshow": {
     "slide_type": "-"
    }
   },
   "source": [
    "# Final review guiding questions \n",
    "\n",
    "UBC 2023-24\n",
    "\n",
    "Instructor: Varada Kolhatkar"
   ]
  },
  {
   "cell_type": "markdown",
   "id": "77a675dc-4b6f-4248-9cdf-d162d8c9567e",
   "metadata": {},
   "source": [
    "The final is going to be cumulative but in this review session, we'll focus on the post-midterm material. "
   ]
  },
  {
   "cell_type": "markdown",
   "id": "e4e80704-8bca-4e1d-9f17-63615ec4e66b",
   "metadata": {},
   "source": [
    "### Clustering \n",
    "- Why clustering and what is the problem of clustering?\n",
    "- Compare and contrast different clustering methods.\n",
    "- What’s the difficulty in evaluation of clustering? How do we evaluate clusters?"
   ]
  },
  {
   "cell_type": "markdown",
   "id": "4247910d-8f33-4636-87cd-83d0aa6c30e7",
   "metadata": {},
   "source": [
    "|     Scenario           | Which clustering method? | \n",
    "|------------------------|--------------------------|\n",
    "| Well-separated spherical clusters  |  |\n",
    "| Large datasets    |  | \n",
    "| Flexibility with cluster shapes  |  | \n",
    "| Small to medium datasets  |  | \n",
    "| Prior knowlege on how many clusters   |  | \n",
    "| Clusters are roughly of equal size   |  | \n",
    "| Irregularly shaped clusters   |  | \n",
    "| Clusters with different densities  |  | \n",
    "| Datasets with hierarchical relationships  |  | \n",
    "| No prior knowledge on number of clusters  |  | \n",
    "| Noise and outliers   |  | "
   ]
  },
  {
   "cell_type": "markdown",
   "id": "f618f63b-cfff-4b98-ab5a-03a4b5d088a9",
   "metadata": {},
   "source": [
    "- Which clustering method would you use in each of the scenarios below? Why?\n",
    "- How would you represent the data in each case? \n",
    "    - Scenario 1: Customer segmentation in retail\n",
    "    - Scenario 2: An environmental study aiming to identify clusters of a rare plant species\n",
    "    - Scenario 3: Clustering furniture items for inventory management and customer recommendations"
   ]
  },
  {
   "cell_type": "markdown",
   "id": "268ce357-8124-404d-9b14-3896b3d0bc63",
   "metadata": {},
   "source": [
    "- How to decide the number of clusters? \n",
    "- What’s the difficulty in evaluation of clustering? How do we evaluate clusters?"
   ]
  },
  {
   "cell_type": "markdown",
   "id": "fe978d2b-fced-40b2-ad35-b9a358bc03f9",
   "metadata": {},
   "source": [
    "### Recommender systems \n",
    "- What’s the utility matrix?\n",
    "- How do we evaluate recommender systems?\n",
    "- What are the baseline models we talked about?\n",
    "    - Global average\n",
    "    - Per user average\n",
    "    - Per item average\n",
    "- Evaluation of recommender systems\n",
    "- Compare and contrast KNN Imputer, collaborative filtering, and content-based filtering \n",
    "- Ethical issues associated with recommender systems "
   ]
  },
  {
   "cell_type": "markdown",
   "id": "ec9fa25f-946f-4f20-b2b6-95736fa48445",
   "metadata": {},
   "source": [
    "### Introduction to NLP \n",
    "\n",
    "- Embeddings\n",
    "    - What are different document and word representations we talked about?\n",
    "    - Why do we care about creating different representations?\n",
    "    - What are pre-trained models? Why are the benefits of using them?\n",
    "- Topic modeling \n",
    "    - What is topic modeling? What are the inputs and outputs of topic modeling?\n",
    "    - How it's different from clustering documents using a clustering model, say KMeans?\n",
    "- Text Preprocessing\n"
   ]
  },
  {
   "cell_type": "markdown",
   "id": "5f40b693-aa61-4f69-ab41-1418fccc99cc",
   "metadata": {},
   "source": [
    "### Multiclass classification and computer vision \n",
    "- What’s the difference between OVR and OVO?\n",
    "- What are the methods we saw to use pre-trained image classification models for our image classification tasks?\n",
    "    - Out of the box\n",
    "    - Using pre-trained models as feature extractors\n",
    "    - Fine-tuning pre-trained models for our task (only mentioned) "
   ]
  },
  {
   "cell_type": "markdown",
   "id": "ef27986e-521a-487b-84c3-e62f029e3b30",
   "metadata": {},
   "source": [
    "How would you use pre-trained model in each case below? \n",
    "- Imagine you want to quickly develop a prototype for an app that can identify different cat breeds from photos. \n",
    "- Suppose you're working on a project to predict the city in Canada based on the photos of landmarks in the city, a task for which there's limited training data available.\n",
    "- Suppose you're developing a system to diagnose specific types of tumors from MRI scans. "
   ]
  },
  {
   "cell_type": "markdown",
   "id": "7c3c8d4b-76f2-4278-9232-0f6a28501df0",
   "metadata": {},
   "source": [
    "### Time series\n",
    "\n",
    "- When is time series analysis appropriate? \n",
    "    - Time series analysis is used when there is a temporal aspect in the data.\n",
    "- **Data splitting**: Data should be split based on time to avoid future data leaking into the training set.\n",
    "- **Essential questions for Exploratory Data Analysis (EDA)**:\n",
    "    - What is the frequency of data collection (e.g., hourly, daily)?\n",
    "    - How many time series are present within the dataset?\n",
    "    - Are there any gaps or missing values in the data?\n",
    "- **Feature engineering**\n",
    "    - Derived new features from the date/time column.\n",
    "    - Appropriately encoded features based on the chosen model.\n",
    "    - Created lag features to incorporate past values for prediction.\n",
    "- **Baseline model approach**: Employ a simple model, such as using today's target value to predict tomorrow's, as a starting point for comparison.\n",
    "- **Cross-Validation Method for Time Series**: In `sklearn`, use `TimeSeriesSplit` as the `cv` parameter in functions like `cross_validate` or `cross_val_score` for time-appropriate validation.\n",
    "- **Strategies for long-term forecasting**:\n",
    "    - Generate forecasts for sequential time steps by assuming the predictions for the previous steps are accurate. \n",
    "- **Trends** \n",
    "    - A 'days since' feature to capture the trend over time"
   ]
  },
  {
   "cell_type": "markdown",
   "id": "ba774c9b-7865-4ecc-b2ab-2e1276edf6ea",
   "metadata": {},
   "source": [
    "### Survival analysis \n",
    "- What is right-censored data?\n",
    "- What happens when we treat right-censored data the same as \"regular\" data?\n",
    "    - Predicting churn vs. no churn\n",
    "    - Predicting tenure\n",
    "        - Throw away people who haven't churned\n",
    "        - Assume everyone churns today\n",
    "- Survival analysis encompasses predicting both churn and tenure and deals with censoring and can make rich and useful predictions!\n",
    "    - We can get survival curves which show the probability of survival over time.\n",
    "    - KM model $\\rightarrow$ doesn't look at features\n",
    "    - CPH model $\\rightarrow$ like linear regression, does look at the features and provides coefficients associated with each feature"
   ]
  },
  {
   "cell_type": "markdown",
   "id": "3514acb8-3fde-4ef5-8a6c-81c1ec2b6237",
   "metadata": {},
   "source": [
    "### Communication \n",
    "- Why is communication important in ML and Data Science? \n",
    "- What are different principles of good explanation?\n",
    "- What to watch out for when producing or consuming visualizations?"
   ]
  },
  {
   "cell_type": "markdown",
   "id": "95151429-493e-4891-8e1a-a0174a260cee",
   "metadata": {},
   "source": [
    "### Ethics\n",
    "- Bias and fairness"
   ]
  },
  {
   "cell_type": "markdown",
   "id": "53f61364-0bf2-4e74-a85a-1c222b123bf7",
   "metadata": {},
   "source": [
    "### Deployment\n",
    "\n",
    "- Deploying a model as a web app\n",
    "- Deploying a model as a REST API"
   ]
  },
  {
   "cell_type": "code",
   "execution_count": null,
   "id": "70a077f4-2362-482b-b65d-5ed815fb6dba",
   "metadata": {},
   "outputs": [],
   "source": []
  }
 ],
 "metadata": {
  "kernelspec": {
   "display_name": "cpsc330",
   "language": "python",
   "name": "cpsc330"
  },
  "language_info": {
   "codemirror_mode": {
    "name": "ipython",
    "version": 3
   },
   "file_extension": ".py",
   "mimetype": "text/x-python",
   "name": "python",
   "nbconvert_exporter": "python",
   "pygments_lexer": "ipython3",
   "version": "3.10.0"
  }
 },
 "nbformat": 4,
 "nbformat_minor": 5
}
