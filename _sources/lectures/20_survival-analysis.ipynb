{
 "cells": [
  {
   "cell_type": "markdown",
   "metadata": {
    "slideshow": {
     "slide_type": "slide"
    }
   },
   "source": [
    "![](img/330-banner.png)"
   ]
  },
  {
   "cell_type": "markdown",
   "metadata": {
    "slideshow": {
     "slide_type": "-"
    }
   },
   "source": [
    "# Lecture 20: Survival analysis \n",
    "\n",
    "UBC 2023-24\n",
    "\n",
    "Instructor: Varada Kolhatkar and Andrew Roth"
   ]
  },
  {
   "cell_type": "markdown",
   "metadata": {
    "slideshow": {
     "slide_type": "skip"
    }
   },
   "source": [
    "## Imports"
   ]
  },
  {
   "cell_type": "code",
   "execution_count": 1,
   "metadata": {
    "slideshow": {
     "slide_type": "skip"
    }
   },
   "outputs": [],
   "source": [
    "import matplotlib.pyplot as plt\n",
    "import numpy as np\n",
    "\n",
    "import pandas as pd\n",
    "from sklearn.compose import ColumnTransformer, make_column_transformer\n",
    "from sklearn.dummy import DummyClassifier\n",
    "from sklearn.ensemble import RandomForestClassifier, RandomForestRegressor\n",
    "from sklearn.impute import SimpleImputer\n",
    "from sklearn.linear_model import LogisticRegression, Ridge\n",
    "from sklearn.metrics import confusion_matrix\n",
    "from sklearn.model_selection import (\n",
    "    cross_val_predict,\n",
    "    cross_val_score,\n",
    "    cross_validate,\n",
    "    train_test_split,\n",
    ")\n",
    "from sklearn.pipeline import Pipeline, make_pipeline\n",
    "from sklearn.preprocessing import (\n",
    "    FunctionTransformer,\n",
    "    OneHotEncoder,\n",
    "    OrdinalEncoder,\n",
    "    StandardScaler,\n",
    ")\n",
    "import sys\n",
    "import os\n",
    "\n",
    "sys.path.append(os.path.join(os.path.abspath(\".\"), \"code\"))\n",
    "from utils import *\n",
    "\n",
    "plt.rcParams[\"font.size\"] = 12\n",
    "\n",
    "# does lifelines try to mess with this?\n",
    "pd.options.display.max_rows = 10\n",
    "\n",
    "import warnings\n",
    "warnings.filterwarnings('default')"
   ]
  },
  {
   "cell_type": "code",
   "execution_count": 2,
   "metadata": {
    "slideshow": {
     "slide_type": "slide"
    }
   },
   "outputs": [],
   "source": [
    "import lifelines"
   ]
  },
  {
   "cell_type": "markdown",
   "metadata": {
    "slideshow": {
     "slide_type": "skip"
    }
   },
   "source": [
    "## Learning objectives\n",
    "\n",
    "- Explain what is right-censored data. \n",
    "- Explain the problem with treating right-censored data the same as \"regular\" data.\n",
    "- Determine whether survival analysis is an appropriate tool for a given problem.\n",
    "- Apply survival analysis in Python using the `lifelines` package.\n",
    "- Interpret a survival curve, such as the Kaplan-Meier curve.\n",
    "- Interpret the coefficients of a fitted Cox proportional hazards model.\n",
    "- Make predictions for existing individuals and interpret these predictions."
   ]
  },
  {
   "cell_type": "markdown",
   "metadata": {
    "slideshow": {
     "slide_type": "slide"
    }
   },
   "source": [
    "## ❓❓ Questions for you"
   ]
  },
  {
   "cell_type": "markdown",
   "metadata": {
    "slideshow": {
     "slide_type": "-"
    }
   },
   "source": [
    "### (iClicker) Exercise 20.1 \n",
    "\n",
    "**iClicker cloud join link: https://join.iclicker.com/SNBF**\n",
    "\n",
    "**Select all of the following statements which are TRUE.**\n",
    "\n",
    "- (A) We need to be careful when splitting the data when working with time series data. \n",
    "- (B) Cross-validation in time series can be randomly applied like in other machine learning tasks.\n",
    "- (C) In time series forecasting, the future value of a series can only be predicted based on its past values and cannot incorporate other variables.\n",
    "- (D) When we used `RandomForestRegressor` model on the POSIX time feature, it predicted a straight line on the test data because tree-based models are inherently unable to extrapolate (i.e., make predictions outside the range of the training data).\n",
    "<br><br><br><br>"
   ]
  },
  {
   "cell_type": "markdown",
   "metadata": {},
   "source": [
    "## Recap \n",
    "\n",
    "- Time series analysis is used when there is a temporal aspect in the data.\n",
    "- **Data splitting**: Data should be split based on time to avoid future data leaking into the training set.\n",
    "- **Essential questions for Exploratory Data Analysis (EDA)**:\n",
    "    - What is the frequency of data collection (e.g., hourly, daily)?\n",
    "    - How many time series are present within the dataset?\n",
    "    - Are there any gaps or missing values in the data?\n",
    "- **Feature engineering**\n",
    "    - Derived new features from the date/time column.\n",
    "    - Appropriately encoded features based on the chosen model.\n",
    "    - Created lag features to incorporate past values for prediction.\n",
    "- **Baseline model approach**: Employ a simple model, such as using today's target value to predict tomorrow's, as a starting point for comparison.\n",
    "- **Cross-Validation Method for Time Series**: In `sklearn`, use `TimeSeriesSplit` as the `cv` parameter in functions like `cross_validate` or `cross_val_score` for time-appropriate validation.\n",
    "- **Strategies for long-term forecasting**:\n",
    "    - Generate forecasts for sequential time steps by assuming the predictions for the previous steps are accurate. \n",
    "- **Trends** \n",
    "    - A 'days since' feature to capture the trend over time"
   ]
  },
  {
   "cell_type": "markdown",
   "metadata": {},
   "source": [
    "<br><br><br><br>"
   ]
  },
  {
   "cell_type": "markdown",
   "metadata": {
    "slideshow": {
     "slide_type": "slide"
    }
   },
   "source": [
    "## Customer churn"
   ]
  },
  {
   "cell_type": "markdown",
   "metadata": {},
   "source": [
    "- Customer churn, also known as customer attrition, refers to the phenomenon where customers or subscribers stop doing business with a company or service.\n",
    "- The bar-chart below is showing the monthly subscriber churn rates for various streaming services. "
   ]
  },
  {
   "cell_type": "markdown",
   "metadata": {},
   "source": [
    "![](img/subscriber-churn.png)"
   ]
  },
  {
   "cell_type": "markdown",
   "metadata": {},
   "source": [
    "- Imagine that you are working for a subscription-based telecom company. \n",
    "- They want to predict when a specific customer will churn so that they can come up with \n",
    "retention strategies for different customer segments.\n",
    "- We want to model \"time to churn\" to understand different factors affecting customer churn.   \n",
    "- Is it possible to use machine learning to predict whether a specific customer will churn?"
   ]
  },
  {
   "cell_type": "markdown",
   "metadata": {},
   "source": [
    "Let's work with this dataset [Customer Churn Dataset](https://www.kaggle.com/blastchar/telco-customer-churn), which is collected at a fixed time. "
   ]
  },
  {
   "cell_type": "code",
   "execution_count": 3,
   "metadata": {
    "slideshow": {
     "slide_type": "slide"
    }
   },
   "outputs": [
    {
     "data": {
      "text/html": [
       "<div>\n",
       "<style scoped>\n",
       "    .dataframe tbody tr th:only-of-type {\n",
       "        vertical-align: middle;\n",
       "    }\n",
       "\n",
       "    .dataframe tbody tr th {\n",
       "        vertical-align: top;\n",
       "    }\n",
       "\n",
       "    .dataframe thead th {\n",
       "        text-align: right;\n",
       "    }\n",
       "</style>\n",
       "<table border=\"1\" class=\"dataframe\">\n",
       "  <thead>\n",
       "    <tr style=\"text-align: right;\">\n",
       "      <th></th>\n",
       "      <th>customerID</th>\n",
       "      <th>gender</th>\n",
       "      <th>SeniorCitizen</th>\n",
       "      <th>Partner</th>\n",
       "      <th>Dependents</th>\n",
       "      <th>tenure</th>\n",
       "      <th>PhoneService</th>\n",
       "      <th>MultipleLines</th>\n",
       "      <th>InternetService</th>\n",
       "      <th>OnlineSecurity</th>\n",
       "      <th>...</th>\n",
       "      <th>DeviceProtection</th>\n",
       "      <th>TechSupport</th>\n",
       "      <th>StreamingTV</th>\n",
       "      <th>StreamingMovies</th>\n",
       "      <th>Contract</th>\n",
       "      <th>PaperlessBilling</th>\n",
       "      <th>PaymentMethod</th>\n",
       "      <th>MonthlyCharges</th>\n",
       "      <th>TotalCharges</th>\n",
       "      <th>Churn</th>\n",
       "    </tr>\n",
       "  </thead>\n",
       "  <tbody>\n",
       "    <tr>\n",
       "      <th>6464</th>\n",
       "      <td>4726-DLWQN</td>\n",
       "      <td>Male</td>\n",
       "      <td>1</td>\n",
       "      <td>No</td>\n",
       "      <td>No</td>\n",
       "      <td>50</td>\n",
       "      <td>Yes</td>\n",
       "      <td>Yes</td>\n",
       "      <td>DSL</td>\n",
       "      <td>Yes</td>\n",
       "      <td>...</td>\n",
       "      <td>No</td>\n",
       "      <td>No</td>\n",
       "      <td>Yes</td>\n",
       "      <td>No</td>\n",
       "      <td>Month-to-month</td>\n",
       "      <td>Yes</td>\n",
       "      <td>Bank transfer (automatic)</td>\n",
       "      <td>70.35</td>\n",
       "      <td>3454.6</td>\n",
       "      <td>No</td>\n",
       "    </tr>\n",
       "    <tr>\n",
       "      <th>5707</th>\n",
       "      <td>4537-DKTAL</td>\n",
       "      <td>Female</td>\n",
       "      <td>0</td>\n",
       "      <td>No</td>\n",
       "      <td>No</td>\n",
       "      <td>2</td>\n",
       "      <td>Yes</td>\n",
       "      <td>No</td>\n",
       "      <td>DSL</td>\n",
       "      <td>No</td>\n",
       "      <td>...</td>\n",
       "      <td>No</td>\n",
       "      <td>No</td>\n",
       "      <td>No</td>\n",
       "      <td>No</td>\n",
       "      <td>Month-to-month</td>\n",
       "      <td>No</td>\n",
       "      <td>Electronic check</td>\n",
       "      <td>45.55</td>\n",
       "      <td>84.4</td>\n",
       "      <td>No</td>\n",
       "    </tr>\n",
       "    <tr>\n",
       "      <th>3442</th>\n",
       "      <td>0468-YRPXN</td>\n",
       "      <td>Male</td>\n",
       "      <td>0</td>\n",
       "      <td>No</td>\n",
       "      <td>No</td>\n",
       "      <td>29</td>\n",
       "      <td>Yes</td>\n",
       "      <td>No</td>\n",
       "      <td>Fiber optic</td>\n",
       "      <td>No</td>\n",
       "      <td>...</td>\n",
       "      <td>Yes</td>\n",
       "      <td>Yes</td>\n",
       "      <td>Yes</td>\n",
       "      <td>Yes</td>\n",
       "      <td>Month-to-month</td>\n",
       "      <td>Yes</td>\n",
       "      <td>Credit card (automatic)</td>\n",
       "      <td>98.80</td>\n",
       "      <td>2807.1</td>\n",
       "      <td>No</td>\n",
       "    </tr>\n",
       "    <tr>\n",
       "      <th>3932</th>\n",
       "      <td>1304-NECVQ</td>\n",
       "      <td>Female</td>\n",
       "      <td>1</td>\n",
       "      <td>No</td>\n",
       "      <td>No</td>\n",
       "      <td>2</td>\n",
       "      <td>Yes</td>\n",
       "      <td>Yes</td>\n",
       "      <td>Fiber optic</td>\n",
       "      <td>No</td>\n",
       "      <td>...</td>\n",
       "      <td>Yes</td>\n",
       "      <td>No</td>\n",
       "      <td>No</td>\n",
       "      <td>No</td>\n",
       "      <td>Month-to-month</td>\n",
       "      <td>Yes</td>\n",
       "      <td>Electronic check</td>\n",
       "      <td>78.55</td>\n",
       "      <td>149.55</td>\n",
       "      <td>Yes</td>\n",
       "    </tr>\n",
       "    <tr>\n",
       "      <th>6124</th>\n",
       "      <td>7153-CHRBV</td>\n",
       "      <td>Female</td>\n",
       "      <td>0</td>\n",
       "      <td>Yes</td>\n",
       "      <td>Yes</td>\n",
       "      <td>57</td>\n",
       "      <td>Yes</td>\n",
       "      <td>No</td>\n",
       "      <td>DSL</td>\n",
       "      <td>Yes</td>\n",
       "      <td>...</td>\n",
       "      <td>Yes</td>\n",
       "      <td>Yes</td>\n",
       "      <td>No</td>\n",
       "      <td>No</td>\n",
       "      <td>One year</td>\n",
       "      <td>Yes</td>\n",
       "      <td>Mailed check</td>\n",
       "      <td>59.30</td>\n",
       "      <td>3274.35</td>\n",
       "      <td>No</td>\n",
       "    </tr>\n",
       "  </tbody>\n",
       "</table>\n",
       "<p>5 rows × 21 columns</p>\n",
       "</div>"
      ],
      "text/plain": [
       "      customerID  gender  SeniorCitizen Partner Dependents  tenure  \\\n",
       "6464  4726-DLWQN    Male              1      No         No      50   \n",
       "5707  4537-DKTAL  Female              0      No         No       2   \n",
       "3442  0468-YRPXN    Male              0      No         No      29   \n",
       "3932  1304-NECVQ  Female              1      No         No       2   \n",
       "6124  7153-CHRBV  Female              0     Yes        Yes      57   \n",
       "\n",
       "     PhoneService MultipleLines InternetService OnlineSecurity  ...  \\\n",
       "6464          Yes           Yes             DSL            Yes  ...   \n",
       "5707          Yes            No             DSL             No  ...   \n",
       "3442          Yes            No     Fiber optic             No  ...   \n",
       "3932          Yes           Yes     Fiber optic             No  ...   \n",
       "6124          Yes            No             DSL            Yes  ...   \n",
       "\n",
       "     DeviceProtection TechSupport StreamingTV StreamingMovies        Contract  \\\n",
       "6464               No          No         Yes              No  Month-to-month   \n",
       "5707               No          No          No              No  Month-to-month   \n",
       "3442              Yes         Yes         Yes             Yes  Month-to-month   \n",
       "3932              Yes          No          No              No  Month-to-month   \n",
       "6124              Yes         Yes          No              No        One year   \n",
       "\n",
       "     PaperlessBilling              PaymentMethod MonthlyCharges  TotalCharges  \\\n",
       "6464              Yes  Bank transfer (automatic)          70.35        3454.6   \n",
       "5707               No           Electronic check          45.55          84.4   \n",
       "3442              Yes    Credit card (automatic)          98.80        2807.1   \n",
       "3932              Yes           Electronic check          78.55        149.55   \n",
       "6124              Yes               Mailed check          59.30       3274.35   \n",
       "\n",
       "     Churn  \n",
       "6464    No  \n",
       "5707    No  \n",
       "3442    No  \n",
       "3932   Yes  \n",
       "6124    No  \n",
       "\n",
       "[5 rows x 21 columns]"
      ]
     },
     "execution_count": 3,
     "metadata": {},
     "output_type": "execute_result"
    }
   ],
   "source": [
    "df = pd.read_csv(\"data/WA_Fn-UseC_-Telco-Customer-Churn.csv\")\n",
    "train_df, test_df = train_test_split(df, random_state=123)\n",
    "train_df.head()"
   ]
  },
  {
   "cell_type": "markdown",
   "metadata": {},
   "source": [
    "- We are interested in predicting customer churn: the \"Churn\" column.  \n",
    "- How will you approach this problem with the approaches we have seen so far? \n",
    "- How about treating this as a binary classification problem where we want to predict `Churn` (yes/no) from these -other columns.\n",
    "- Before we look into survival analysis, let's just treat it as a binary classification model where we want to predict whether a customer churned or not. "
   ]
  },
  {
   "cell_type": "code",
   "execution_count": 4,
   "metadata": {
    "slideshow": {
     "slide_type": "slide"
    }
   },
   "outputs": [
    {
     "data": {
      "text/plain": [
       "(5282, 21)"
      ]
     },
     "execution_count": 4,
     "metadata": {},
     "output_type": "execute_result"
    }
   ],
   "source": [
    "train_df.shape"
   ]
  },
  {
   "cell_type": "code",
   "execution_count": 5,
   "metadata": {
    "slideshow": {
     "slide_type": "-"
    }
   },
   "outputs": [
    {
     "data": {
      "text/plain": [
       "Churn\n",
       "No     3912\n",
       "Yes    1370\n",
       "Name: count, dtype: int64"
      ]
     },
     "execution_count": 5,
     "metadata": {},
     "output_type": "execute_result"
    }
   ],
   "source": [
    "train_df[\"Churn\"].value_counts()"
   ]
  },
  {
   "cell_type": "code",
   "execution_count": 6,
   "metadata": {
    "slideshow": {
     "slide_type": "-"
    }
   },
   "outputs": [
    {
     "name": "stdout",
     "output_type": "stream",
     "text": [
      "<class 'pandas.core.frame.DataFrame'>\n",
      "Index: 5282 entries, 6464 to 3582\n",
      "Data columns (total 21 columns):\n",
      " #   Column            Non-Null Count  Dtype  \n",
      "---  ------            --------------  -----  \n",
      " 0   customerID        5282 non-null   object \n",
      " 1   gender            5282 non-null   object \n",
      " 2   SeniorCitizen     5282 non-null   int64  \n",
      " 3   Partner           5282 non-null   object \n",
      " 4   Dependents        5282 non-null   object \n",
      " 5   tenure            5282 non-null   int64  \n",
      " 6   PhoneService      5282 non-null   object \n",
      " 7   MultipleLines     5282 non-null   object \n",
      " 8   InternetService   5282 non-null   object \n",
      " 9   OnlineSecurity    5282 non-null   object \n",
      " 10  OnlineBackup      5282 non-null   object \n",
      " 11  DeviceProtection  5282 non-null   object \n",
      " 12  TechSupport       5282 non-null   object \n",
      " 13  StreamingTV       5282 non-null   object \n",
      " 14  StreamingMovies   5282 non-null   object \n",
      " 15  Contract          5282 non-null   object \n",
      " 16  PaperlessBilling  5282 non-null   object \n",
      " 17  PaymentMethod     5282 non-null   object \n",
      " 18  MonthlyCharges    5282 non-null   float64\n",
      " 19  TotalCharges      5282 non-null   object \n",
      " 20  Churn             5282 non-null   object \n",
      "dtypes: float64(1), int64(2), object(18)\n",
      "memory usage: 907.8+ KB\n"
     ]
    }
   ],
   "source": [
    "train_df.info()"
   ]
  },
  {
   "cell_type": "markdown",
   "metadata": {},
   "source": [
    "Question: Does this mean there is no missing data?"
   ]
  },
  {
   "cell_type": "markdown",
   "metadata": {
    "slideshow": {
     "slide_type": "slide"
    }
   },
   "source": [
    "Ok, let's try our usual approach:"
   ]
  },
  {
   "cell_type": "code",
   "execution_count": 7,
   "metadata": {},
   "outputs": [
    {
     "data": {
      "text/plain": [
       "SeniorCitizen\n",
       "0    4430\n",
       "1     852\n",
       "Name: count, dtype: int64"
      ]
     },
     "execution_count": 7,
     "metadata": {},
     "output_type": "execute_result"
    }
   ],
   "source": [
    "train_df[\"SeniorCitizen\"].value_counts()"
   ]
  },
  {
   "cell_type": "code",
   "execution_count": 8,
   "metadata": {
    "slideshow": {
     "slide_type": "slide"
    }
   },
   "outputs": [],
   "source": [
    "numeric_features = [\"tenure\", \"MonthlyCharges\", \"TotalCharges\"]\n",
    "drop_features = [\"customerID\"]\n",
    "passthrough_features = [\"SeniorCitizen\"]\n",
    "target_column = [\"Churn\"]\n",
    "# the rest are categorical\n",
    "categorical_features = list(\n",
    "    set(train_df.columns)\n",
    "    - set(numeric_features)\n",
    "    - set(passthrough_features)\n",
    "    - set(drop_features)\n",
    "    - set(target_column)\n",
    ")"
   ]
  },
  {
   "cell_type": "code",
   "execution_count": 9,
   "metadata": {},
   "outputs": [],
   "source": [
    "preprocessor = make_column_transformer(\n",
    "    (StandardScaler(), numeric_features),\n",
    "    (OneHotEncoder(), categorical_features),\n",
    "    (\"passthrough\", passthrough_features),\n",
    "    (\"drop\", drop_features),\n",
    ")"
   ]
  },
  {
   "cell_type": "code",
   "execution_count": 10,
   "metadata": {
    "slideshow": {
     "slide_type": "slide"
    },
    "tags": [
     "raises-exception"
    ]
   },
   "outputs": [],
   "source": [
    "# preprocessor.fit(train_df);"
   ]
  },
  {
   "cell_type": "markdown",
   "metadata": {
    "slideshow": {
     "slide_type": "slide"
    }
   },
   "source": [
    "Hmmm, one of the numeric features is causing problems?"
   ]
  },
  {
   "cell_type": "code",
   "execution_count": 11,
   "metadata": {},
   "outputs": [
    {
     "name": "stdout",
     "output_type": "stream",
     "text": [
      "<class 'pandas.core.frame.DataFrame'>\n",
      "RangeIndex: 7043 entries, 0 to 7042\n",
      "Data columns (total 21 columns):\n",
      " #   Column            Non-Null Count  Dtype  \n",
      "---  ------            --------------  -----  \n",
      " 0   customerID        7043 non-null   object \n",
      " 1   gender            7043 non-null   object \n",
      " 2   SeniorCitizen     7043 non-null   int64  \n",
      " 3   Partner           7043 non-null   object \n",
      " 4   Dependents        7043 non-null   object \n",
      " 5   tenure            7043 non-null   int64  \n",
      " 6   PhoneService      7043 non-null   object \n",
      " 7   MultipleLines     7043 non-null   object \n",
      " 8   InternetService   7043 non-null   object \n",
      " 9   OnlineSecurity    7043 non-null   object \n",
      " 10  OnlineBackup      7043 non-null   object \n",
      " 11  DeviceProtection  7043 non-null   object \n",
      " 12  TechSupport       7043 non-null   object \n",
      " 13  StreamingTV       7043 non-null   object \n",
      " 14  StreamingMovies   7043 non-null   object \n",
      " 15  Contract          7043 non-null   object \n",
      " 16  PaperlessBilling  7043 non-null   object \n",
      " 17  PaymentMethod     7043 non-null   object \n",
      " 18  MonthlyCharges    7043 non-null   float64\n",
      " 19  TotalCharges      7043 non-null   object \n",
      " 20  Churn             7043 non-null   object \n",
      "dtypes: float64(1), int64(2), object(18)\n",
      "memory usage: 1.1+ MB\n"
     ]
    }
   ],
   "source": [
    "df.info()"
   ]
  },
  {
   "cell_type": "markdown",
   "metadata": {},
   "source": [
    "Oh, looks like `TotalCharges` is not a numeric type. What if we change the type of this column to float? "
   ]
  },
  {
   "cell_type": "code",
   "execution_count": 12,
   "metadata": {
    "slideshow": {
     "slide_type": "slide"
    },
    "tags": [
     "raises-exception"
    ]
   },
   "outputs": [
    {
     "ename": "ValueError",
     "evalue": "could not convert string to float: ''",
     "output_type": "error",
     "traceback": [
      "\u001b[0;31m---------------------------------------------------------------------------\u001b[0m",
      "\u001b[0;31mValueError\u001b[0m                                Traceback (most recent call last)",
      "Cell \u001b[0;32mIn[12], line 1\u001b[0m\n\u001b[0;32m----> 1\u001b[0m train_df[\u001b[38;5;124m\"\u001b[39m\u001b[38;5;124mTotalCharges\u001b[39m\u001b[38;5;124m\"\u001b[39m] \u001b[38;5;241m=\u001b[39m \u001b[43mtrain_df\u001b[49m\u001b[43m[\u001b[49m\u001b[38;5;124;43m\"\u001b[39;49m\u001b[38;5;124;43mTotalCharges\u001b[39;49m\u001b[38;5;124;43m\"\u001b[39;49m\u001b[43m]\u001b[49m\u001b[38;5;241;43m.\u001b[39;49m\u001b[43mastype\u001b[49m\u001b[43m(\u001b[49m\u001b[38;5;28;43mfloat\u001b[39;49m\u001b[43m)\u001b[49m\n",
      "File \u001b[0;32m~/miniconda3/envs/cpsc330/lib/python3.10/site-packages/pandas/core/generic.py:6534\u001b[0m, in \u001b[0;36mNDFrame.astype\u001b[0;34m(self, dtype, copy, errors)\u001b[0m\n\u001b[1;32m   6530\u001b[0m     results \u001b[38;5;241m=\u001b[39m [ser\u001b[38;5;241m.\u001b[39mastype(dtype, copy\u001b[38;5;241m=\u001b[39mcopy) \u001b[38;5;28;01mfor\u001b[39;00m _, ser \u001b[38;5;129;01min\u001b[39;00m \u001b[38;5;28mself\u001b[39m\u001b[38;5;241m.\u001b[39mitems()]\n\u001b[1;32m   6532\u001b[0m \u001b[38;5;28;01melse\u001b[39;00m:\n\u001b[1;32m   6533\u001b[0m     \u001b[38;5;66;03m# else, only a single dtype is given\u001b[39;00m\n\u001b[0;32m-> 6534\u001b[0m     new_data \u001b[38;5;241m=\u001b[39m \u001b[38;5;28mself\u001b[39m\u001b[38;5;241m.\u001b[39m_mgr\u001b[38;5;241m.\u001b[39mastype(dtype\u001b[38;5;241m=\u001b[39mdtype, copy\u001b[38;5;241m=\u001b[39mcopy, errors\u001b[38;5;241m=\u001b[39merrors)\n\u001b[1;32m   6535\u001b[0m     res \u001b[38;5;241m=\u001b[39m \u001b[38;5;28mself\u001b[39m\u001b[38;5;241m.\u001b[39m_constructor_from_mgr(new_data, axes\u001b[38;5;241m=\u001b[39mnew_data\u001b[38;5;241m.\u001b[39maxes)\n\u001b[1;32m   6536\u001b[0m     \u001b[38;5;28;01mreturn\u001b[39;00m res\u001b[38;5;241m.\u001b[39m__finalize__(\u001b[38;5;28mself\u001b[39m, method\u001b[38;5;241m=\u001b[39m\u001b[38;5;124m\"\u001b[39m\u001b[38;5;124mastype\u001b[39m\u001b[38;5;124m\"\u001b[39m)\n",
      "File \u001b[0;32m~/miniconda3/envs/cpsc330/lib/python3.10/site-packages/pandas/core/internals/managers.py:414\u001b[0m, in \u001b[0;36mBaseBlockManager.astype\u001b[0;34m(self, dtype, copy, errors)\u001b[0m\n\u001b[1;32m    411\u001b[0m \u001b[38;5;28;01melif\u001b[39;00m using_copy_on_write():\n\u001b[1;32m    412\u001b[0m     copy \u001b[38;5;241m=\u001b[39m \u001b[38;5;28;01mFalse\u001b[39;00m\n\u001b[0;32m--> 414\u001b[0m \u001b[38;5;28;01mreturn\u001b[39;00m \u001b[38;5;28;43mself\u001b[39;49m\u001b[38;5;241;43m.\u001b[39;49m\u001b[43mapply\u001b[49m\u001b[43m(\u001b[49m\n\u001b[1;32m    415\u001b[0m \u001b[43m    \u001b[49m\u001b[38;5;124;43m\"\u001b[39;49m\u001b[38;5;124;43mastype\u001b[39;49m\u001b[38;5;124;43m\"\u001b[39;49m\u001b[43m,\u001b[49m\n\u001b[1;32m    416\u001b[0m \u001b[43m    \u001b[49m\u001b[43mdtype\u001b[49m\u001b[38;5;241;43m=\u001b[39;49m\u001b[43mdtype\u001b[49m\u001b[43m,\u001b[49m\n\u001b[1;32m    417\u001b[0m \u001b[43m    \u001b[49m\u001b[43mcopy\u001b[49m\u001b[38;5;241;43m=\u001b[39;49m\u001b[43mcopy\u001b[49m\u001b[43m,\u001b[49m\n\u001b[1;32m    418\u001b[0m \u001b[43m    \u001b[49m\u001b[43merrors\u001b[49m\u001b[38;5;241;43m=\u001b[39;49m\u001b[43merrors\u001b[49m\u001b[43m,\u001b[49m\n\u001b[1;32m    419\u001b[0m \u001b[43m    \u001b[49m\u001b[43musing_cow\u001b[49m\u001b[38;5;241;43m=\u001b[39;49m\u001b[43musing_copy_on_write\u001b[49m\u001b[43m(\u001b[49m\u001b[43m)\u001b[49m\u001b[43m,\u001b[49m\n\u001b[1;32m    420\u001b[0m \u001b[43m\u001b[49m\u001b[43m)\u001b[49m\n",
      "File \u001b[0;32m~/miniconda3/envs/cpsc330/lib/python3.10/site-packages/pandas/core/internals/managers.py:354\u001b[0m, in \u001b[0;36mBaseBlockManager.apply\u001b[0;34m(self, f, align_keys, **kwargs)\u001b[0m\n\u001b[1;32m    352\u001b[0m         applied \u001b[38;5;241m=\u001b[39m b\u001b[38;5;241m.\u001b[39mapply(f, \u001b[38;5;241m*\u001b[39m\u001b[38;5;241m*\u001b[39mkwargs)\n\u001b[1;32m    353\u001b[0m     \u001b[38;5;28;01melse\u001b[39;00m:\n\u001b[0;32m--> 354\u001b[0m         applied \u001b[38;5;241m=\u001b[39m \u001b[38;5;28;43mgetattr\u001b[39;49m\u001b[43m(\u001b[49m\u001b[43mb\u001b[49m\u001b[43m,\u001b[49m\u001b[43m \u001b[49m\u001b[43mf\u001b[49m\u001b[43m)\u001b[49m\u001b[43m(\u001b[49m\u001b[38;5;241;43m*\u001b[39;49m\u001b[38;5;241;43m*\u001b[39;49m\u001b[43mkwargs\u001b[49m\u001b[43m)\u001b[49m\n\u001b[1;32m    355\u001b[0m     result_blocks \u001b[38;5;241m=\u001b[39m extend_blocks(applied, result_blocks)\n\u001b[1;32m    357\u001b[0m out \u001b[38;5;241m=\u001b[39m \u001b[38;5;28mtype\u001b[39m(\u001b[38;5;28mself\u001b[39m)\u001b[38;5;241m.\u001b[39mfrom_blocks(result_blocks, \u001b[38;5;28mself\u001b[39m\u001b[38;5;241m.\u001b[39maxes)\n",
      "File \u001b[0;32m~/miniconda3/envs/cpsc330/lib/python3.10/site-packages/pandas/core/internals/blocks.py:616\u001b[0m, in \u001b[0;36mBlock.astype\u001b[0;34m(self, dtype, copy, errors, using_cow)\u001b[0m\n\u001b[1;32m    596\u001b[0m \u001b[38;5;250m\u001b[39m\u001b[38;5;124;03m\"\"\"\u001b[39;00m\n\u001b[1;32m    597\u001b[0m \u001b[38;5;124;03mCoerce to the new dtype.\u001b[39;00m\n\u001b[1;32m    598\u001b[0m \n\u001b[0;32m   (...)\u001b[0m\n\u001b[1;32m    612\u001b[0m \u001b[38;5;124;03mBlock\u001b[39;00m\n\u001b[1;32m    613\u001b[0m \u001b[38;5;124;03m\"\"\"\u001b[39;00m\n\u001b[1;32m    614\u001b[0m values \u001b[38;5;241m=\u001b[39m \u001b[38;5;28mself\u001b[39m\u001b[38;5;241m.\u001b[39mvalues\n\u001b[0;32m--> 616\u001b[0m new_values \u001b[38;5;241m=\u001b[39m \u001b[43mastype_array_safe\u001b[49m\u001b[43m(\u001b[49m\u001b[43mvalues\u001b[49m\u001b[43m,\u001b[49m\u001b[43m \u001b[49m\u001b[43mdtype\u001b[49m\u001b[43m,\u001b[49m\u001b[43m \u001b[49m\u001b[43mcopy\u001b[49m\u001b[38;5;241;43m=\u001b[39;49m\u001b[43mcopy\u001b[49m\u001b[43m,\u001b[49m\u001b[43m \u001b[49m\u001b[43merrors\u001b[49m\u001b[38;5;241;43m=\u001b[39;49m\u001b[43merrors\u001b[49m\u001b[43m)\u001b[49m\n\u001b[1;32m    618\u001b[0m new_values \u001b[38;5;241m=\u001b[39m maybe_coerce_values(new_values)\n\u001b[1;32m    620\u001b[0m refs \u001b[38;5;241m=\u001b[39m \u001b[38;5;28;01mNone\u001b[39;00m\n",
      "File \u001b[0;32m~/miniconda3/envs/cpsc330/lib/python3.10/site-packages/pandas/core/dtypes/astype.py:238\u001b[0m, in \u001b[0;36mastype_array_safe\u001b[0;34m(values, dtype, copy, errors)\u001b[0m\n\u001b[1;32m    235\u001b[0m     dtype \u001b[38;5;241m=\u001b[39m dtype\u001b[38;5;241m.\u001b[39mnumpy_dtype\n\u001b[1;32m    237\u001b[0m \u001b[38;5;28;01mtry\u001b[39;00m:\n\u001b[0;32m--> 238\u001b[0m     new_values \u001b[38;5;241m=\u001b[39m \u001b[43mastype_array\u001b[49m\u001b[43m(\u001b[49m\u001b[43mvalues\u001b[49m\u001b[43m,\u001b[49m\u001b[43m \u001b[49m\u001b[43mdtype\u001b[49m\u001b[43m,\u001b[49m\u001b[43m \u001b[49m\u001b[43mcopy\u001b[49m\u001b[38;5;241;43m=\u001b[39;49m\u001b[43mcopy\u001b[49m\u001b[43m)\u001b[49m\n\u001b[1;32m    239\u001b[0m \u001b[38;5;28;01mexcept\u001b[39;00m (\u001b[38;5;167;01mValueError\u001b[39;00m, \u001b[38;5;167;01mTypeError\u001b[39;00m):\n\u001b[1;32m    240\u001b[0m     \u001b[38;5;66;03m# e.g. _astype_nansafe can fail on object-dtype of strings\u001b[39;00m\n\u001b[1;32m    241\u001b[0m     \u001b[38;5;66;03m#  trying to convert to float\u001b[39;00m\n\u001b[1;32m    242\u001b[0m     \u001b[38;5;28;01mif\u001b[39;00m errors \u001b[38;5;241m==\u001b[39m \u001b[38;5;124m\"\u001b[39m\u001b[38;5;124mignore\u001b[39m\u001b[38;5;124m\"\u001b[39m:\n",
      "File \u001b[0;32m~/miniconda3/envs/cpsc330/lib/python3.10/site-packages/pandas/core/dtypes/astype.py:183\u001b[0m, in \u001b[0;36mastype_array\u001b[0;34m(values, dtype, copy)\u001b[0m\n\u001b[1;32m    180\u001b[0m     values \u001b[38;5;241m=\u001b[39m values\u001b[38;5;241m.\u001b[39mastype(dtype, copy\u001b[38;5;241m=\u001b[39mcopy)\n\u001b[1;32m    182\u001b[0m \u001b[38;5;28;01melse\u001b[39;00m:\n\u001b[0;32m--> 183\u001b[0m     values \u001b[38;5;241m=\u001b[39m \u001b[43m_astype_nansafe\u001b[49m\u001b[43m(\u001b[49m\u001b[43mvalues\u001b[49m\u001b[43m,\u001b[49m\u001b[43m \u001b[49m\u001b[43mdtype\u001b[49m\u001b[43m,\u001b[49m\u001b[43m \u001b[49m\u001b[43mcopy\u001b[49m\u001b[38;5;241;43m=\u001b[39;49m\u001b[43mcopy\u001b[49m\u001b[43m)\u001b[49m\n\u001b[1;32m    185\u001b[0m \u001b[38;5;66;03m# in pandas we don't store numpy str dtypes, so convert to object\u001b[39;00m\n\u001b[1;32m    186\u001b[0m \u001b[38;5;28;01mif\u001b[39;00m \u001b[38;5;28misinstance\u001b[39m(dtype, np\u001b[38;5;241m.\u001b[39mdtype) \u001b[38;5;129;01mand\u001b[39;00m \u001b[38;5;28missubclass\u001b[39m(values\u001b[38;5;241m.\u001b[39mdtype\u001b[38;5;241m.\u001b[39mtype, \u001b[38;5;28mstr\u001b[39m):\n",
      "File \u001b[0;32m~/miniconda3/envs/cpsc330/lib/python3.10/site-packages/pandas/core/dtypes/astype.py:134\u001b[0m, in \u001b[0;36m_astype_nansafe\u001b[0;34m(arr, dtype, copy, skipna)\u001b[0m\n\u001b[1;32m    130\u001b[0m     \u001b[38;5;28;01mraise\u001b[39;00m \u001b[38;5;167;01mValueError\u001b[39;00m(msg)\n\u001b[1;32m    132\u001b[0m \u001b[38;5;28;01mif\u001b[39;00m copy \u001b[38;5;129;01mor\u001b[39;00m arr\u001b[38;5;241m.\u001b[39mdtype \u001b[38;5;241m==\u001b[39m \u001b[38;5;28mobject\u001b[39m \u001b[38;5;129;01mor\u001b[39;00m dtype \u001b[38;5;241m==\u001b[39m \u001b[38;5;28mobject\u001b[39m:\n\u001b[1;32m    133\u001b[0m     \u001b[38;5;66;03m# Explicit copy, or required since NumPy can't view from / to object.\u001b[39;00m\n\u001b[0;32m--> 134\u001b[0m     \u001b[38;5;28;01mreturn\u001b[39;00m \u001b[43marr\u001b[49m\u001b[38;5;241;43m.\u001b[39;49m\u001b[43mastype\u001b[49m\u001b[43m(\u001b[49m\u001b[43mdtype\u001b[49m\u001b[43m,\u001b[49m\u001b[43m \u001b[49m\u001b[43mcopy\u001b[49m\u001b[38;5;241;43m=\u001b[39;49m\u001b[38;5;28;43;01mTrue\u001b[39;49;00m\u001b[43m)\u001b[49m\n\u001b[1;32m    136\u001b[0m \u001b[38;5;28;01mreturn\u001b[39;00m arr\u001b[38;5;241m.\u001b[39mastype(dtype, copy\u001b[38;5;241m=\u001b[39mcopy)\n",
      "\u001b[0;31mValueError\u001b[0m: could not convert string to float: ''"
     ]
    }
   ],
   "source": [
    "train_df[\"TotalCharges\"] = train_df[\"TotalCharges\"].astype(float)"
   ]
  },
  {
   "cell_type": "markdown",
   "metadata": {
    "slideshow": {
     "slide_type": "slide"
    }
   },
   "source": [
    "Argh!!"
   ]
  },
  {
   "cell_type": "code",
   "execution_count": 13,
   "metadata": {
    "slideshow": {
     "slide_type": "-"
    }
   },
   "outputs": [
    {
     "name": "stdout",
     "output_type": "stream",
     "text": [
      " \n",
      " \n",
      " \n",
      " \n",
      " \n",
      " \n",
      " \n",
      " \n"
     ]
    }
   ],
   "source": [
    "for val in train_df[\"TotalCharges\"]:\n",
    "    try:\n",
    "        float(val)\n",
    "    except ValueError:\n",
    "        print(val)"
   ]
  },
  {
   "cell_type": "markdown",
   "metadata": {},
   "source": [
    "Any ideas?"
   ]
  },
  {
   "cell_type": "markdown",
   "metadata": {
    "slideshow": {
     "slide_type": "slide"
    }
   },
   "source": [
    "Well, it turns out we can't see those problematic values because they are whitespace!"
   ]
  },
  {
   "cell_type": "code",
   "execution_count": 14,
   "metadata": {},
   "outputs": [
    {
     "name": "stdout",
     "output_type": "stream",
     "text": [
      "\" \"\n",
      "\" \"\n",
      "\" \"\n",
      "\" \"\n",
      "\" \"\n",
      "\" \"\n",
      "\" \"\n",
      "\" \"\n"
     ]
    }
   ],
   "source": [
    "for val in train_df[\"TotalCharges\"]:\n",
    "    try:\n",
    "        float(val)\n",
    "    except ValueError:\n",
    "        print('\"%s\"' % val)"
   ]
  },
  {
   "cell_type": "markdown",
   "metadata": {
    "slideshow": {
     "slide_type": "-"
    }
   },
   "source": [
    "Let's replace the whitespaces with NaNs. "
   ]
  },
  {
   "cell_type": "code",
   "execution_count": 15,
   "metadata": {},
   "outputs": [],
   "source": [
    "train_df = train_df.assign(\n",
    "    TotalCharges=train_df[\"TotalCharges\"].replace(\" \", np.nan).astype(float)\n",
    ")\n",
    "test_df = test_df.assign(\n",
    "    TotalCharges=test_df[\"TotalCharges\"].replace(\" \", np.nan).astype(float)\n",
    ")"
   ]
  },
  {
   "cell_type": "code",
   "execution_count": 16,
   "metadata": {
    "slideshow": {
     "slide_type": "slide"
    }
   },
   "outputs": [
    {
     "name": "stdout",
     "output_type": "stream",
     "text": [
      "<class 'pandas.core.frame.DataFrame'>\n",
      "Index: 5282 entries, 6464 to 3582\n",
      "Data columns (total 21 columns):\n",
      " #   Column            Non-Null Count  Dtype  \n",
      "---  ------            --------------  -----  \n",
      " 0   customerID        5282 non-null   object \n",
      " 1   gender            5282 non-null   object \n",
      " 2   SeniorCitizen     5282 non-null   int64  \n",
      " 3   Partner           5282 non-null   object \n",
      " 4   Dependents        5282 non-null   object \n",
      " 5   tenure            5282 non-null   int64  \n",
      " 6   PhoneService      5282 non-null   object \n",
      " 7   MultipleLines     5282 non-null   object \n",
      " 8   InternetService   5282 non-null   object \n",
      " 9   OnlineSecurity    5282 non-null   object \n",
      " 10  OnlineBackup      5282 non-null   object \n",
      " 11  DeviceProtection  5282 non-null   object \n",
      " 12  TechSupport       5282 non-null   object \n",
      " 13  StreamingTV       5282 non-null   object \n",
      " 14  StreamingMovies   5282 non-null   object \n",
      " 15  Contract          5282 non-null   object \n",
      " 16  PaperlessBilling  5282 non-null   object \n",
      " 17  PaymentMethod     5282 non-null   object \n",
      " 18  MonthlyCharges    5282 non-null   float64\n",
      " 19  TotalCharges      5274 non-null   float64\n",
      " 20  Churn             5282 non-null   object \n",
      "dtypes: float64(2), int64(2), object(17)\n",
      "memory usage: 907.8+ KB\n"
     ]
    }
   ],
   "source": [
    "train_df.info()"
   ]
  },
  {
   "cell_type": "markdown",
   "metadata": {
    "slideshow": {
     "slide_type": "-"
    }
   },
   "source": [
    "But now we are going to have missing values and we need to include imputation for numeric features in our preprocessor. "
   ]
  },
  {
   "cell_type": "code",
   "execution_count": 17,
   "metadata": {
    "slideshow": {
     "slide_type": "slide"
    }
   },
   "outputs": [],
   "source": [
    "preprocessor = make_column_transformer(\n",
    "    (\n",
    "        make_pipeline(SimpleImputer(strategy=\"median\"), StandardScaler()),\n",
    "        numeric_features,\n",
    "    ),\n",
    "    (OneHotEncoder(handle_unknown=\"ignore\"), categorical_features),\n",
    "    (\"passthrough\", passthrough_features),\n",
    "    (\"drop\", drop_features),\n",
    ")"
   ]
  },
  {
   "cell_type": "markdown",
   "metadata": {},
   "source": [
    "Now let's try that again..."
   ]
  },
  {
   "cell_type": "code",
   "execution_count": 18,
   "metadata": {},
   "outputs": [],
   "source": [
    "preprocessor.fit(train_df);"
   ]
  },
  {
   "cell_type": "markdown",
   "metadata": {
    "slideshow": {
     "slide_type": "slide"
    }
   },
   "source": [
    "It worked! Let's get the column names of the transformed data from the column transformer."
   ]
  },
  {
   "cell_type": "code",
   "execution_count": 19,
   "metadata": {},
   "outputs": [],
   "source": [
    "new_columns = (\n",
    "    numeric_features\n",
    "    + preprocessor.named_transformers_[\"onehotencoder\"]\n",
    "    .get_feature_names_out(categorical_features)\n",
    "    .tolist()\n",
    "    + passthrough_features\n",
    ")"
   ]
  },
  {
   "cell_type": "code",
   "execution_count": 20,
   "metadata": {},
   "outputs": [],
   "source": [
    "X_train_enc = pd.DataFrame(\n",
    "    preprocessor.transform(train_df), index=train_df.index, columns=new_columns\n",
    ")\n",
    "X_test_enc = pd.DataFrame(\n",
    "    preprocessor.transform(train_df), index=train_df.index, columns=new_columns\n",
    ")"
   ]
  },
  {
   "cell_type": "code",
   "execution_count": 21,
   "metadata": {},
   "outputs": [
    {
     "data": {
      "text/html": [
       "<div>\n",
       "<style scoped>\n",
       "    .dataframe tbody tr th:only-of-type {\n",
       "        vertical-align: middle;\n",
       "    }\n",
       "\n",
       "    .dataframe tbody tr th {\n",
       "        vertical-align: top;\n",
       "    }\n",
       "\n",
       "    .dataframe thead th {\n",
       "        text-align: right;\n",
       "    }\n",
       "</style>\n",
       "<table border=\"1\" class=\"dataframe\">\n",
       "  <thead>\n",
       "    <tr style=\"text-align: right;\">\n",
       "      <th></th>\n",
       "      <th>tenure</th>\n",
       "      <th>MonthlyCharges</th>\n",
       "      <th>TotalCharges</th>\n",
       "      <th>Dependents_No</th>\n",
       "      <th>Dependents_Yes</th>\n",
       "      <th>OnlineSecurity_No</th>\n",
       "      <th>OnlineSecurity_No internet service</th>\n",
       "      <th>OnlineSecurity_Yes</th>\n",
       "      <th>MultipleLines_No</th>\n",
       "      <th>MultipleLines_No phone service</th>\n",
       "      <th>...</th>\n",
       "      <th>StreamingTV_No internet service</th>\n",
       "      <th>StreamingTV_Yes</th>\n",
       "      <th>PaperlessBilling_No</th>\n",
       "      <th>PaperlessBilling_Yes</th>\n",
       "      <th>DeviceProtection_No</th>\n",
       "      <th>DeviceProtection_No internet service</th>\n",
       "      <th>DeviceProtection_Yes</th>\n",
       "      <th>gender_Female</th>\n",
       "      <th>gender_Male</th>\n",
       "      <th>SeniorCitizen</th>\n",
       "    </tr>\n",
       "  </thead>\n",
       "  <tbody>\n",
       "    <tr>\n",
       "      <th>6464</th>\n",
       "      <td>0.707712</td>\n",
       "      <td>0.185175</td>\n",
       "      <td>0.513678</td>\n",
       "      <td>1.0</td>\n",
       "      <td>0.0</td>\n",
       "      <td>0.0</td>\n",
       "      <td>0.0</td>\n",
       "      <td>1.0</td>\n",
       "      <td>0.0</td>\n",
       "      <td>0.0</td>\n",
       "      <td>...</td>\n",
       "      <td>0.0</td>\n",
       "      <td>1.0</td>\n",
       "      <td>0.0</td>\n",
       "      <td>1.0</td>\n",
       "      <td>1.0</td>\n",
       "      <td>0.0</td>\n",
       "      <td>0.0</td>\n",
       "      <td>0.0</td>\n",
       "      <td>1.0</td>\n",
       "      <td>1.0</td>\n",
       "    </tr>\n",
       "    <tr>\n",
       "      <th>5707</th>\n",
       "      <td>-1.248999</td>\n",
       "      <td>-0.641538</td>\n",
       "      <td>-0.979562</td>\n",
       "      <td>1.0</td>\n",
       "      <td>0.0</td>\n",
       "      <td>1.0</td>\n",
       "      <td>0.0</td>\n",
       "      <td>0.0</td>\n",
       "      <td>1.0</td>\n",
       "      <td>0.0</td>\n",
       "      <td>...</td>\n",
       "      <td>0.0</td>\n",
       "      <td>0.0</td>\n",
       "      <td>1.0</td>\n",
       "      <td>0.0</td>\n",
       "      <td>1.0</td>\n",
       "      <td>0.0</td>\n",
       "      <td>0.0</td>\n",
       "      <td>1.0</td>\n",
       "      <td>0.0</td>\n",
       "      <td>0.0</td>\n",
       "    </tr>\n",
       "    <tr>\n",
       "      <th>3442</th>\n",
       "      <td>-0.148349</td>\n",
       "      <td>1.133562</td>\n",
       "      <td>0.226789</td>\n",
       "      <td>1.0</td>\n",
       "      <td>0.0</td>\n",
       "      <td>1.0</td>\n",
       "      <td>0.0</td>\n",
       "      <td>0.0</td>\n",
       "      <td>1.0</td>\n",
       "      <td>0.0</td>\n",
       "      <td>...</td>\n",
       "      <td>0.0</td>\n",
       "      <td>1.0</td>\n",
       "      <td>0.0</td>\n",
       "      <td>1.0</td>\n",
       "      <td>0.0</td>\n",
       "      <td>0.0</td>\n",
       "      <td>1.0</td>\n",
       "      <td>0.0</td>\n",
       "      <td>1.0</td>\n",
       "      <td>0.0</td>\n",
       "    </tr>\n",
       "    <tr>\n",
       "      <th>3932</th>\n",
       "      <td>-1.248999</td>\n",
       "      <td>0.458524</td>\n",
       "      <td>-0.950696</td>\n",
       "      <td>1.0</td>\n",
       "      <td>0.0</td>\n",
       "      <td>1.0</td>\n",
       "      <td>0.0</td>\n",
       "      <td>0.0</td>\n",
       "      <td>0.0</td>\n",
       "      <td>0.0</td>\n",
       "      <td>...</td>\n",
       "      <td>0.0</td>\n",
       "      <td>0.0</td>\n",
       "      <td>0.0</td>\n",
       "      <td>1.0</td>\n",
       "      <td>0.0</td>\n",
       "      <td>0.0</td>\n",
       "      <td>1.0</td>\n",
       "      <td>1.0</td>\n",
       "      <td>0.0</td>\n",
       "      <td>1.0</td>\n",
       "    </tr>\n",
       "    <tr>\n",
       "      <th>6124</th>\n",
       "      <td>0.993065</td>\n",
       "      <td>-0.183179</td>\n",
       "      <td>0.433814</td>\n",
       "      <td>0.0</td>\n",
       "      <td>1.0</td>\n",
       "      <td>0.0</td>\n",
       "      <td>0.0</td>\n",
       "      <td>1.0</td>\n",
       "      <td>1.0</td>\n",
       "      <td>0.0</td>\n",
       "      <td>...</td>\n",
       "      <td>0.0</td>\n",
       "      <td>0.0</td>\n",
       "      <td>0.0</td>\n",
       "      <td>1.0</td>\n",
       "      <td>0.0</td>\n",
       "      <td>0.0</td>\n",
       "      <td>1.0</td>\n",
       "      <td>1.0</td>\n",
       "      <td>0.0</td>\n",
       "      <td>0.0</td>\n",
       "    </tr>\n",
       "  </tbody>\n",
       "</table>\n",
       "<p>5 rows × 45 columns</p>\n",
       "</div>"
      ],
      "text/plain": [
       "        tenure  MonthlyCharges  TotalCharges  Dependents_No  Dependents_Yes  \\\n",
       "6464  0.707712        0.185175      0.513678            1.0             0.0   \n",
       "5707 -1.248999       -0.641538     -0.979562            1.0             0.0   \n",
       "3442 -0.148349        1.133562      0.226789            1.0             0.0   \n",
       "3932 -1.248999        0.458524     -0.950696            1.0             0.0   \n",
       "6124  0.993065       -0.183179      0.433814            0.0             1.0   \n",
       "\n",
       "      OnlineSecurity_No  OnlineSecurity_No internet service  \\\n",
       "6464                0.0                                 0.0   \n",
       "5707                1.0                                 0.0   \n",
       "3442                1.0                                 0.0   \n",
       "3932                1.0                                 0.0   \n",
       "6124                0.0                                 0.0   \n",
       "\n",
       "      OnlineSecurity_Yes  MultipleLines_No  MultipleLines_No phone service  \\\n",
       "6464                 1.0               0.0                             0.0   \n",
       "5707                 0.0               1.0                             0.0   \n",
       "3442                 0.0               1.0                             0.0   \n",
       "3932                 0.0               0.0                             0.0   \n",
       "6124                 1.0               1.0                             0.0   \n",
       "\n",
       "      ...  StreamingTV_No internet service  StreamingTV_Yes  \\\n",
       "6464  ...                              0.0              1.0   \n",
       "5707  ...                              0.0              0.0   \n",
       "3442  ...                              0.0              1.0   \n",
       "3932  ...                              0.0              0.0   \n",
       "6124  ...                              0.0              0.0   \n",
       "\n",
       "      PaperlessBilling_No  PaperlessBilling_Yes  DeviceProtection_No  \\\n",
       "6464                  0.0                   1.0                  1.0   \n",
       "5707                  1.0                   0.0                  1.0   \n",
       "3442                  0.0                   1.0                  0.0   \n",
       "3932                  0.0                   1.0                  0.0   \n",
       "6124                  0.0                   1.0                  0.0   \n",
       "\n",
       "      DeviceProtection_No internet service  DeviceProtection_Yes  \\\n",
       "6464                                   0.0                   0.0   \n",
       "5707                                   0.0                   0.0   \n",
       "3442                                   0.0                   1.0   \n",
       "3932                                   0.0                   1.0   \n",
       "6124                                   0.0                   1.0   \n",
       "\n",
       "      gender_Female  gender_Male  SeniorCitizen  \n",
       "6464            0.0          1.0            1.0  \n",
       "5707            1.0          0.0            0.0  \n",
       "3442            0.0          1.0            0.0  \n",
       "3932            1.0          0.0            1.0  \n",
       "6124            1.0          0.0            0.0  \n",
       "\n",
       "[5 rows x 45 columns]"
      ]
     },
     "execution_count": 21,
     "metadata": {},
     "output_type": "execute_result"
    }
   ],
   "source": [
    "X_train_enc.head()"
   ]
  },
  {
   "cell_type": "code",
   "execution_count": 22,
   "metadata": {},
   "outputs": [],
   "source": [
    "results = {}"
   ]
  },
  {
   "cell_type": "code",
   "execution_count": 23,
   "metadata": {
    "slideshow": {
     "slide_type": "slide"
    }
   },
   "outputs": [],
   "source": [
    "X_train = train_df.drop(columns=[\"Churn\"])\n",
    "X_test = test_df.drop(columns=[\"Churn\"])\n",
    "\n",
    "y_train = train_df[\"Churn\"]\n",
    "y_test = test_df[\"Churn\"]"
   ]
  },
  {
   "cell_type": "markdown",
   "metadata": {
    "slideshow": {
     "slide_type": "slide"
    }
   },
   "source": [
    "### DummyClassifier"
   ]
  },
  {
   "cell_type": "code",
   "execution_count": 24,
   "metadata": {},
   "outputs": [],
   "source": [
    "dc = DummyClassifier()"
   ]
  },
  {
   "cell_type": "code",
   "execution_count": 25,
   "metadata": {},
   "outputs": [
    {
     "data": {
      "text/html": [
       "<div>\n",
       "<style scoped>\n",
       "    .dataframe tbody tr th:only-of-type {\n",
       "        vertical-align: middle;\n",
       "    }\n",
       "\n",
       "    .dataframe tbody tr th {\n",
       "        vertical-align: top;\n",
       "    }\n",
       "\n",
       "    .dataframe thead th {\n",
       "        text-align: right;\n",
       "    }\n",
       "</style>\n",
       "<table border=\"1\" class=\"dataframe\">\n",
       "  <thead>\n",
       "    <tr style=\"text-align: right;\">\n",
       "      <th></th>\n",
       "      <th>fit_time</th>\n",
       "      <th>score_time</th>\n",
       "      <th>test_score</th>\n",
       "      <th>train_score</th>\n",
       "    </tr>\n",
       "  </thead>\n",
       "  <tbody>\n",
       "    <tr>\n",
       "      <th>dummy</th>\n",
       "      <td>0.002 (+/- 0.000)</td>\n",
       "      <td>0.001 (+/- 0.000)</td>\n",
       "      <td>0.741 (+/- 0.000)</td>\n",
       "      <td>0.741 (+/- 0.000)</td>\n",
       "    </tr>\n",
       "  </tbody>\n",
       "</table>\n",
       "</div>"
      ],
      "text/plain": [
       "                fit_time         score_time         test_score  \\\n",
       "dummy  0.002 (+/- 0.000)  0.001 (+/- 0.000)  0.741 (+/- 0.000)   \n",
       "\n",
       "             train_score  \n",
       "dummy  0.741 (+/- 0.000)  "
      ]
     },
     "execution_count": 25,
     "metadata": {},
     "output_type": "execute_result"
    }
   ],
   "source": [
    "results[\"dummy\"] = mean_std_cross_val_scores(\n",
    "    dc, X_train, y_train, return_train_score=True\n",
    ")\n",
    "pd.DataFrame(results).T"
   ]
  },
  {
   "cell_type": "markdown",
   "metadata": {},
   "source": [
    "Dummy model scores are pretty good because we have class imbalance. "
   ]
  },
  {
   "cell_type": "code",
   "execution_count": 26,
   "metadata": {},
   "outputs": [
    {
     "data": {
      "text/plain": [
       "Churn\n",
       "No     3912\n",
       "Yes    1370\n",
       "Name: count, dtype: int64"
      ]
     },
     "execution_count": 26,
     "metadata": {},
     "output_type": "execute_result"
    }
   ],
   "source": [
    "y_train.value_counts()"
   ]
  },
  {
   "cell_type": "markdown",
   "metadata": {
    "slideshow": {
     "slide_type": "slide"
    }
   },
   "source": [
    "### LogisticRegression"
   ]
  },
  {
   "cell_type": "code",
   "execution_count": 27,
   "metadata": {},
   "outputs": [],
   "source": [
    "lr = make_pipeline(preprocessor, LogisticRegression(max_iter=1000))"
   ]
  },
  {
   "cell_type": "code",
   "execution_count": 28,
   "metadata": {},
   "outputs": [
    {
     "data": {
      "text/html": [
       "<div>\n",
       "<style scoped>\n",
       "    .dataframe tbody tr th:only-of-type {\n",
       "        vertical-align: middle;\n",
       "    }\n",
       "\n",
       "    .dataframe tbody tr th {\n",
       "        vertical-align: top;\n",
       "    }\n",
       "\n",
       "    .dataframe thead th {\n",
       "        text-align: right;\n",
       "    }\n",
       "</style>\n",
       "<table border=\"1\" class=\"dataframe\">\n",
       "  <thead>\n",
       "    <tr style=\"text-align: right;\">\n",
       "      <th></th>\n",
       "      <th>fit_time</th>\n",
       "      <th>score_time</th>\n",
       "      <th>test_score</th>\n",
       "      <th>train_score</th>\n",
       "    </tr>\n",
       "  </thead>\n",
       "  <tbody>\n",
       "    <tr>\n",
       "      <th>dummy</th>\n",
       "      <td>0.002 (+/- 0.000)</td>\n",
       "      <td>0.001 (+/- 0.000)</td>\n",
       "      <td>0.741 (+/- 0.000)</td>\n",
       "      <td>0.741 (+/- 0.000)</td>\n",
       "    </tr>\n",
       "    <tr>\n",
       "      <th>logistic regression</th>\n",
       "      <td>0.047 (+/- 0.004)</td>\n",
       "      <td>0.006 (+/- 0.000)</td>\n",
       "      <td>0.804 (+/- 0.013)</td>\n",
       "      <td>0.809 (+/- 0.002)</td>\n",
       "    </tr>\n",
       "  </tbody>\n",
       "</table>\n",
       "</div>"
      ],
      "text/plain": [
       "                              fit_time         score_time         test_score  \\\n",
       "dummy                0.002 (+/- 0.000)  0.001 (+/- 0.000)  0.741 (+/- 0.000)   \n",
       "logistic regression  0.047 (+/- 0.004)  0.006 (+/- 0.000)  0.804 (+/- 0.013)   \n",
       "\n",
       "                           train_score  \n",
       "dummy                0.741 (+/- 0.000)  \n",
       "logistic regression  0.809 (+/- 0.002)  "
      ]
     },
     "execution_count": 28,
     "metadata": {},
     "output_type": "execute_result"
    }
   ],
   "source": [
    "results[\"logistic regression\"] = mean_std_cross_val_scores(\n",
    "    lr, X_train, y_train, return_train_score=True\n",
    ")\n",
    "pd.DataFrame(results).T"
   ]
  },
  {
   "cell_type": "code",
   "execution_count": 29,
   "metadata": {},
   "outputs": [
    {
     "data": {
      "text/plain": [
       "array([[3516,  396],\n",
       "       [ 637,  733]])"
      ]
     },
     "execution_count": 29,
     "metadata": {},
     "output_type": "execute_result"
    }
   ],
   "source": [
    "confusion_matrix(y_train, cross_val_predict(lr, X_train, y_train))"
   ]
  },
  {
   "cell_type": "markdown",
   "metadata": {},
   "source": [
    "- Logistic regression beats the dummy model. \n",
    "- But it seems like we have many false negatives. "
   ]
  },
  {
   "cell_type": "markdown",
   "metadata": {
    "slideshow": {
     "slide_type": "slide"
    }
   },
   "source": [
    "### RandomForestClassifier\n",
    "\n",
    "Let's try random forest model. "
   ]
  },
  {
   "cell_type": "code",
   "execution_count": 30,
   "metadata": {},
   "outputs": [],
   "source": [
    "rf = make_pipeline(preprocessor, RandomForestClassifier(n_estimators=100))"
   ]
  },
  {
   "cell_type": "code",
   "execution_count": 31,
   "metadata": {},
   "outputs": [
    {
     "data": {
      "text/html": [
       "<div>\n",
       "<style scoped>\n",
       "    .dataframe tbody tr th:only-of-type {\n",
       "        vertical-align: middle;\n",
       "    }\n",
       "\n",
       "    .dataframe tbody tr th {\n",
       "        vertical-align: top;\n",
       "    }\n",
       "\n",
       "    .dataframe thead th {\n",
       "        text-align: right;\n",
       "    }\n",
       "</style>\n",
       "<table border=\"1\" class=\"dataframe\">\n",
       "  <thead>\n",
       "    <tr style=\"text-align: right;\">\n",
       "      <th></th>\n",
       "      <th>fit_time</th>\n",
       "      <th>score_time</th>\n",
       "      <th>test_score</th>\n",
       "      <th>train_score</th>\n",
       "    </tr>\n",
       "  </thead>\n",
       "  <tbody>\n",
       "    <tr>\n",
       "      <th>dummy</th>\n",
       "      <td>0.002 (+/- 0.000)</td>\n",
       "      <td>0.001 (+/- 0.000)</td>\n",
       "      <td>0.741 (+/- 0.000)</td>\n",
       "      <td>0.741 (+/- 0.000)</td>\n",
       "    </tr>\n",
       "    <tr>\n",
       "      <th>logistic regression</th>\n",
       "      <td>0.047 (+/- 0.004)</td>\n",
       "      <td>0.006 (+/- 0.000)</td>\n",
       "      <td>0.804 (+/- 0.013)</td>\n",
       "      <td>0.809 (+/- 0.002)</td>\n",
       "    </tr>\n",
       "    <tr>\n",
       "      <th>random forest</th>\n",
       "      <td>0.334 (+/- 0.015)</td>\n",
       "      <td>0.019 (+/- 0.001)</td>\n",
       "      <td>0.784 (+/- 0.010)</td>\n",
       "      <td>0.998 (+/- 0.000)</td>\n",
       "    </tr>\n",
       "  </tbody>\n",
       "</table>\n",
       "</div>"
      ],
      "text/plain": [
       "                              fit_time         score_time         test_score  \\\n",
       "dummy                0.002 (+/- 0.000)  0.001 (+/- 0.000)  0.741 (+/- 0.000)   \n",
       "logistic regression  0.047 (+/- 0.004)  0.006 (+/- 0.000)  0.804 (+/- 0.013)   \n",
       "random forest        0.334 (+/- 0.015)  0.019 (+/- 0.001)  0.784 (+/- 0.010)   \n",
       "\n",
       "                           train_score  \n",
       "dummy                0.741 (+/- 0.000)  \n",
       "logistic regression  0.809 (+/- 0.002)  \n",
       "random forest        0.998 (+/- 0.000)  "
      ]
     },
     "execution_count": 31,
     "metadata": {},
     "output_type": "execute_result"
    }
   ],
   "source": [
    "results[\"random forest\"] = mean_std_cross_val_scores(\n",
    "    rf, X_train, y_train, return_train_score=True\n",
    ")\n",
    "pd.DataFrame(results).T"
   ]
  },
  {
   "cell_type": "code",
   "execution_count": 32,
   "metadata": {},
   "outputs": [
    {
     "data": {
      "text/plain": [
       "array([[3521,  391],\n",
       "       [ 728,  642]])"
      ]
     },
     "execution_count": 32,
     "metadata": {},
     "output_type": "execute_result"
    }
   ],
   "source": [
    "confusion_matrix(y_train, cross_val_predict(rf, X_train, y_train))"
   ]
  },
  {
   "cell_type": "markdown",
   "metadata": {
    "slideshow": {
     "slide_type": "-"
    }
   },
   "source": [
    "- Random forest is not improving the scores. "
   ]
  },
  {
   "cell_type": "markdown",
   "metadata": {
    "slideshow": {
     "slide_type": "slide"
    }
   },
   "source": [
    "- We might decide to do hyperparamter optimization to further improve the score. \n",
    "- But after trying out all the usual things should we be happy with the scores?\n",
    "- Are we doing anything fundamentally wrong when we treat this problem as a binary classification? \n",
    "<br><br><br><br><br><br><br>"
   ]
  },
  {
   "cell_type": "markdown",
   "metadata": {},
   "source": [
    "The rest of the class is about what is wrong with what we just did!"
   ]
  },
  {
   "cell_type": "markdown",
   "metadata": {
    "slideshow": {
     "slide_type": "slide"
    }
   },
   "source": [
    "## Censoring and survival analysis"
   ]
  },
  {
   "cell_type": "markdown",
   "metadata": {
    "slideshow": {
     "slide_type": "slide"
    }
   },
   "source": [
    "### Time to event and censoring\n",
    "\n",
    "- When we treat the problem as a binary classification problem, we predict whether a customer would churn or not at a particular point in time, when the data was collected. \n",
    "- If a customer has not churned yet, wouldn't it be more useful to understand when they are likely to churn so that we can offer them promotions etc?  \n",
    "- Here we are actually interested in **the time till the event of churn occurs**.  "
   ]
  },
  {
   "cell_type": "markdown",
   "metadata": {},
   "source": [
    "There are many situations where you want to analyze **the time until an event occurs**. For example,\n",
    "\n",
    "- the time until a customer leaves a subscription service (this dataset)\n",
    "- the time until a disease kills its host\n",
    "- the time until a piece of equipment breaks\n",
    "- the time that someone unemployed will take to land a new job\n",
    "- the time until you wait for your turn to get a surgery"
   ]
  },
  {
   "cell_type": "markdown",
   "metadata": {},
   "source": [
    "Although this branch of statistics is usually referred to as **Survival Analysis**, the event in question does not need to be related to actual \"survival\". The important thing is to understand that we are interested in **the time until something happens**, or whether or not something will happen in a certain time frame."
   ]
  },
  {
   "cell_type": "markdown",
   "metadata": {},
   "source": [
    "In our dataset there is a column called \"tenure\", which encodes this temporal aspect of the data.  "
   ]
  },
  {
   "cell_type": "code",
   "execution_count": 33,
   "metadata": {
    "slideshow": {
     "slide_type": "slide"
    }
   },
   "outputs": [
    {
     "data": {
      "text/html": [
       "<div>\n",
       "<style scoped>\n",
       "    .dataframe tbody tr th:only-of-type {\n",
       "        vertical-align: middle;\n",
       "    }\n",
       "\n",
       "    .dataframe tbody tr th {\n",
       "        vertical-align: top;\n",
       "    }\n",
       "\n",
       "    .dataframe thead th {\n",
       "        text-align: right;\n",
       "    }\n",
       "</style>\n",
       "<table border=\"1\" class=\"dataframe\">\n",
       "  <thead>\n",
       "    <tr style=\"text-align: right;\">\n",
       "      <th></th>\n",
       "      <th>tenure</th>\n",
       "    </tr>\n",
       "  </thead>\n",
       "  <tbody>\n",
       "    <tr>\n",
       "      <th>6464</th>\n",
       "      <td>50</td>\n",
       "    </tr>\n",
       "    <tr>\n",
       "      <th>5707</th>\n",
       "      <td>2</td>\n",
       "    </tr>\n",
       "    <tr>\n",
       "      <th>3442</th>\n",
       "      <td>29</td>\n",
       "    </tr>\n",
       "    <tr>\n",
       "      <th>3932</th>\n",
       "      <td>2</td>\n",
       "    </tr>\n",
       "    <tr>\n",
       "      <th>6124</th>\n",
       "      <td>57</td>\n",
       "    </tr>\n",
       "  </tbody>\n",
       "</table>\n",
       "</div>"
      ],
      "text/plain": [
       "      tenure\n",
       "6464      50\n",
       "5707       2\n",
       "3442      29\n",
       "3932       2\n",
       "6124      57"
      ]
     },
     "execution_count": 33,
     "metadata": {},
     "output_type": "execute_result"
    }
   ],
   "source": [
    "train_df[[\"tenure\"]].head()"
   ]
  },
  {
   "cell_type": "markdown",
   "metadata": {},
   "source": [
    "- The tenure column is the number of months the customer has stayed with the company. \n",
    "- But we only have information about this till the point we collected the data. "
   ]
  },
  {
   "cell_type": "markdown",
   "metadata": {
    "slideshow": {
     "slide_type": "-"
    }
   },
   "source": [
    "### ❓❓ Questions for you\n",
    "\n",
    "But why is this different? Can't you just use the techniques you learned so far (e.g., regression models) to predict the time (tenure in our case)? Take a minute to think about this.\n",
    "What could be possible scenarios for the duration column? \n"
   ]
  },
  {
   "cell_type": "markdown",
   "metadata": {},
   "source": [
    "<br><br><br><br><br><br>"
   ]
  },
  {
   "cell_type": "markdown",
   "metadata": {
    "slideshow": {
     "slide_type": "slide"
    }
   },
   "source": [
    "The answer would be yes if you could observe the actual time in all occurrences, but you usually cannot. Frequently, there will be some kind of **censoring** which will not allow you to observe the exact time that the event happened for all units/individuals that are being studied."
   ]
  },
  {
   "cell_type": "code",
   "execution_count": 34,
   "metadata": {},
   "outputs": [
    {
     "data": {
      "text/html": [
       "<div>\n",
       "<style scoped>\n",
       "    .dataframe tbody tr th:only-of-type {\n",
       "        vertical-align: middle;\n",
       "    }\n",
       "\n",
       "    .dataframe tbody tr th {\n",
       "        vertical-align: top;\n",
       "    }\n",
       "\n",
       "    .dataframe thead th {\n",
       "        text-align: right;\n",
       "    }\n",
       "</style>\n",
       "<table border=\"1\" class=\"dataframe\">\n",
       "  <thead>\n",
       "    <tr style=\"text-align: right;\">\n",
       "      <th></th>\n",
       "      <th>tenure</th>\n",
       "      <th>Churn</th>\n",
       "    </tr>\n",
       "  </thead>\n",
       "  <tbody>\n",
       "    <tr>\n",
       "      <th>6464</th>\n",
       "      <td>50</td>\n",
       "      <td>No</td>\n",
       "    </tr>\n",
       "    <tr>\n",
       "      <th>5707</th>\n",
       "      <td>2</td>\n",
       "      <td>No</td>\n",
       "    </tr>\n",
       "    <tr>\n",
       "      <th>3442</th>\n",
       "      <td>29</td>\n",
       "      <td>No</td>\n",
       "    </tr>\n",
       "    <tr>\n",
       "      <th>3932</th>\n",
       "      <td>2</td>\n",
       "      <td>Yes</td>\n",
       "    </tr>\n",
       "    <tr>\n",
       "      <th>6124</th>\n",
       "      <td>57</td>\n",
       "      <td>No</td>\n",
       "    </tr>\n",
       "  </tbody>\n",
       "</table>\n",
       "</div>"
      ],
      "text/plain": [
       "      tenure Churn\n",
       "6464      50    No\n",
       "5707       2    No\n",
       "3442      29    No\n",
       "3932       2   Yes\n",
       "6124      57    No"
      ]
     },
     "execution_count": 34,
     "metadata": {},
     "output_type": "execute_result"
    }
   ],
   "source": [
    "train_df[[\"tenure\", \"Churn\"]].head()"
   ]
  },
  {
   "cell_type": "markdown",
   "metadata": {},
   "source": [
    "- What this means is that we **don't have correct target values** to train or test our model.\n",
    "- This is a problem!"
   ]
  },
  {
   "cell_type": "markdown",
   "metadata": {},
   "source": [
    "Let's consider some approaches to deal with this censoring issue."
   ]
  },
  {
   "cell_type": "markdown",
   "metadata": {
    "slideshow": {
     "slide_type": "slide"
    }
   },
   "source": [
    "### Approach 1: Only consider the examples where \"Churn\"=Yes\n",
    "\n",
    "Let's just consider the cases _for which we have the time_, to obtain the average subscription length."
   ]
  },
  {
   "cell_type": "code",
   "execution_count": 35,
   "metadata": {},
   "outputs": [
    {
     "data": {
      "text/html": [
       "<div>\n",
       "<style scoped>\n",
       "    .dataframe tbody tr th:only-of-type {\n",
       "        vertical-align: middle;\n",
       "    }\n",
       "\n",
       "    .dataframe tbody tr th {\n",
       "        vertical-align: top;\n",
       "    }\n",
       "\n",
       "    .dataframe thead th {\n",
       "        text-align: right;\n",
       "    }\n",
       "</style>\n",
       "<table border=\"1\" class=\"dataframe\">\n",
       "  <thead>\n",
       "    <tr style=\"text-align: right;\">\n",
       "      <th></th>\n",
       "      <th>customerID</th>\n",
       "      <th>gender</th>\n",
       "      <th>SeniorCitizen</th>\n",
       "      <th>Partner</th>\n",
       "      <th>Dependents</th>\n",
       "      <th>tenure</th>\n",
       "      <th>PhoneService</th>\n",
       "      <th>MultipleLines</th>\n",
       "      <th>InternetService</th>\n",
       "      <th>OnlineSecurity</th>\n",
       "      <th>...</th>\n",
       "      <th>DeviceProtection</th>\n",
       "      <th>TechSupport</th>\n",
       "      <th>StreamingTV</th>\n",
       "      <th>StreamingMovies</th>\n",
       "      <th>Contract</th>\n",
       "      <th>PaperlessBilling</th>\n",
       "      <th>PaymentMethod</th>\n",
       "      <th>MonthlyCharges</th>\n",
       "      <th>TotalCharges</th>\n",
       "      <th>Churn</th>\n",
       "    </tr>\n",
       "  </thead>\n",
       "  <tbody>\n",
       "    <tr>\n",
       "      <th>3932</th>\n",
       "      <td>1304-NECVQ</td>\n",
       "      <td>Female</td>\n",
       "      <td>1</td>\n",
       "      <td>No</td>\n",
       "      <td>No</td>\n",
       "      <td>2</td>\n",
       "      <td>Yes</td>\n",
       "      <td>Yes</td>\n",
       "      <td>Fiber optic</td>\n",
       "      <td>No</td>\n",
       "      <td>...</td>\n",
       "      <td>Yes</td>\n",
       "      <td>No</td>\n",
       "      <td>No</td>\n",
       "      <td>No</td>\n",
       "      <td>Month-to-month</td>\n",
       "      <td>Yes</td>\n",
       "      <td>Electronic check</td>\n",
       "      <td>78.55</td>\n",
       "      <td>149.55</td>\n",
       "      <td>Yes</td>\n",
       "    </tr>\n",
       "    <tr>\n",
       "      <th>301</th>\n",
       "      <td>8098-LLAZX</td>\n",
       "      <td>Female</td>\n",
       "      <td>1</td>\n",
       "      <td>No</td>\n",
       "      <td>No</td>\n",
       "      <td>4</td>\n",
       "      <td>Yes</td>\n",
       "      <td>Yes</td>\n",
       "      <td>Fiber optic</td>\n",
       "      <td>No</td>\n",
       "      <td>...</td>\n",
       "      <td>No</td>\n",
       "      <td>No</td>\n",
       "      <td>Yes</td>\n",
       "      <td>Yes</td>\n",
       "      <td>Month-to-month</td>\n",
       "      <td>Yes</td>\n",
       "      <td>Electronic check</td>\n",
       "      <td>95.45</td>\n",
       "      <td>396.10</td>\n",
       "      <td>Yes</td>\n",
       "    </tr>\n",
       "    <tr>\n",
       "      <th>5540</th>\n",
       "      <td>3803-KMQFW</td>\n",
       "      <td>Female</td>\n",
       "      <td>0</td>\n",
       "      <td>Yes</td>\n",
       "      <td>Yes</td>\n",
       "      <td>1</td>\n",
       "      <td>Yes</td>\n",
       "      <td>No</td>\n",
       "      <td>No</td>\n",
       "      <td>No internet service</td>\n",
       "      <td>...</td>\n",
       "      <td>No internet service</td>\n",
       "      <td>No internet service</td>\n",
       "      <td>No internet service</td>\n",
       "      <td>No internet service</td>\n",
       "      <td>Month-to-month</td>\n",
       "      <td>No</td>\n",
       "      <td>Mailed check</td>\n",
       "      <td>20.55</td>\n",
       "      <td>20.55</td>\n",
       "      <td>Yes</td>\n",
       "    </tr>\n",
       "    <tr>\n",
       "      <th>4084</th>\n",
       "      <td>2777-PHDEI</td>\n",
       "      <td>Female</td>\n",
       "      <td>0</td>\n",
       "      <td>No</td>\n",
       "      <td>No</td>\n",
       "      <td>1</td>\n",
       "      <td>Yes</td>\n",
       "      <td>No</td>\n",
       "      <td>Fiber optic</td>\n",
       "      <td>No</td>\n",
       "      <td>...</td>\n",
       "      <td>No</td>\n",
       "      <td>No</td>\n",
       "      <td>Yes</td>\n",
       "      <td>No</td>\n",
       "      <td>Month-to-month</td>\n",
       "      <td>No</td>\n",
       "      <td>Electronic check</td>\n",
       "      <td>78.05</td>\n",
       "      <td>78.05</td>\n",
       "      <td>Yes</td>\n",
       "    </tr>\n",
       "    <tr>\n",
       "      <th>3272</th>\n",
       "      <td>6772-KSATR</td>\n",
       "      <td>Male</td>\n",
       "      <td>0</td>\n",
       "      <td>No</td>\n",
       "      <td>No</td>\n",
       "      <td>1</td>\n",
       "      <td>Yes</td>\n",
       "      <td>Yes</td>\n",
       "      <td>Fiber optic</td>\n",
       "      <td>Yes</td>\n",
       "      <td>...</td>\n",
       "      <td>No</td>\n",
       "      <td>No</td>\n",
       "      <td>No</td>\n",
       "      <td>No</td>\n",
       "      <td>Month-to-month</td>\n",
       "      <td>Yes</td>\n",
       "      <td>Electronic check</td>\n",
       "      <td>81.70</td>\n",
       "      <td>81.70</td>\n",
       "      <td>Yes</td>\n",
       "    </tr>\n",
       "  </tbody>\n",
       "</table>\n",
       "<p>5 rows × 21 columns</p>\n",
       "</div>"
      ],
      "text/plain": [
       "      customerID  gender  SeniorCitizen Partner Dependents  tenure  \\\n",
       "3932  1304-NECVQ  Female              1      No         No       2   \n",
       "301   8098-LLAZX  Female              1      No         No       4   \n",
       "5540  3803-KMQFW  Female              0     Yes        Yes       1   \n",
       "4084  2777-PHDEI  Female              0      No         No       1   \n",
       "3272  6772-KSATR    Male              0      No         No       1   \n",
       "\n",
       "     PhoneService MultipleLines InternetService       OnlineSecurity  ...  \\\n",
       "3932          Yes           Yes     Fiber optic                   No  ...   \n",
       "301           Yes           Yes     Fiber optic                   No  ...   \n",
       "5540          Yes            No              No  No internet service  ...   \n",
       "4084          Yes            No     Fiber optic                   No  ...   \n",
       "3272          Yes           Yes     Fiber optic                  Yes  ...   \n",
       "\n",
       "         DeviceProtection          TechSupport          StreamingTV  \\\n",
       "3932                  Yes                   No                   No   \n",
       "301                    No                   No                  Yes   \n",
       "5540  No internet service  No internet service  No internet service   \n",
       "4084                   No                   No                  Yes   \n",
       "3272                   No                   No                   No   \n",
       "\n",
       "          StreamingMovies        Contract PaperlessBilling     PaymentMethod  \\\n",
       "3932                   No  Month-to-month              Yes  Electronic check   \n",
       "301                   Yes  Month-to-month              Yes  Electronic check   \n",
       "5540  No internet service  Month-to-month               No      Mailed check   \n",
       "4084                   No  Month-to-month               No  Electronic check   \n",
       "3272                   No  Month-to-month              Yes  Electronic check   \n",
       "\n",
       "     MonthlyCharges  TotalCharges  Churn  \n",
       "3932          78.55        149.55    Yes  \n",
       "301           95.45        396.10    Yes  \n",
       "5540          20.55         20.55    Yes  \n",
       "4084          78.05         78.05    Yes  \n",
       "3272          81.70         81.70    Yes  \n",
       "\n",
       "[5 rows x 21 columns]"
      ]
     },
     "execution_count": 35,
     "metadata": {},
     "output_type": "execute_result"
    }
   ],
   "source": [
    "train_df_churn = train_df.query(\n",
    "    \"Churn == 'Yes'\"\n",
    ")  # Consider only examples where the customers churned.\n",
    "test_df_churn = test_df.query(\n",
    "    \"Churn == 'Yes'\"\n",
    ")  # Consider only examples where the customers churned.\n",
    "train_df_churn.head()"
   ]
  },
  {
   "cell_type": "code",
   "execution_count": 36,
   "metadata": {
    "slideshow": {
     "slide_type": "-"
    }
   },
   "outputs": [
    {
     "data": {
      "text/plain": [
       "(5282, 21)"
      ]
     },
     "execution_count": 36,
     "metadata": {},
     "output_type": "execute_result"
    }
   ],
   "source": [
    "train_df.shape"
   ]
  },
  {
   "cell_type": "code",
   "execution_count": 37,
   "metadata": {},
   "outputs": [
    {
     "data": {
      "text/plain": [
       "(1370, 21)"
      ]
     },
     "execution_count": 37,
     "metadata": {},
     "output_type": "execute_result"
    }
   ],
   "source": [
    "train_df_churn.shape"
   ]
  },
  {
   "cell_type": "code",
   "execution_count": 38,
   "metadata": {
    "slideshow": {
     "slide_type": "slide"
    }
   },
   "outputs": [
    {
     "data": {
      "text/plain": [
       "['tenure', 'MonthlyCharges', 'TotalCharges']"
      ]
     },
     "execution_count": 38,
     "metadata": {},
     "output_type": "execute_result"
    }
   ],
   "source": [
    "numeric_features"
   ]
  },
  {
   "cell_type": "code",
   "execution_count": 39,
   "metadata": {},
   "outputs": [],
   "source": [
    "preprocessing_notenure = make_column_transformer(\n",
    "    (\n",
    "        make_pipeline(SimpleImputer(strategy=\"median\"), StandardScaler()),\n",
    "        numeric_features[1:],  # Getting rid of the tenure column\n",
    "    ),\n",
    "    (OneHotEncoder(handle_unknown=\"ignore\"), categorical_features),\n",
    "    (\"passthrough\", passthrough_features),\n",
    ")"
   ]
  },
  {
   "cell_type": "code",
   "execution_count": 40,
   "metadata": {
    "slideshow": {
     "slide_type": "slide"
    }
   },
   "outputs": [],
   "source": [
    "tenure_lm = make_pipeline(preprocessing_notenure, Ridge())\n",
    "\n",
    "tenure_lm.fit(train_df_churn.drop(columns=[\"tenure\"]), train_df_churn[\"tenure\"]);"
   ]
  },
  {
   "cell_type": "code",
   "execution_count": 41,
   "metadata": {},
   "outputs": [
    {
     "data": {
      "text/html": [
       "<div>\n",
       "<style scoped>\n",
       "    .dataframe tbody tr th:only-of-type {\n",
       "        vertical-align: middle;\n",
       "    }\n",
       "\n",
       "    .dataframe tbody tr th {\n",
       "        vertical-align: top;\n",
       "    }\n",
       "\n",
       "    .dataframe thead th {\n",
       "        text-align: right;\n",
       "    }\n",
       "</style>\n",
       "<table border=\"1\" class=\"dataframe\">\n",
       "  <thead>\n",
       "    <tr style=\"text-align: right;\">\n",
       "      <th></th>\n",
       "      <th>tenure_predictions</th>\n",
       "    </tr>\n",
       "  </thead>\n",
       "  <tbody>\n",
       "    <tr>\n",
       "      <th>0</th>\n",
       "      <td>5.062449</td>\n",
       "    </tr>\n",
       "    <tr>\n",
       "      <th>1</th>\n",
       "      <td>13.198645</td>\n",
       "    </tr>\n",
       "    <tr>\n",
       "      <th>2</th>\n",
       "      <td>11.859455</td>\n",
       "    </tr>\n",
       "    <tr>\n",
       "      <th>3</th>\n",
       "      <td>5.865562</td>\n",
       "    </tr>\n",
       "    <tr>\n",
       "      <th>4</th>\n",
       "      <td>58.154842</td>\n",
       "    </tr>\n",
       "    <tr>\n",
       "      <th>5</th>\n",
       "      <td>3.757932</td>\n",
       "    </tr>\n",
       "    <tr>\n",
       "      <th>6</th>\n",
       "      <td>18.932070</td>\n",
       "    </tr>\n",
       "    <tr>\n",
       "      <th>7</th>\n",
       "      <td>7.720893</td>\n",
       "    </tr>\n",
       "    <tr>\n",
       "      <th>8</th>\n",
       "      <td>36.818041</td>\n",
       "    </tr>\n",
       "    <tr>\n",
       "      <th>9</th>\n",
       "      <td>7.263541</td>\n",
       "    </tr>\n",
       "  </tbody>\n",
       "</table>\n",
       "</div>"
      ],
      "text/plain": [
       "   tenure_predictions\n",
       "0            5.062449\n",
       "1           13.198645\n",
       "2           11.859455\n",
       "3            5.865562\n",
       "4           58.154842\n",
       "5            3.757932\n",
       "6           18.932070\n",
       "7            7.720893\n",
       "8           36.818041\n",
       "9            7.263541"
      ]
     },
     "execution_count": 41,
     "metadata": {},
     "output_type": "execute_result"
    }
   ],
   "source": [
    "pd.DataFrame(\n",
    "    tenure_lm.predict(test_df_churn.drop(columns=[\"tenure\"]))[:10],\n",
    "    columns=[\"tenure_predictions\"],\n",
    ")"
   ]
  },
  {
   "cell_type": "markdown",
   "metadata": {},
   "source": [
    "### ❓❓ Questions for you\n",
    "What will be wrong with our estimated survival times? Will they be too low or too high? \n",
    "<br><br><br><br><br><br><br>"
   ]
  },
  {
   "cell_type": "markdown",
   "metadata": {
    "slideshow": {
     "slide_type": "slide"
    }
   },
   "source": [
    "On average they will be **underestimates** (too small), because we are ignoring the currently subscribed (un-churned) customers. Our dataset is a biased sample of those who churned within the time window of the data collection. Long-time subscribers were more likely to be removed from the dataset! This is a common mistake - see the [Calling Bullshit video](https://www.youtube.com/watch?v=ITWQ5psx9Sw) from the README!"
   ]
  },
  {
   "cell_type": "markdown",
   "metadata": {
    "slideshow": {
     "slide_type": "skip"
    }
   },
   "source": [
    "<br><br>"
   ]
  },
  {
   "cell_type": "markdown",
   "metadata": {
    "slideshow": {
     "slide_type": "slide"
    }
   },
   "source": [
    "### Approach 2: Assume everyone churns right now\n",
    "\n",
    "Assume everyone churns right now - in other words, use the original dataset. "
   ]
  },
  {
   "cell_type": "code",
   "execution_count": 42,
   "metadata": {},
   "outputs": [
    {
     "data": {
      "text/html": [
       "<div>\n",
       "<style scoped>\n",
       "    .dataframe tbody tr th:only-of-type {\n",
       "        vertical-align: middle;\n",
       "    }\n",
       "\n",
       "    .dataframe tbody tr th {\n",
       "        vertical-align: top;\n",
       "    }\n",
       "\n",
       "    .dataframe thead th {\n",
       "        text-align: right;\n",
       "    }\n",
       "</style>\n",
       "<table border=\"1\" class=\"dataframe\">\n",
       "  <thead>\n",
       "    <tr style=\"text-align: right;\">\n",
       "      <th></th>\n",
       "      <th>tenure</th>\n",
       "      <th>Churn</th>\n",
       "    </tr>\n",
       "  </thead>\n",
       "  <tbody>\n",
       "    <tr>\n",
       "      <th>6464</th>\n",
       "      <td>50</td>\n",
       "      <td>No</td>\n",
       "    </tr>\n",
       "    <tr>\n",
       "      <th>5707</th>\n",
       "      <td>2</td>\n",
       "      <td>No</td>\n",
       "    </tr>\n",
       "    <tr>\n",
       "      <th>3442</th>\n",
       "      <td>29</td>\n",
       "      <td>No</td>\n",
       "    </tr>\n",
       "    <tr>\n",
       "      <th>3932</th>\n",
       "      <td>2</td>\n",
       "      <td>Yes</td>\n",
       "    </tr>\n",
       "    <tr>\n",
       "      <th>6124</th>\n",
       "      <td>57</td>\n",
       "      <td>No</td>\n",
       "    </tr>\n",
       "  </tbody>\n",
       "</table>\n",
       "</div>"
      ],
      "text/plain": [
       "      tenure Churn\n",
       "6464      50    No\n",
       "5707       2    No\n",
       "3442      29    No\n",
       "3932       2   Yes\n",
       "6124      57    No"
      ]
     },
     "execution_count": 42,
     "metadata": {},
     "output_type": "execute_result"
    }
   ],
   "source": [
    "train_df[[\"tenure\", \"Churn\"]].head()"
   ]
  },
  {
   "cell_type": "code",
   "execution_count": 43,
   "metadata": {},
   "outputs": [],
   "source": [
    "tenure_lm.fit(train_df.drop(columns=[\"tenure\"]), train_df[\"tenure\"]);"
   ]
  },
  {
   "cell_type": "code",
   "execution_count": 44,
   "metadata": {},
   "outputs": [
    {
     "data": {
      "text/html": [
       "<div>\n",
       "<style scoped>\n",
       "    .dataframe tbody tr th:only-of-type {\n",
       "        vertical-align: middle;\n",
       "    }\n",
       "\n",
       "    .dataframe tbody tr th {\n",
       "        vertical-align: top;\n",
       "    }\n",
       "\n",
       "    .dataframe thead th {\n",
       "        text-align: right;\n",
       "    }\n",
       "</style>\n",
       "<table border=\"1\" class=\"dataframe\">\n",
       "  <thead>\n",
       "    <tr style=\"text-align: right;\">\n",
       "      <th></th>\n",
       "      <th>tenure_predictions</th>\n",
       "    </tr>\n",
       "  </thead>\n",
       "  <tbody>\n",
       "    <tr>\n",
       "      <th>0</th>\n",
       "      <td>6.400047</td>\n",
       "    </tr>\n",
       "    <tr>\n",
       "      <th>1</th>\n",
       "      <td>20.220392</td>\n",
       "    </tr>\n",
       "    <tr>\n",
       "      <th>2</th>\n",
       "      <td>22.332746</td>\n",
       "    </tr>\n",
       "    <tr>\n",
       "      <th>3</th>\n",
       "      <td>12.825470</td>\n",
       "    </tr>\n",
       "    <tr>\n",
       "      <th>4</th>\n",
       "      <td>59.885968</td>\n",
       "    </tr>\n",
       "    <tr>\n",
       "      <th>5</th>\n",
       "      <td>7.075453</td>\n",
       "    </tr>\n",
       "    <tr>\n",
       "      <th>6</th>\n",
       "      <td>17.731498</td>\n",
       "    </tr>\n",
       "    <tr>\n",
       "      <th>7</th>\n",
       "      <td>10.407862</td>\n",
       "    </tr>\n",
       "    <tr>\n",
       "      <th>8</th>\n",
       "      <td>38.425365</td>\n",
       "    </tr>\n",
       "    <tr>\n",
       "      <th>9</th>\n",
       "      <td>10.854500</td>\n",
       "    </tr>\n",
       "  </tbody>\n",
       "</table>\n",
       "</div>"
      ],
      "text/plain": [
       "   tenure_predictions\n",
       "0            6.400047\n",
       "1           20.220392\n",
       "2           22.332746\n",
       "3           12.825470\n",
       "4           59.885968\n",
       "5            7.075453\n",
       "6           17.731498\n",
       "7           10.407862\n",
       "8           38.425365\n",
       "9           10.854500"
      ]
     },
     "execution_count": 44,
     "metadata": {},
     "output_type": "execute_result"
    }
   ],
   "source": [
    "pd.DataFrame(\n",
    "    tenure_lm.predict(test_df_churn.drop(columns=[\"tenure\"]))[:10],\n",
    "    columns=[\"tenure_predictions\"],\n",
    ")"
   ]
  },
  {
   "cell_type": "markdown",
   "metadata": {},
   "source": [
    "### ❓❓ Questions for you\n",
    "\n",
    "What will be wrong with our estimated survival time?\n",
    "<br><br><br><br><br><br>"
   ]
  },
  {
   "cell_type": "code",
   "execution_count": 45,
   "metadata": {
    "scrolled": true,
    "slideshow": {
     "slide_type": "slide"
    }
   },
   "outputs": [
    {
     "data": {
      "text/html": [
       "<div>\n",
       "<style scoped>\n",
       "    .dataframe tbody tr th:only-of-type {\n",
       "        vertical-align: middle;\n",
       "    }\n",
       "\n",
       "    .dataframe tbody tr th {\n",
       "        vertical-align: top;\n",
       "    }\n",
       "\n",
       "    .dataframe thead th {\n",
       "        text-align: right;\n",
       "    }\n",
       "</style>\n",
       "<table border=\"1\" class=\"dataframe\">\n",
       "  <thead>\n",
       "    <tr style=\"text-align: right;\">\n",
       "      <th></th>\n",
       "      <th>tenure</th>\n",
       "      <th>Churn</th>\n",
       "    </tr>\n",
       "  </thead>\n",
       "  <tbody>\n",
       "    <tr>\n",
       "      <th>6464</th>\n",
       "      <td>50</td>\n",
       "      <td>No</td>\n",
       "    </tr>\n",
       "    <tr>\n",
       "      <th>5707</th>\n",
       "      <td>2</td>\n",
       "      <td>No</td>\n",
       "    </tr>\n",
       "    <tr>\n",
       "      <th>3442</th>\n",
       "      <td>29</td>\n",
       "      <td>No</td>\n",
       "    </tr>\n",
       "    <tr>\n",
       "      <th>3932</th>\n",
       "      <td>2</td>\n",
       "      <td>Yes</td>\n",
       "    </tr>\n",
       "    <tr>\n",
       "      <th>6124</th>\n",
       "      <td>57</td>\n",
       "      <td>No</td>\n",
       "    </tr>\n",
       "  </tbody>\n",
       "</table>\n",
       "</div>"
      ],
      "text/plain": [
       "      tenure Churn\n",
       "6464      50    No\n",
       "5707       2    No\n",
       "3442      29    No\n",
       "3932       2   Yes\n",
       "6124      57    No"
      ]
     },
     "execution_count": 45,
     "metadata": {},
     "output_type": "execute_result"
    }
   ],
   "source": [
    "train_df[[\"tenure\", \"Churn\"]].head()"
   ]
  },
  {
   "cell_type": "markdown",
   "metadata": {},
   "source": [
    "It will be an **underestimate** again. For those still subscribed, while we did not remove them, we recorded a total tenure shorter than in reality, because they will keep going for some amount of time. "
   ]
  },
  {
   "cell_type": "markdown",
   "metadata": {
    "slideshow": {
     "slide_type": "skip"
    }
   },
   "source": [
    "<br><br>"
   ]
  },
  {
   "cell_type": "markdown",
   "metadata": {
    "slideshow": {
     "slide_type": "slide"
    }
   },
   "source": [
    "### Approach 3: Survival analysis\n",
    "\n",
    "Deal with this properly using [survival analysis](https://en.wikipedia.org/wiki/Survival_analysis).\n",
    "\n",
    "- You may learn about this in a statistics course.\n",
    "- We will use the `lifelines` package in Python and will not go into the math/stats of how it works."
   ]
  },
  {
   "cell_type": "code",
   "execution_count": 46,
   "metadata": {},
   "outputs": [
    {
     "data": {
      "text/html": [
       "<div>\n",
       "<style scoped>\n",
       "    .dataframe tbody tr th:only-of-type {\n",
       "        vertical-align: middle;\n",
       "    }\n",
       "\n",
       "    .dataframe tbody tr th {\n",
       "        vertical-align: top;\n",
       "    }\n",
       "\n",
       "    .dataframe thead th {\n",
       "        text-align: right;\n",
       "    }\n",
       "</style>\n",
       "<table border=\"1\" class=\"dataframe\">\n",
       "  <thead>\n",
       "    <tr style=\"text-align: right;\">\n",
       "      <th></th>\n",
       "      <th>tenure</th>\n",
       "      <th>Churn</th>\n",
       "    </tr>\n",
       "  </thead>\n",
       "  <tbody>\n",
       "    <tr>\n",
       "      <th>6464</th>\n",
       "      <td>50</td>\n",
       "      <td>No</td>\n",
       "    </tr>\n",
       "    <tr>\n",
       "      <th>5707</th>\n",
       "      <td>2</td>\n",
       "      <td>No</td>\n",
       "    </tr>\n",
       "    <tr>\n",
       "      <th>3442</th>\n",
       "      <td>29</td>\n",
       "      <td>No</td>\n",
       "    </tr>\n",
       "    <tr>\n",
       "      <th>3932</th>\n",
       "      <td>2</td>\n",
       "      <td>Yes</td>\n",
       "    </tr>\n",
       "    <tr>\n",
       "      <th>6124</th>\n",
       "      <td>57</td>\n",
       "      <td>No</td>\n",
       "    </tr>\n",
       "  </tbody>\n",
       "</table>\n",
       "</div>"
      ],
      "text/plain": [
       "      tenure Churn\n",
       "6464      50    No\n",
       "5707       2    No\n",
       "3442      29    No\n",
       "3932       2   Yes\n",
       "6124      57    No"
      ]
     },
     "execution_count": 46,
     "metadata": {},
     "output_type": "execute_result"
    }
   ],
   "source": [
    "train_df[[\"tenure\", \"Churn\"]].head()"
   ]
  },
  {
   "cell_type": "markdown",
   "metadata": {
    "slideshow": {
     "slide_type": "slide"
    }
   },
   "source": [
    "#### Types of questions we might want to answer:\n",
    "\n",
    "1. How long do customers stay with the service? \n",
    "2. For a particular customer, can we predict how long they might stay with the service?\n",
    "3. What factors influence a customer's churn time?"
   ]
  },
  {
   "cell_type": "markdown",
   "metadata": {
    "slideshow": {
     "slide_type": "slide"
    }
   },
   "source": [
    "## Break (5 min)\n",
    "\n",
    "![](img/eva-coffee.png)\n"
   ]
  },
  {
   "cell_type": "markdown",
   "metadata": {
    "slideshow": {
     "slide_type": "slide"
    }
   },
   "source": [
    "## ❓❓ Questions for you"
   ]
  },
  {
   "cell_type": "markdown",
   "metadata": {
    "slideshow": {
     "slide_type": "-"
    }
   },
   "source": [
    "## (iClicker) Exercise 20.2\n",
    "\n",
    "**iClicker cloud join link: https://join.iclicker.com/SNBF**\n",
    "\n",
    "**Select all of the following statements which are TRUE.**\n",
    "\n",
    "- (A) Right censoring occurs when the endpoint of event has not been observed for all study subjects by the end of the study period.\n",
    "- (B) Right censoring implies that the data is missing completely at random.\n",
    "- (C) In the presence of right-censored data, binary classification models can be applied directly without any modifications or special considerations.\n",
    "- (D) If we apply the `Ridge` regression model to predict tenure in right censored data, we are likely to underestimate it because the tenure observed in our data is shorter than what it would be in reality."
   ]
  },
  {
   "cell_type": "markdown",
   "metadata": {},
   "source": [
    "<br><br><br><br>"
   ]
  },
  {
   "cell_type": "markdown",
   "metadata": {
    "slideshow": {
     "slide_type": "slide"
    }
   },
   "source": [
    "## Kaplan-Meier survival curve\n",
    "\n",
    "- We'll start with a model called `KaplanMeierFitter` from `lifelines` package to get a Kaplan Meier curve.  \n",
    "- For this model we only use two columns: tenure and churn. \n",
    "- We do not use any other features. "
   ]
  },
  {
   "cell_type": "markdown",
   "metadata": {},
   "source": [
    "But before we do anything further, I want to modify our dataset slightly:\n",
    "\n",
    "1. I'm going to drop the `TotalCharges` (yes, after all that work fixing it) because it's a bit of a strange feature.\n",
    "  - Its value actually changes over time, but we only have the value at the end.\n",
    "  - We still have `MonthlyCharges`.\n",
    "2. I'm not going to scale the `tenure` column, since it will be convenient to keep it in its original units of months. "
   ]
  },
  {
   "cell_type": "markdown",
   "metadata": {
    "slideshow": {
     "slide_type": "slide"
    }
   },
   "source": [
    "Just for our sanity, I'm redefining the features. "
   ]
  },
  {
   "cell_type": "code",
   "execution_count": 47,
   "metadata": {},
   "outputs": [],
   "source": [
    "numeric_features = [\"MonthlyCharges\"]\n",
    "drop_features = [\"customerID\", \"TotalCharges\"]\n",
    "passthrough_features = [\"tenure\", \"SeniorCitizen\"]  # don't want to scale tenure\n",
    "target_column = [\"Churn\"]\n",
    "# the rest are categorical\n",
    "categorical_features = list(\n",
    "    set(train_df.columns)\n",
    "    - set(numeric_features)\n",
    "    - set(passthrough_features)\n",
    "    - set(drop_features)\n",
    "    - set(target_column)\n",
    ")"
   ]
  },
  {
   "cell_type": "code",
   "execution_count": 48,
   "metadata": {
    "slideshow": {
     "slide_type": "slide"
    }
   },
   "outputs": [],
   "source": [
    "preprocessing_final = make_column_transformer(\n",
    "    (\n",
    "        FunctionTransformer(lambda x: x == \"Yes\"),\n",
    "        target_column,\n",
    "    ),  # because we need it in this format for lifelines package\n",
    "    (\"passthrough\", passthrough_features),\n",
    "    (StandardScaler(), numeric_features),\n",
    "    (OneHotEncoder(handle_unknown=\"ignore\", sparse_output=False), categorical_features),\n",
    "    (\"drop\", drop_features),\n",
    ")"
   ]
  },
  {
   "cell_type": "code",
   "execution_count": 49,
   "metadata": {},
   "outputs": [],
   "source": [
    "preprocessing_final.fit(train_df);"
   ]
  },
  {
   "cell_type": "markdown",
   "metadata": {
    "slideshow": {
     "slide_type": "slide"
    }
   },
   "source": [
    "Let's get the column names of the columns created by our column transformer. "
   ]
  },
  {
   "cell_type": "code",
   "execution_count": 50,
   "metadata": {
    "slideshow": {
     "slide_type": "-"
    }
   },
   "outputs": [],
   "source": [
    "new_columns = (\n",
    "    target_column\n",
    "    + passthrough_features\n",
    "    + numeric_features\n",
    "    + preprocessing_final.named_transformers_[\"onehotencoder\"]\n",
    "    .get_feature_names_out(categorical_features)\n",
    "    .tolist()\n",
    ")"
   ]
  },
  {
   "cell_type": "code",
   "execution_count": 51,
   "metadata": {},
   "outputs": [],
   "source": [
    "train_df_surv = pd.DataFrame(\n",
    "    preprocessing_final.transform(train_df), index=train_df.index, columns=new_columns\n",
    ")\n",
    "test_df_surv = pd.DataFrame(\n",
    "    preprocessing_final.transform(test_df), index=test_df.index, columns=new_columns\n",
    ")"
   ]
  },
  {
   "cell_type": "code",
   "execution_count": 52,
   "metadata": {
    "slideshow": {
     "slide_type": "-"
    }
   },
   "outputs": [
    {
     "data": {
      "text/html": [
       "<div>\n",
       "<style scoped>\n",
       "    .dataframe tbody tr th:only-of-type {\n",
       "        vertical-align: middle;\n",
       "    }\n",
       "\n",
       "    .dataframe tbody tr th {\n",
       "        vertical-align: top;\n",
       "    }\n",
       "\n",
       "    .dataframe thead th {\n",
       "        text-align: right;\n",
       "    }\n",
       "</style>\n",
       "<table border=\"1\" class=\"dataframe\">\n",
       "  <thead>\n",
       "    <tr style=\"text-align: right;\">\n",
       "      <th></th>\n",
       "      <th>Churn</th>\n",
       "      <th>tenure</th>\n",
       "      <th>SeniorCitizen</th>\n",
       "      <th>MonthlyCharges</th>\n",
       "      <th>Dependents_No</th>\n",
       "      <th>Dependents_Yes</th>\n",
       "      <th>OnlineSecurity_No</th>\n",
       "      <th>OnlineSecurity_No internet service</th>\n",
       "      <th>OnlineSecurity_Yes</th>\n",
       "      <th>MultipleLines_No</th>\n",
       "      <th>...</th>\n",
       "      <th>StreamingTV_No</th>\n",
       "      <th>StreamingTV_No internet service</th>\n",
       "      <th>StreamingTV_Yes</th>\n",
       "      <th>PaperlessBilling_No</th>\n",
       "      <th>PaperlessBilling_Yes</th>\n",
       "      <th>DeviceProtection_No</th>\n",
       "      <th>DeviceProtection_No internet service</th>\n",
       "      <th>DeviceProtection_Yes</th>\n",
       "      <th>gender_Female</th>\n",
       "      <th>gender_Male</th>\n",
       "    </tr>\n",
       "  </thead>\n",
       "  <tbody>\n",
       "    <tr>\n",
       "      <th>6464</th>\n",
       "      <td>0.0</td>\n",
       "      <td>50.0</td>\n",
       "      <td>1.0</td>\n",
       "      <td>0.185175</td>\n",
       "      <td>1.0</td>\n",
       "      <td>0.0</td>\n",
       "      <td>0.0</td>\n",
       "      <td>0.0</td>\n",
       "      <td>1.0</td>\n",
       "      <td>0.0</td>\n",
       "      <td>...</td>\n",
       "      <td>0.0</td>\n",
       "      <td>0.0</td>\n",
       "      <td>1.0</td>\n",
       "      <td>0.0</td>\n",
       "      <td>1.0</td>\n",
       "      <td>1.0</td>\n",
       "      <td>0.0</td>\n",
       "      <td>0.0</td>\n",
       "      <td>0.0</td>\n",
       "      <td>1.0</td>\n",
       "    </tr>\n",
       "    <tr>\n",
       "      <th>5707</th>\n",
       "      <td>0.0</td>\n",
       "      <td>2.0</td>\n",
       "      <td>0.0</td>\n",
       "      <td>-0.641538</td>\n",
       "      <td>1.0</td>\n",
       "      <td>0.0</td>\n",
       "      <td>1.0</td>\n",
       "      <td>0.0</td>\n",
       "      <td>0.0</td>\n",
       "      <td>1.0</td>\n",
       "      <td>...</td>\n",
       "      <td>1.0</td>\n",
       "      <td>0.0</td>\n",
       "      <td>0.0</td>\n",
       "      <td>1.0</td>\n",
       "      <td>0.0</td>\n",
       "      <td>1.0</td>\n",
       "      <td>0.0</td>\n",
       "      <td>0.0</td>\n",
       "      <td>1.0</td>\n",
       "      <td>0.0</td>\n",
       "    </tr>\n",
       "    <tr>\n",
       "      <th>3442</th>\n",
       "      <td>0.0</td>\n",
       "      <td>29.0</td>\n",
       "      <td>0.0</td>\n",
       "      <td>1.133562</td>\n",
       "      <td>1.0</td>\n",
       "      <td>0.0</td>\n",
       "      <td>1.0</td>\n",
       "      <td>0.0</td>\n",
       "      <td>0.0</td>\n",
       "      <td>1.0</td>\n",
       "      <td>...</td>\n",
       "      <td>0.0</td>\n",
       "      <td>0.0</td>\n",
       "      <td>1.0</td>\n",
       "      <td>0.0</td>\n",
       "      <td>1.0</td>\n",
       "      <td>0.0</td>\n",
       "      <td>0.0</td>\n",
       "      <td>1.0</td>\n",
       "      <td>0.0</td>\n",
       "      <td>1.0</td>\n",
       "    </tr>\n",
       "    <tr>\n",
       "      <th>3932</th>\n",
       "      <td>1.0</td>\n",
       "      <td>2.0</td>\n",
       "      <td>1.0</td>\n",
       "      <td>0.458524</td>\n",
       "      <td>1.0</td>\n",
       "      <td>0.0</td>\n",
       "      <td>1.0</td>\n",
       "      <td>0.0</td>\n",
       "      <td>0.0</td>\n",
       "      <td>0.0</td>\n",
       "      <td>...</td>\n",
       "      <td>1.0</td>\n",
       "      <td>0.0</td>\n",
       "      <td>0.0</td>\n",
       "      <td>0.0</td>\n",
       "      <td>1.0</td>\n",
       "      <td>0.0</td>\n",
       "      <td>0.0</td>\n",
       "      <td>1.0</td>\n",
       "      <td>1.0</td>\n",
       "      <td>0.0</td>\n",
       "    </tr>\n",
       "    <tr>\n",
       "      <th>6124</th>\n",
       "      <td>0.0</td>\n",
       "      <td>57.0</td>\n",
       "      <td>0.0</td>\n",
       "      <td>-0.183179</td>\n",
       "      <td>0.0</td>\n",
       "      <td>1.0</td>\n",
       "      <td>0.0</td>\n",
       "      <td>0.0</td>\n",
       "      <td>1.0</td>\n",
       "      <td>1.0</td>\n",
       "      <td>...</td>\n",
       "      <td>1.0</td>\n",
       "      <td>0.0</td>\n",
       "      <td>0.0</td>\n",
       "      <td>0.0</td>\n",
       "      <td>1.0</td>\n",
       "      <td>0.0</td>\n",
       "      <td>0.0</td>\n",
       "      <td>1.0</td>\n",
       "      <td>1.0</td>\n",
       "      <td>0.0</td>\n",
       "    </tr>\n",
       "  </tbody>\n",
       "</table>\n",
       "<p>5 rows × 45 columns</p>\n",
       "</div>"
      ],
      "text/plain": [
       "      Churn  tenure  SeniorCitizen  MonthlyCharges  Dependents_No  \\\n",
       "6464    0.0    50.0            1.0        0.185175            1.0   \n",
       "5707    0.0     2.0            0.0       -0.641538            1.0   \n",
       "3442    0.0    29.0            0.0        1.133562            1.0   \n",
       "3932    1.0     2.0            1.0        0.458524            1.0   \n",
       "6124    0.0    57.0            0.0       -0.183179            0.0   \n",
       "\n",
       "      Dependents_Yes  OnlineSecurity_No  OnlineSecurity_No internet service  \\\n",
       "6464             0.0                0.0                                 0.0   \n",
       "5707             0.0                1.0                                 0.0   \n",
       "3442             0.0                1.0                                 0.0   \n",
       "3932             0.0                1.0                                 0.0   \n",
       "6124             1.0                0.0                                 0.0   \n",
       "\n",
       "      OnlineSecurity_Yes  MultipleLines_No  ...  StreamingTV_No  \\\n",
       "6464                 1.0               0.0  ...             0.0   \n",
       "5707                 0.0               1.0  ...             1.0   \n",
       "3442                 0.0               1.0  ...             0.0   \n",
       "3932                 0.0               0.0  ...             1.0   \n",
       "6124                 1.0               1.0  ...             1.0   \n",
       "\n",
       "      StreamingTV_No internet service  StreamingTV_Yes  PaperlessBilling_No  \\\n",
       "6464                              0.0              1.0                  0.0   \n",
       "5707                              0.0              0.0                  1.0   \n",
       "3442                              0.0              1.0                  0.0   \n",
       "3932                              0.0              0.0                  0.0   \n",
       "6124                              0.0              0.0                  0.0   \n",
       "\n",
       "      PaperlessBilling_Yes  DeviceProtection_No  \\\n",
       "6464                   1.0                  1.0   \n",
       "5707                   0.0                  1.0   \n",
       "3442                   1.0                  0.0   \n",
       "3932                   1.0                  0.0   \n",
       "6124                   1.0                  0.0   \n",
       "\n",
       "      DeviceProtection_No internet service  DeviceProtection_Yes  \\\n",
       "6464                                   0.0                   0.0   \n",
       "5707                                   0.0                   0.0   \n",
       "3442                                   0.0                   1.0   \n",
       "3932                                   0.0                   1.0   \n",
       "6124                                   0.0                   1.0   \n",
       "\n",
       "      gender_Female  gender_Male  \n",
       "6464            0.0          1.0  \n",
       "5707            1.0          0.0  \n",
       "3442            0.0          1.0  \n",
       "3932            1.0          0.0  \n",
       "6124            1.0          0.0  \n",
       "\n",
       "[5 rows x 45 columns]"
      ]
     },
     "execution_count": 52,
     "metadata": {},
     "output_type": "execute_result"
    }
   ],
   "source": [
    "train_df_surv.head()"
   ]
  },
  {
   "cell_type": "markdown",
   "metadata": {
    "slideshow": {
     "slide_type": "slide"
    }
   },
   "source": [
    "- Let's visualize the Kaplan-Meier survival curve.\n",
    "- This is a non-sklearn tool but the syntax is similar to `sklearn`"
   ]
  },
  {
   "cell_type": "code",
   "execution_count": 53,
   "metadata": {},
   "outputs": [],
   "source": [
    "kmf = lifelines.KaplanMeierFitter()\n",
    "kmf.fit(train_df_surv[\"tenure\"], train_df_surv[\"Churn\"]);"
   ]
  },
  {
   "cell_type": "code",
   "execution_count": 54,
   "metadata": {
    "slideshow": {
     "slide_type": "slide"
    }
   },
   "outputs": [
    {
     "data": {
      "image/png": "[encoded data removed]",
      "text/plain": [
       "<Figure size 640x480 with 1 Axes>"
      ]
     },
     "metadata": {},
     "output_type": "display_data"
    }
   ],
   "source": [
    "kmf.survival_function_.plot();\n",
    "plt.title(\"Survival function of customer churn\")\n",
    "plt.xlabel(\"Time with service (months)\")\n",
    "plt.ylabel(\"Survival probability\");"
   ]
  },
  {
   "cell_type": "markdown",
   "metadata": {},
   "source": [
    "- What is this plot telling us?\n",
    "- It shows the probability of survival over time.\n",
    "- For example, after 20 months the probability of survival is ~0.8. \n",
    "- Over time it's going down. "
   ]
  },
  {
   "cell_type": "markdown",
   "metadata": {
    "slideshow": {
     "slide_type": "skip"
    }
   },
   "source": [
    "What's the average tenure?"
   ]
  },
  {
   "cell_type": "code",
   "execution_count": 55,
   "metadata": {
    "slideshow": {
     "slide_type": "skip"
    }
   },
   "outputs": [
    {
     "data": {
      "text/plain": [
       "32.6391518364256"
      ]
     },
     "execution_count": 55,
     "metadata": {},
     "output_type": "execute_result"
    }
   ],
   "source": [
    "np.mean(train_df_surv[\"tenure\"])"
   ]
  },
  {
   "cell_type": "markdown",
   "metadata": {
    "slideshow": {
     "slide_type": "skip"
    }
   },
   "source": [
    "What's the average tenure of the people who churned?"
   ]
  },
  {
   "cell_type": "code",
   "execution_count": 56,
   "metadata": {
    "slideshow": {
     "slide_type": "skip"
    }
   },
   "outputs": [
    {
     "data": {
      "text/plain": [
       "17.854744525547446"
      ]
     },
     "execution_count": 56,
     "metadata": {},
     "output_type": "execute_result"
    }
   ],
   "source": [
    "np.mean(train_df_surv.query(\"Churn == 1.0\")[\"tenure\"])"
   ]
  },
  {
   "cell_type": "markdown",
   "metadata": {
    "slideshow": {
     "slide_type": "skip"
    }
   },
   "source": [
    "What's the average tenure of the people who did not churn? "
   ]
  },
  {
   "cell_type": "code",
   "execution_count": 57,
   "metadata": {
    "slideshow": {
     "slide_type": "skip"
    }
   },
   "outputs": [
    {
     "data": {
      "text/plain": [
       "37.816717791411044"
      ]
     },
     "execution_count": 57,
     "metadata": {},
     "output_type": "execute_result"
    }
   ],
   "source": [
    "np.mean(train_df_surv.query(\"Churn == 0.0\")[\"tenure\"])"
   ]
  },
  {
   "cell_type": "markdown",
   "metadata": {
    "slideshow": {
     "slide_type": "slide"
    }
   },
   "source": [
    "- Let's look at the histogram of number of people who have not churned. \n",
    "- The key point here is that people _joined at different times_. "
   ]
  },
  {
   "cell_type": "code",
   "execution_count": 58,
   "metadata": {},
   "outputs": [
    {
     "data": {
      "image/png": "[encoded data removed]",
      "text/plain": [
       "<Figure size 400x300 with 1 Axes>"
      ]
     },
     "metadata": {},
     "output_type": "display_data"
    }
   ],
   "source": [
    "plt.figure(figsize=(4, 3))\n",
    "train_df_surv[train_df_surv['Churn'] == 0][\"tenure\"].hist(bins=20, grid=False)\n",
    "plt.xlabel(\"months\");"
   ]
  },
  {
   "cell_type": "markdown",
   "metadata": {},
   "source": [
    "- Since the data was collected at a fixed time and these are the people who hadn't yet churned, those with larger `tenure` values here must have joined earlier."
   ]
  },
  {
   "cell_type": "markdown",
   "metadata": {
    "slideshow": {
     "slide_type": "slide"
    }
   },
   "source": [
    "Lifelines can also give us some \"error bars\":"
   ]
  },
  {
   "cell_type": "code",
   "execution_count": 59,
   "metadata": {},
   "outputs": [
    {
     "data": {
      "image/png": "[encoded data removed]",
      "text/plain": [
       "<Figure size 640x480 with 1 Axes>"
      ]
     },
     "metadata": {},
     "output_type": "display_data"
    }
   ],
   "source": [
    "kmf.plot_survival_function()\n",
    "plt.title(\"Survival function of customer churn\")\n",
    "plt.xlabel(\"Time with service (months)\")\n",
    "plt.ylabel(\"Survival probability\");"
   ]
  },
  {
   "cell_type": "markdown",
   "metadata": {},
   "source": [
    "- We already have some actionable information here.\n",
    "- The curve drops down fast at the beginning suggesting that people tend to leave early on. \n",
    "- If there would have been a big drop in the curve, it means a bunch of people left at that time (e.g., after a 1-month free trial). \n",
    "- By the way, the [original paper by Kaplan and Meier](https://web.stanford.edu/~lutian/coursepdf/KMpaper.pdf) has been cited over 57000 times!"
   ]
  },
  {
   "cell_type": "markdown",
   "metadata": {
    "slideshow": {
     "slide_type": "slide"
    }
   },
   "source": [
    "We can also create the K-M curve for different subgroups:"
   ]
  },
  {
   "cell_type": "code",
   "execution_count": 60,
   "metadata": {},
   "outputs": [],
   "source": [
    "T = train_df_surv[\"tenure\"]\n",
    "E = train_df_surv[\"Churn\"]\n",
    "senior = train_df_surv[\"SeniorCitizen\"] == 1"
   ]
  },
  {
   "cell_type": "code",
   "execution_count": 61,
   "metadata": {
    "slideshow": {
     "slide_type": "slide"
    }
   },
   "outputs": [
    {
     "data": {
      "image/png": "[encoded data removed]",
      "text/plain": [
       "<Figure size 640x480 with 1 Axes>"
      ]
     },
     "metadata": {},
     "output_type": "display_data"
    }
   ],
   "source": [
    "ax = plt.subplot(111)\n",
    "\n",
    "kmf.fit(T[senior], event_observed=E[senior], label=\"Senior Citizens\")\n",
    "kmf.plot_survival_function(ax=ax)\n",
    "\n",
    "kmf.fit(T[~senior], event_observed=E[~senior], label=\"Non-Senior Citizens\")\n",
    "kmf.plot_survival_function(ax=ax)\n",
    "\n",
    "plt.ylim(0, 1)\n",
    "plt.xlabel(\"Time with service (months)\")\n",
    "plt.ylabel(\"Survival probability\");"
   ]
  },
  {
   "cell_type": "markdown",
   "metadata": {},
   "source": [
    "- It looks like senior citizens churn more quickly than others.\n",
    "- This is quite useful!"
   ]
  },
  {
   "cell_type": "markdown",
   "metadata": {
    "slideshow": {
     "slide_type": "skip"
    }
   },
   "source": [
    "<br><br>"
   ]
  },
  {
   "cell_type": "markdown",
   "metadata": {
    "slideshow": {
     "slide_type": "slide"
    }
   },
   "source": [
    "## Cox proportional hazards model"
   ]
  },
  {
   "cell_type": "markdown",
   "metadata": {},
   "source": [
    "- We haven't been incorporating other features in the model so far. \n",
    "- The Cox proportional hazards model is a commonly used model that allows us to interpret how features influence a censored tenure/duration. \n",
    "- You can think of it like linear regression for survival analysis: we will get a coefficient for each feature that tells us how it influences survival.\n",
    "- It makes some strong assumptions (the proportional hazards assumption) that may not be true, but we won't go into this here.\n",
    "- The proportional hazard model works multiplicatively, like linear regression with log-transformed targets."
   ]
  },
  {
   "cell_type": "code",
   "execution_count": 62,
   "metadata": {
    "slideshow": {
     "slide_type": "slide"
    },
    "tags": [
     "raises-exception"
    ]
   },
   "outputs": [],
   "source": [
    "cph = lifelines.CoxPHFitter()\n",
    "# cph.fit(train_df_surv, duration_col=\"tenure\", event_col=\"Churn\");"
   ]
  },
  {
   "cell_type": "markdown",
   "metadata": {
    "slideshow": {
     "slide_type": "slide"
    }
   },
   "source": [
    "- Ok, going to [this URL](https://lifelines.readthedocs.io/en/latest/Examples.html#problems-with-convergence-in-the-cox-proportional-hazard-model), it seems the easiest solution is to add a penalizer.\n",
    "  - FYI this is related to switching from `LinearRegression` to `Ridge`.\n",
    "  - Adding `drop='first'` on our OHE might have helped with this.\n",
    "  - (For 340 folks: we're adding regularization; `lifelines` adds both L1 and L2 regularization, aka elastic net)"
   ]
  },
  {
   "cell_type": "code",
   "execution_count": 63,
   "metadata": {
    "slideshow": {
     "slide_type": "slide"
    }
   },
   "outputs": [],
   "source": [
    "cph = lifelines.CoxPHFitter(penalizer=0.1)\n",
    "cph.fit(train_df_surv, duration_col=\"tenure\", event_col=\"Churn\");"
   ]
  },
  {
   "cell_type": "markdown",
   "metadata": {
    "slideshow": {
     "slide_type": "slide"
    }
   },
   "source": [
    "We can look at the coefficients learned by the model and start interpreting them! "
   ]
  },
  {
   "cell_type": "code",
   "execution_count": 64,
   "metadata": {
    "slideshow": {
     "slide_type": "-"
    }
   },
   "outputs": [
    {
     "data": {
      "text/html": [
       "<div>\n",
       "<style scoped>\n",
       "    .dataframe tbody tr th:only-of-type {\n",
       "        vertical-align: middle;\n",
       "    }\n",
       "\n",
       "    .dataframe tbody tr th {\n",
       "        vertical-align: top;\n",
       "    }\n",
       "\n",
       "    .dataframe thead th {\n",
       "        text-align: right;\n",
       "    }\n",
       "</style>\n",
       "<table border=\"1\" class=\"dataframe\">\n",
       "  <thead>\n",
       "    <tr style=\"text-align: right;\">\n",
       "      <th></th>\n",
       "      <th>coef</th>\n",
       "    </tr>\n",
       "    <tr>\n",
       "      <th>covariate</th>\n",
       "      <th></th>\n",
       "    </tr>\n",
       "  </thead>\n",
       "  <tbody>\n",
       "    <tr>\n",
       "      <th>Contract_Month-to-month</th>\n",
       "      <td>0.812875</td>\n",
       "    </tr>\n",
       "    <tr>\n",
       "      <th>OnlineSecurity_No</th>\n",
       "      <td>0.311151</td>\n",
       "    </tr>\n",
       "    <tr>\n",
       "      <th>OnlineBackup_No</th>\n",
       "      <td>0.298561</td>\n",
       "    </tr>\n",
       "    <tr>\n",
       "      <th>PaymentMethod_Electronic check</th>\n",
       "      <td>0.280801</td>\n",
       "    </tr>\n",
       "    <tr>\n",
       "      <th>Partner_No</th>\n",
       "      <td>0.244814</td>\n",
       "    </tr>\n",
       "    <tr>\n",
       "      <th>...</th>\n",
       "      <td>...</td>\n",
       "    </tr>\n",
       "    <tr>\n",
       "      <th>OnlineBackup_Yes</th>\n",
       "      <td>-0.282600</td>\n",
       "    </tr>\n",
       "    <tr>\n",
       "      <th>PaymentMethod_Credit card (automatic)</th>\n",
       "      <td>-0.302801</td>\n",
       "    </tr>\n",
       "    <tr>\n",
       "      <th>OnlineSecurity_Yes</th>\n",
       "      <td>-0.330346</td>\n",
       "    </tr>\n",
       "    <tr>\n",
       "      <th>Contract_One year</th>\n",
       "      <td>-0.351821</td>\n",
       "    </tr>\n",
       "    <tr>\n",
       "      <th>Contract_Two year</th>\n",
       "      <td>-0.776427</td>\n",
       "    </tr>\n",
       "  </tbody>\n",
       "</table>\n",
       "<p>43 rows × 1 columns</p>\n",
       "</div>"
      ],
      "text/plain": [
       "                                           coef\n",
       "covariate                                      \n",
       "Contract_Month-to-month                0.812875\n",
       "OnlineSecurity_No                      0.311151\n",
       "OnlineBackup_No                        0.298561\n",
       "PaymentMethod_Electronic check         0.280801\n",
       "Partner_No                             0.244814\n",
       "...                                         ...\n",
       "OnlineBackup_Yes                      -0.282600\n",
       "PaymentMethod_Credit card (automatic) -0.302801\n",
       "OnlineSecurity_Yes                    -0.330346\n",
       "Contract_One year                     -0.351821\n",
       "Contract_Two year                     -0.776427\n",
       "\n",
       "[43 rows x 1 columns]"
      ]
     },
     "execution_count": 64,
     "metadata": {},
     "output_type": "execute_result"
    }
   ],
   "source": [
    "cph_params = pd.DataFrame(cph.params_).sort_values(by=\"coef\", ascending=False)\n",
    "cph_params"
   ]
  },
  {
   "cell_type": "markdown",
   "metadata": {},
   "source": [
    "How to interpret these coefficients In the Cox Proportional Hazards model? \n",
    "- A positive coefficient indicates that higher values of the feature are associated with higher hazard rates, meaning they are associated with worse survival.\n",
    "- A negative coefficient indicates that higher values of the feature are associated with lower hazard rates, meaning they are associated with better survival.\n",
    "- In our example, it looks like `Contract_Month-to-month` has a positive coefficient \n",
    "    - If the contract is month-to-month, it leads to more churn $\\downarrow$ worse survival\n",
    "- In our example, it looks like `Contract_Two year` has a negative coefficient \n",
    "    - If the contract is two-year contract, it leads to less churn $\\downarrow$ better survival\n",
    "    \n",
    "This makes sense!!!"
   ]
  },
  {
   "cell_type": "code",
   "execution_count": 65,
   "metadata": {
    "slideshow": {
     "slide_type": "skip"
    }
   },
   "outputs": [],
   "source": [
    "# cph.baseline_hazard_ # baseline hazard"
   ]
  },
  {
   "cell_type": "code",
   "execution_count": 66,
   "metadata": {
    "slideshow": {
     "slide_type": "skip"
    }
   },
   "outputs": [
    {
     "data": {
      "text/html": [
       "<div>\n",
       "<style scoped>\n",
       "    .dataframe tbody tr th:only-of-type {\n",
       "        vertical-align: middle;\n",
       "    }\n",
       "\n",
       "    .dataframe tbody tr th {\n",
       "        vertical-align: top;\n",
       "    }\n",
       "\n",
       "    .dataframe thead th {\n",
       "        text-align: right;\n",
       "    }\n",
       "</style>\n",
       "<table border=\"1\" class=\"dataframe\">\n",
       "  <thead>\n",
       "    <tr style=\"text-align: right;\">\n",
       "      <th></th>\n",
       "      <th>coef</th>\n",
       "      <th>exp(coef)</th>\n",
       "      <th>se(coef)</th>\n",
       "      <th>coef lower 95%</th>\n",
       "      <th>coef upper 95%</th>\n",
       "      <th>exp(coef) lower 95%</th>\n",
       "      <th>exp(coef) upper 95%</th>\n",
       "      <th>cmp to</th>\n",
       "      <th>z</th>\n",
       "      <th>p</th>\n",
       "      <th>-log2(p)</th>\n",
       "    </tr>\n",
       "    <tr>\n",
       "      <th>covariate</th>\n",
       "      <th></th>\n",
       "      <th></th>\n",
       "      <th></th>\n",
       "      <th></th>\n",
       "      <th></th>\n",
       "      <th></th>\n",
       "      <th></th>\n",
       "      <th></th>\n",
       "      <th></th>\n",
       "      <th></th>\n",
       "      <th></th>\n",
       "    </tr>\n",
       "  </thead>\n",
       "  <tbody>\n",
       "    <tr>\n",
       "      <th>SeniorCitizen</th>\n",
       "      <td>-0.019556</td>\n",
       "      <td>0.980634</td>\n",
       "      <td>0.057254</td>\n",
       "      <td>-0.131773</td>\n",
       "      <td>0.092660</td>\n",
       "      <td>0.876540</td>\n",
       "      <td>1.097088</td>\n",
       "      <td>0.0</td>\n",
       "      <td>-0.341571</td>\n",
       "      <td>0.732674</td>\n",
       "      <td>0.448757</td>\n",
       "    </tr>\n",
       "    <tr>\n",
       "      <th>MonthlyCharges</th>\n",
       "      <td>-0.003185</td>\n",
       "      <td>0.996820</td>\n",
       "      <td>0.040129</td>\n",
       "      <td>-0.081837</td>\n",
       "      <td>0.075467</td>\n",
       "      <td>0.921422</td>\n",
       "      <td>1.078387</td>\n",
       "      <td>0.0</td>\n",
       "      <td>-0.079377</td>\n",
       "      <td>0.936733</td>\n",
       "      <td>0.094290</td>\n",
       "    </tr>\n",
       "    <tr>\n",
       "      <th>Dependents_No</th>\n",
       "      <td>0.063772</td>\n",
       "      <td>1.065849</td>\n",
       "      <td>0.075042</td>\n",
       "      <td>-0.083308</td>\n",
       "      <td>0.210852</td>\n",
       "      <td>0.920067</td>\n",
       "      <td>1.234730</td>\n",
       "      <td>0.0</td>\n",
       "      <td>0.849812</td>\n",
       "      <td>0.395429</td>\n",
       "      <td>1.338508</td>\n",
       "    </tr>\n",
       "    <tr>\n",
       "      <th>Dependents_Yes</th>\n",
       "      <td>-0.063772</td>\n",
       "      <td>0.938219</td>\n",
       "      <td>0.075042</td>\n",
       "      <td>-0.210852</td>\n",
       "      <td>0.083308</td>\n",
       "      <td>0.809894</td>\n",
       "      <td>1.086877</td>\n",
       "      <td>0.0</td>\n",
       "      <td>-0.849812</td>\n",
       "      <td>0.395429</td>\n",
       "      <td>1.338508</td>\n",
       "    </tr>\n",
       "    <tr>\n",
       "      <th>OnlineSecurity_No</th>\n",
       "      <td>0.311151</td>\n",
       "      <td>1.364995</td>\n",
       "      <td>0.069644</td>\n",
       "      <td>0.174652</td>\n",
       "      <td>0.447650</td>\n",
       "      <td>1.190832</td>\n",
       "      <td>1.564631</td>\n",
       "      <td>0.0</td>\n",
       "      <td>4.467755</td>\n",
       "      <td>0.000008</td>\n",
       "      <td>16.948901</td>\n",
       "    </tr>\n",
       "    <tr>\n",
       "      <th>...</th>\n",
       "      <td>...</td>\n",
       "      <td>...</td>\n",
       "      <td>...</td>\n",
       "      <td>...</td>\n",
       "      <td>...</td>\n",
       "      <td>...</td>\n",
       "      <td>...</td>\n",
       "      <td>...</td>\n",
       "      <td>...</td>\n",
       "      <td>...</td>\n",
       "      <td>...</td>\n",
       "    </tr>\n",
       "    <tr>\n",
       "      <th>DeviceProtection_No</th>\n",
       "      <td>0.180214</td>\n",
       "      <td>1.197473</td>\n",
       "      <td>0.067879</td>\n",
       "      <td>0.047174</td>\n",
       "      <td>0.313254</td>\n",
       "      <td>1.048304</td>\n",
       "      <td>1.367868</td>\n",
       "      <td>0.0</td>\n",
       "      <td>2.654935</td>\n",
       "      <td>0.007932</td>\n",
       "      <td>6.978031</td>\n",
       "    </tr>\n",
       "    <tr>\n",
       "      <th>DeviceProtection_No internet service</th>\n",
       "      <td>-0.057267</td>\n",
       "      <td>0.944342</td>\n",
       "      <td>0.100970</td>\n",
       "      <td>-0.255165</td>\n",
       "      <td>0.140631</td>\n",
       "      <td>0.774789</td>\n",
       "      <td>1.150999</td>\n",
       "      <td>0.0</td>\n",
       "      <td>-0.567169</td>\n",
       "      <td>0.570599</td>\n",
       "      <td>0.809450</td>\n",
       "    </tr>\n",
       "    <tr>\n",
       "      <th>DeviceProtection_Yes</th>\n",
       "      <td>-0.154556</td>\n",
       "      <td>0.856795</td>\n",
       "      <td>0.069302</td>\n",
       "      <td>-0.290385</td>\n",
       "      <td>-0.018727</td>\n",
       "      <td>0.747975</td>\n",
       "      <td>0.981447</td>\n",
       "      <td>0.0</td>\n",
       "      <td>-2.230194</td>\n",
       "      <td>0.025735</td>\n",
       "      <td>5.280148</td>\n",
       "    </tr>\n",
       "    <tr>\n",
       "      <th>gender_Female</th>\n",
       "      <td>0.018217</td>\n",
       "      <td>1.018384</td>\n",
       "      <td>0.066333</td>\n",
       "      <td>-0.111793</td>\n",
       "      <td>0.148227</td>\n",
       "      <td>0.894230</td>\n",
       "      <td>1.159776</td>\n",
       "      <td>0.0</td>\n",
       "      <td>0.274631</td>\n",
       "      <td>0.783599</td>\n",
       "      <td>0.351812</td>\n",
       "    </tr>\n",
       "    <tr>\n",
       "      <th>gender_Male</th>\n",
       "      <td>-0.018217</td>\n",
       "      <td>0.981948</td>\n",
       "      <td>0.066333</td>\n",
       "      <td>-0.148227</td>\n",
       "      <td>0.111793</td>\n",
       "      <td>0.862236</td>\n",
       "      <td>1.118281</td>\n",
       "      <td>0.0</td>\n",
       "      <td>-0.274631</td>\n",
       "      <td>0.783599</td>\n",
       "      <td>0.351812</td>\n",
       "    </tr>\n",
       "  </tbody>\n",
       "</table>\n",
       "<p>43 rows × 11 columns</p>\n",
       "</div>"
      ],
      "text/plain": [
       "                                          coef  exp(coef)  se(coef)  \\\n",
       "covariate                                                             \n",
       "SeniorCitizen                        -0.019556   0.980634  0.057254   \n",
       "MonthlyCharges                       -0.003185   0.996820  0.040129   \n",
       "Dependents_No                         0.063772   1.065849  0.075042   \n",
       "Dependents_Yes                       -0.063772   0.938219  0.075042   \n",
       "OnlineSecurity_No                     0.311151   1.364995  0.069644   \n",
       "...                                        ...        ...       ...   \n",
       "DeviceProtection_No                   0.180214   1.197473  0.067879   \n",
       "DeviceProtection_No internet service -0.057267   0.944342  0.100970   \n",
       "DeviceProtection_Yes                 -0.154556   0.856795  0.069302   \n",
       "gender_Female                         0.018217   1.018384  0.066333   \n",
       "gender_Male                          -0.018217   0.981948  0.066333   \n",
       "\n",
       "                                      coef lower 95%  coef upper 95%  \\\n",
       "covariate                                                              \n",
       "SeniorCitizen                              -0.131773        0.092660   \n",
       "MonthlyCharges                             -0.081837        0.075467   \n",
       "Dependents_No                              -0.083308        0.210852   \n",
       "Dependents_Yes                             -0.210852        0.083308   \n",
       "OnlineSecurity_No                           0.174652        0.447650   \n",
       "...                                              ...             ...   \n",
       "DeviceProtection_No                         0.047174        0.313254   \n",
       "DeviceProtection_No internet service       -0.255165        0.140631   \n",
       "DeviceProtection_Yes                       -0.290385       -0.018727   \n",
       "gender_Female                              -0.111793        0.148227   \n",
       "gender_Male                                -0.148227        0.111793   \n",
       "\n",
       "                                      exp(coef) lower 95%  \\\n",
       "covariate                                                   \n",
       "SeniorCitizen                                    0.876540   \n",
       "MonthlyCharges                                   0.921422   \n",
       "Dependents_No                                    0.920067   \n",
       "Dependents_Yes                                   0.809894   \n",
       "OnlineSecurity_No                                1.190832   \n",
       "...                                                   ...   \n",
       "DeviceProtection_No                              1.048304   \n",
       "DeviceProtection_No internet service             0.774789   \n",
       "DeviceProtection_Yes                             0.747975   \n",
       "gender_Female                                    0.894230   \n",
       "gender_Male                                      0.862236   \n",
       "\n",
       "                                      exp(coef) upper 95%  cmp to         z  \\\n",
       "covariate                                                                     \n",
       "SeniorCitizen                                    1.097088     0.0 -0.341571   \n",
       "MonthlyCharges                                   1.078387     0.0 -0.079377   \n",
       "Dependents_No                                    1.234730     0.0  0.849812   \n",
       "Dependents_Yes                                   1.086877     0.0 -0.849812   \n",
       "OnlineSecurity_No                                1.564631     0.0  4.467755   \n",
       "...                                                   ...     ...       ...   \n",
       "DeviceProtection_No                              1.367868     0.0  2.654935   \n",
       "DeviceProtection_No internet service             1.150999     0.0 -0.567169   \n",
       "DeviceProtection_Yes                             0.981447     0.0 -2.230194   \n",
       "gender_Female                                    1.159776     0.0  0.274631   \n",
       "gender_Male                                      1.118281     0.0 -0.274631   \n",
       "\n",
       "                                             p   -log2(p)  \n",
       "covariate                                                  \n",
       "SeniorCitizen                         0.732674   0.448757  \n",
       "MonthlyCharges                        0.936733   0.094290  \n",
       "Dependents_No                         0.395429   1.338508  \n",
       "Dependents_Yes                        0.395429   1.338508  \n",
       "OnlineSecurity_No                     0.000008  16.948901  \n",
       "...                                        ...        ...  \n",
       "DeviceProtection_No                   0.007932   6.978031  \n",
       "DeviceProtection_No internet service  0.570599   0.809450  \n",
       "DeviceProtection_Yes                  0.025735   5.280148  \n",
       "gender_Female                         0.783599   0.351812  \n",
       "gender_Male                           0.783599   0.351812  \n",
       "\n",
       "[43 rows x 11 columns]"
      ]
     },
     "execution_count": 66,
     "metadata": {},
     "output_type": "execute_result"
    }
   ],
   "source": [
    "cph.summary"
   ]
  },
  {
   "cell_type": "markdown",
   "metadata": {
    "slideshow": {
     "slide_type": "slide"
    }
   },
   "source": [
    "Could we have gotten this type of information out of sklearn?\n",
    "- Yes, let's try it out! \n",
    "- But remember that using survival analysis approach is more appropriate for such problems. "
   ]
  },
  {
   "cell_type": "code",
   "execution_count": 67,
   "metadata": {},
   "outputs": [
    {
     "data": {
      "text/plain": [
       "6464     No\n",
       "5707     No\n",
       "3442     No\n",
       "3932    Yes\n",
       "6124     No\n",
       "Name: Churn, dtype: object"
      ]
     },
     "execution_count": 67,
     "metadata": {},
     "output_type": "execute_result"
    }
   ],
   "source": [
    "y_train.head()"
   ]
  },
  {
   "cell_type": "code",
   "execution_count": 68,
   "metadata": {
    "slideshow": {
     "slide_type": "-"
    }
   },
   "outputs": [
    {
     "data": {
      "text/html": [
       "<div>\n",
       "<style scoped>\n",
       "    .dataframe tbody tr th:only-of-type {\n",
       "        vertical-align: middle;\n",
       "    }\n",
       "\n",
       "    .dataframe tbody tr th {\n",
       "        vertical-align: top;\n",
       "    }\n",
       "\n",
       "    .dataframe thead th {\n",
       "        text-align: right;\n",
       "    }\n",
       "</style>\n",
       "<table border=\"1\" class=\"dataframe\">\n",
       "  <thead>\n",
       "    <tr style=\"text-align: right;\">\n",
       "      <th></th>\n",
       "      <th>customerID</th>\n",
       "      <th>gender</th>\n",
       "      <th>SeniorCitizen</th>\n",
       "      <th>Partner</th>\n",
       "      <th>Dependents</th>\n",
       "      <th>PhoneService</th>\n",
       "      <th>MultipleLines</th>\n",
       "      <th>InternetService</th>\n",
       "      <th>OnlineSecurity</th>\n",
       "      <th>OnlineBackup</th>\n",
       "      <th>DeviceProtection</th>\n",
       "      <th>TechSupport</th>\n",
       "      <th>StreamingTV</th>\n",
       "      <th>StreamingMovies</th>\n",
       "      <th>Contract</th>\n",
       "      <th>PaperlessBilling</th>\n",
       "      <th>PaymentMethod</th>\n",
       "      <th>MonthlyCharges</th>\n",
       "      <th>TotalCharges</th>\n",
       "    </tr>\n",
       "  </thead>\n",
       "  <tbody>\n",
       "    <tr>\n",
       "      <th>6464</th>\n",
       "      <td>4726-DLWQN</td>\n",
       "      <td>Male</td>\n",
       "      <td>1</td>\n",
       "      <td>No</td>\n",
       "      <td>No</td>\n",
       "      <td>Yes</td>\n",
       "      <td>Yes</td>\n",
       "      <td>DSL</td>\n",
       "      <td>Yes</td>\n",
       "      <td>Yes</td>\n",
       "      <td>No</td>\n",
       "      <td>No</td>\n",
       "      <td>Yes</td>\n",
       "      <td>No</td>\n",
       "      <td>Month-to-month</td>\n",
       "      <td>Yes</td>\n",
       "      <td>Bank transfer (automatic)</td>\n",
       "      <td>70.35</td>\n",
       "      <td>3454.60</td>\n",
       "    </tr>\n",
       "    <tr>\n",
       "      <th>5707</th>\n",
       "      <td>4537-DKTAL</td>\n",
       "      <td>Female</td>\n",
       "      <td>0</td>\n",
       "      <td>No</td>\n",
       "      <td>No</td>\n",
       "      <td>Yes</td>\n",
       "      <td>No</td>\n",
       "      <td>DSL</td>\n",
       "      <td>No</td>\n",
       "      <td>No</td>\n",
       "      <td>No</td>\n",
       "      <td>No</td>\n",
       "      <td>No</td>\n",
       "      <td>No</td>\n",
       "      <td>Month-to-month</td>\n",
       "      <td>No</td>\n",
       "      <td>Electronic check</td>\n",
       "      <td>45.55</td>\n",
       "      <td>84.40</td>\n",
       "    </tr>\n",
       "    <tr>\n",
       "      <th>3442</th>\n",
       "      <td>0468-YRPXN</td>\n",
       "      <td>Male</td>\n",
       "      <td>0</td>\n",
       "      <td>No</td>\n",
       "      <td>No</td>\n",
       "      <td>Yes</td>\n",
       "      <td>No</td>\n",
       "      <td>Fiber optic</td>\n",
       "      <td>No</td>\n",
       "      <td>No</td>\n",
       "      <td>Yes</td>\n",
       "      <td>Yes</td>\n",
       "      <td>Yes</td>\n",
       "      <td>Yes</td>\n",
       "      <td>Month-to-month</td>\n",
       "      <td>Yes</td>\n",
       "      <td>Credit card (automatic)</td>\n",
       "      <td>98.80</td>\n",
       "      <td>2807.10</td>\n",
       "    </tr>\n",
       "    <tr>\n",
       "      <th>3932</th>\n",
       "      <td>1304-NECVQ</td>\n",
       "      <td>Female</td>\n",
       "      <td>1</td>\n",
       "      <td>No</td>\n",
       "      <td>No</td>\n",
       "      <td>Yes</td>\n",
       "      <td>Yes</td>\n",
       "      <td>Fiber optic</td>\n",
       "      <td>No</td>\n",
       "      <td>No</td>\n",
       "      <td>Yes</td>\n",
       "      <td>No</td>\n",
       "      <td>No</td>\n",
       "      <td>No</td>\n",
       "      <td>Month-to-month</td>\n",
       "      <td>Yes</td>\n",
       "      <td>Electronic check</td>\n",
       "      <td>78.55</td>\n",
       "      <td>149.55</td>\n",
       "    </tr>\n",
       "    <tr>\n",
       "      <th>6124</th>\n",
       "      <td>7153-CHRBV</td>\n",
       "      <td>Female</td>\n",
       "      <td>0</td>\n",
       "      <td>Yes</td>\n",
       "      <td>Yes</td>\n",
       "      <td>Yes</td>\n",
       "      <td>No</td>\n",
       "      <td>DSL</td>\n",
       "      <td>Yes</td>\n",
       "      <td>No</td>\n",
       "      <td>Yes</td>\n",
       "      <td>Yes</td>\n",
       "      <td>No</td>\n",
       "      <td>No</td>\n",
       "      <td>One year</td>\n",
       "      <td>Yes</td>\n",
       "      <td>Mailed check</td>\n",
       "      <td>59.30</td>\n",
       "      <td>3274.35</td>\n",
       "    </tr>\n",
       "  </tbody>\n",
       "</table>\n",
       "</div>"
      ],
      "text/plain": [
       "      customerID  gender  SeniorCitizen Partner Dependents PhoneService  \\\n",
       "6464  4726-DLWQN    Male              1      No         No          Yes   \n",
       "5707  4537-DKTAL  Female              0      No         No          Yes   \n",
       "3442  0468-YRPXN    Male              0      No         No          Yes   \n",
       "3932  1304-NECVQ  Female              1      No         No          Yes   \n",
       "6124  7153-CHRBV  Female              0     Yes        Yes          Yes   \n",
       "\n",
       "     MultipleLines InternetService OnlineSecurity OnlineBackup  \\\n",
       "6464           Yes             DSL            Yes          Yes   \n",
       "5707            No             DSL             No           No   \n",
       "3442            No     Fiber optic             No           No   \n",
       "3932           Yes     Fiber optic             No           No   \n",
       "6124            No             DSL            Yes           No   \n",
       "\n",
       "     DeviceProtection TechSupport StreamingTV StreamingMovies        Contract  \\\n",
       "6464               No          No         Yes              No  Month-to-month   \n",
       "5707               No          No          No              No  Month-to-month   \n",
       "3442              Yes         Yes         Yes             Yes  Month-to-month   \n",
       "3932              Yes          No          No              No  Month-to-month   \n",
       "6124              Yes         Yes          No              No        One year   \n",
       "\n",
       "     PaperlessBilling              PaymentMethod  MonthlyCharges  TotalCharges  \n",
       "6464              Yes  Bank transfer (automatic)           70.35       3454.60  \n",
       "5707               No           Electronic check           45.55         84.40  \n",
       "3442              Yes    Credit card (automatic)           98.80       2807.10  \n",
       "3932              Yes           Electronic check           78.55        149.55  \n",
       "6124              Yes               Mailed check           59.30       3274.35  "
      ]
     },
     "execution_count": 68,
     "metadata": {},
     "output_type": "execute_result"
    }
   ],
   "source": [
    "X_train.drop(columns=[\"tenure\"]).head()"
   ]
  },
  {
   "cell_type": "markdown",
   "metadata": {
    "slideshow": {
     "slide_type": "slide"
    }
   },
   "source": [
    "I'm redefining feature types and our preprocessor for our sanity. "
   ]
  },
  {
   "cell_type": "code",
   "execution_count": 69,
   "metadata": {
    "slideshow": {
     "slide_type": "-"
    }
   },
   "outputs": [],
   "source": [
    "numeric_features = [\"MonthlyCharges\"]\n",
    "drop_features = [\"customerID\", \"tenure\", \"TotalCharges\"]\n",
    "passthrough_features = [\"SeniorCitizen\"]\n",
    "target_column = [\"Churn\"]\n",
    "# the rest are categorical\n",
    "categorical_features = list(\n",
    "    set(train_df.columns)\n",
    "    - set(numeric_features)\n",
    "    - set(passthrough_features)\n",
    "    - set(drop_features)\n",
    "    - set(target_column)\n",
    ")"
   ]
  },
  {
   "cell_type": "code",
   "execution_count": 70,
   "metadata": {},
   "outputs": [],
   "source": [
    "preprocessor = make_column_transformer(\n",
    "    (\n",
    "        make_pipeline(SimpleImputer(strategy=\"median\"), StandardScaler()),\n",
    "        numeric_features,\n",
    "    ),\n",
    "    (OneHotEncoder(handle_unknown=\"ignore\"), categorical_features),\n",
    "    (\"passthrough\", passthrough_features),\n",
    "    (\"drop\", drop_features),\n",
    ")"
   ]
  },
  {
   "cell_type": "code",
   "execution_count": 71,
   "metadata": {},
   "outputs": [],
   "source": [
    "preprocessor.fit(X_train);"
   ]
  },
  {
   "cell_type": "code",
   "execution_count": 72,
   "metadata": {
    "slideshow": {
     "slide_type": "slide"
    }
   },
   "outputs": [],
   "source": [
    "new_columns = (\n",
    "    numeric_features\n",
    "    + preprocessor.named_transformers_[\"onehotencoder\"]\n",
    "    .get_feature_names_out(categorical_features)\n",
    "    .tolist()\n",
    "    + passthrough_features\n",
    ")"
   ]
  },
  {
   "cell_type": "code",
   "execution_count": 73,
   "metadata": {},
   "outputs": [],
   "source": [
    "lr = make_pipeline(preprocessor, LogisticRegression(max_iter=1000))\n",
    "lr.fit(X_train, y_train)\n",
    "lr_coefs = pd.DataFrame(\n",
    "    data=np.squeeze(lr[1].coef_), index=new_columns, columns=[\"Coefficient\"]\n",
    ")"
   ]
  },
  {
   "cell_type": "code",
   "execution_count": 74,
   "metadata": {
    "slideshow": {
     "slide_type": "slide"
    }
   },
   "outputs": [
    {
     "data": {
      "text/html": [
       "<div>\n",
       "<style scoped>\n",
       "    .dataframe tbody tr th:only-of-type {\n",
       "        vertical-align: middle;\n",
       "    }\n",
       "\n",
       "    .dataframe tbody tr th {\n",
       "        vertical-align: top;\n",
       "    }\n",
       "\n",
       "    .dataframe thead th {\n",
       "        text-align: right;\n",
       "    }\n",
       "</style>\n",
       "<table border=\"1\" class=\"dataframe\">\n",
       "  <thead>\n",
       "    <tr style=\"text-align: right;\">\n",
       "      <th></th>\n",
       "      <th>Coefficient</th>\n",
       "    </tr>\n",
       "  </thead>\n",
       "  <tbody>\n",
       "    <tr>\n",
       "      <th>Contract_Month-to-month</th>\n",
       "      <td>1.117063</td>\n",
       "    </tr>\n",
       "    <tr>\n",
       "      <th>InternetService_Fiber optic</th>\n",
       "      <td>0.522513</td>\n",
       "    </tr>\n",
       "    <tr>\n",
       "      <th>OnlineSecurity_No</th>\n",
       "      <td>0.349206</td>\n",
       "    </tr>\n",
       "    <tr>\n",
       "      <th>PaymentMethod_Electronic check</th>\n",
       "      <td>0.311261</td>\n",
       "    </tr>\n",
       "    <tr>\n",
       "      <th>OnlineBackup_No</th>\n",
       "      <td>0.253954</td>\n",
       "    </tr>\n",
       "    <tr>\n",
       "      <th>...</th>\n",
       "      <td>...</td>\n",
       "    </tr>\n",
       "    <tr>\n",
       "      <th>MonthlyCharges</th>\n",
       "      <td>-0.172977</td>\n",
       "    </tr>\n",
       "    <tr>\n",
       "      <th>OnlineSecurity_Yes</th>\n",
       "      <td>-0.242936</td>\n",
       "    </tr>\n",
       "    <tr>\n",
       "      <th>PaymentMethod_Credit card (automatic)</th>\n",
       "      <td>-0.260652</td>\n",
       "    </tr>\n",
       "    <tr>\n",
       "      <th>InternetService_DSL</th>\n",
       "      <td>-0.416242</td>\n",
       "    </tr>\n",
       "    <tr>\n",
       "      <th>Contract_Two year</th>\n",
       "      <td>-1.019200</td>\n",
       "    </tr>\n",
       "  </tbody>\n",
       "</table>\n",
       "<p>43 rows × 1 columns</p>\n",
       "</div>"
      ],
      "text/plain": [
       "                                       Coefficient\n",
       "Contract_Month-to-month                   1.117063\n",
       "InternetService_Fiber optic               0.522513\n",
       "OnlineSecurity_No                         0.349206\n",
       "PaymentMethod_Electronic check            0.311261\n",
       "OnlineBackup_No                           0.253954\n",
       "...                                            ...\n",
       "MonthlyCharges                           -0.172977\n",
       "OnlineSecurity_Yes                       -0.242936\n",
       "PaymentMethod_Credit card (automatic)    -0.260652\n",
       "InternetService_DSL                      -0.416242\n",
       "Contract_Two year                        -1.019200\n",
       "\n",
       "[43 rows x 1 columns]"
      ]
     },
     "execution_count": 74,
     "metadata": {},
     "output_type": "execute_result"
    }
   ],
   "source": [
    "lr_coefs.sort_values(by=\"Coefficient\", ascending=False)"
   ]
  },
  {
   "cell_type": "markdown",
   "metadata": {},
   "source": [
    "- There is some agreement, which is good.\n",
    "- But our survival model is much more useful.\n",
    "  - Not to mention more correct."
   ]
  },
  {
   "cell_type": "markdown",
   "metadata": {
    "slideshow": {
     "slide_type": "slide"
    }
   },
   "source": [
    "- One thing we get with `lifelines` is confidence intervals on the coefficients:"
   ]
  },
  {
   "cell_type": "code",
   "execution_count": 75,
   "metadata": {},
   "outputs": [
    {
     "data": {
      "image/png": "[encoded data removed]",
      "text/plain": [
       "<Figure size 1000x1200 with 1 Axes>"
      ]
     },
     "metadata": {},
     "output_type": "display_data"
    }
   ],
   "source": [
    "plt.figure(figsize=(10, 12))\n",
    "cph.plot();"
   ]
  },
  {
   "cell_type": "markdown",
   "metadata": {
    "slideshow": {
     "slide_type": "slide"
    }
   },
   "source": [
    "- (We could probably get the same for logistic regression if using `statsmodels` instead of sklearn.)\n",
    "- However, in general, I would be careful with all of this.\n",
    "- Ideally we would have more statistical training when using `lifelines` - there is a lot that can go wrong.\n",
    "  - It comes with various diagnostics as well.\n",
    "- But I think it's very useful to know about survival analysis and the availability of software to deal with it.\n",
    "- Oh, and there are lots of other nice plots."
   ]
  },
  {
   "cell_type": "markdown",
   "metadata": {},
   "source": [
    "### Survival plots"
   ]
  },
  {
   "cell_type": "markdown",
   "metadata": {
    "slideshow": {
     "slide_type": "slide"
    }
   },
   "source": [
    "- Let's look at the survival plots for the people with \n",
    "    - two-year contract (Contract_Two year = 1) and \n",
    "    - people without two-year contract (Contract_Two year = 0)\n",
    "- As expected, the former survive longer. "
   ]
  },
  {
   "cell_type": "code",
   "execution_count": 76,
   "metadata": {},
   "outputs": [
    {
     "data": {
      "image/png": "[encoded data removed]",
      "text/plain": [
       "<Figure size 640x480 with 1 Axes>"
      ]
     },
     "metadata": {},
     "output_type": "display_data"
    }
   ],
   "source": [
    "cph.plot_partial_effects_on_outcome(\"Contract_Two year\", [0, 1]);\n",
    "plt.xlabel(\"Time with service (months)\")\n",
    "plt.ylabel(\"Survival probability\");"
   ]
  },
  {
   "cell_type": "markdown",
   "metadata": {
    "slideshow": {
     "slide_type": "slide"
    }
   },
   "source": [
    "Now let's look at the survival plots for the people with different MonthlyCharges. "
   ]
  },
  {
   "cell_type": "code",
   "execution_count": 77,
   "metadata": {},
   "outputs": [
    {
     "data": {
      "image/png": "[encoded data removed]",
      "text/plain": [
       "<Figure size 640x480 with 1 Axes>"
      ]
     },
     "metadata": {},
     "output_type": "display_data"
    }
   ],
   "source": [
    "cph.plot_partial_effects_on_outcome(\"MonthlyCharges\", [10, 100, 1000, 10_000]);\n",
    "plt.xlabel(\"Time with service (months)\")\n",
    "plt.ylabel(\"Survival probability\");"
   ]
  },
  {
   "cell_type": "markdown",
   "metadata": {},
   "source": [
    "- That's the thing with linear models, they can't stop the growth.\n",
    "- We have a negative coefficient associated with `MonthlyCharges`"
   ]
  },
  {
   "cell_type": "code",
   "execution_count": 78,
   "metadata": {},
   "outputs": [
    {
     "data": {
      "text/plain": [
       "coef   -0.003185\n",
       "Name: MonthlyCharges, dtype: float64"
      ]
     },
     "execution_count": 78,
     "metadata": {},
     "output_type": "execute_result"
    }
   ],
   "source": [
    "cph_params.loc[\"MonthlyCharges\"]"
   ]
  },
  {
   "cell_type": "markdown",
   "metadata": {},
   "source": [
    "If your monthly charges are huge, it takes this to the extreme and thinks you'll basically never churn."
   ]
  },
  {
   "cell_type": "markdown",
   "metadata": {
    "slideshow": {
     "slide_type": "skip"
    }
   },
   "source": [
    "<br><br><br><br>"
   ]
  },
  {
   "cell_type": "markdown",
   "metadata": {
    "slideshow": {
     "slide_type": "slide"
    }
   },
   "source": [
    "## Prediction"
   ]
  },
  {
   "cell_type": "markdown",
   "metadata": {},
   "source": [
    "- We can use survival analysis to make predictions as well.\n",
    "- Here is the expected number of months to churn for the first 5 customers in the test set:"
   ]
  },
  {
   "cell_type": "code",
   "execution_count": 79,
   "metadata": {},
   "outputs": [],
   "source": [
    "test_X = test_df_surv.drop(columns=[\"tenure\", \"Churn\"])"
   ]
  },
  {
   "cell_type": "markdown",
   "metadata": {
    "slideshow": {
     "slide_type": "-"
    }
   },
   "source": [
    "How long each non-churned customer is likely to stay according to the model assuming that they just joined right now?  "
   ]
  },
  {
   "cell_type": "code",
   "execution_count": 80,
   "metadata": {
    "slideshow": {
     "slide_type": "-"
    }
   },
   "outputs": [
    {
     "data": {
      "text/plain": [
       "941     35.206724\n",
       "1404    69.023086\n",
       "5515    68.608565\n",
       "3684    27.565062\n",
       "7017    67.890933\n",
       "dtype: float64"
      ]
     },
     "execution_count": 80,
     "metadata": {},
     "output_type": "execute_result"
    }
   ],
   "source": [
    "cph.predict_expectation(test_X).head()  # assumes they just joined right now"
   ]
  },
  {
   "cell_type": "markdown",
   "metadata": {
    "slideshow": {
     "slide_type": "slide"
    }
   },
   "source": [
    "Survival curves for first 5 customers in the test set:"
   ]
  },
  {
   "cell_type": "code",
   "execution_count": 81,
   "metadata": {},
   "outputs": [
    {
     "data": {
      "image/png": "[encoded data removed]",
      "text/plain": [
       "<Figure size 640x480 with 1 Axes>"
      ]
     },
     "metadata": {},
     "output_type": "display_data"
    }
   ],
   "source": [
    "cph.predict_survival_function(test_X[:5]).plot()\n",
    "plt.xlabel(\"Time with service (months)\")\n",
    "plt.ylabel(\"Survival probability\");"
   ]
  },
  {
   "cell_type": "markdown",
   "metadata": {},
   "source": [
    "From `predict_survival_function` documentation:\n",
    "\n",
    "> Predict the survival function for individuals, given their covariates. This assumes that the individual just entered the study (that is, we do not condition on how long they have already lived for.) \n",
    "\n",
    "So these curves are \"starting now\"."
   ]
  },
  {
   "cell_type": "markdown",
   "metadata": {
    "slideshow": {
     "slide_type": "slide"
    }
   },
   "source": [
    "- There's no probability prerequisite for this course, so this is optional material.\n",
    "- But you can do some interesting stuff here with conditional probabilities.\n",
    "- \"Given that a customer has been here 5 months, what's the outlook?\"\n",
    "  - It will be different than for a new customer. \n",
    "  - Thus, we might still want to predict for the non-churned customers in the training set!\n",
    "  - Not something we really thought about with our traditional supervised learning."
   ]
  },
  {
   "cell_type": "markdown",
   "metadata": {
    "slideshow": {
     "slide_type": "slide"
    }
   },
   "source": [
    "Let's get the customers who have not churned yet.  "
   ]
  },
  {
   "cell_type": "code",
   "execution_count": 82,
   "metadata": {
    "slideshow": {
     "slide_type": "-"
    }
   },
   "outputs": [],
   "source": [
    "train_df_surv_not_churned = train_df_surv[train_df_surv[\"Churn\"] == 0]"
   ]
  },
  {
   "cell_type": "markdown",
   "metadata": {
    "slideshow": {
     "slide_type": "slide"
    }
   },
   "source": [
    "We can _condition_ on the person having been around for 20 months."
   ]
  },
  {
   "cell_type": "code",
   "execution_count": 83,
   "metadata": {},
   "outputs": [
    {
     "data": {
      "text/html": [
       "<div>\n",
       "<style scoped>\n",
       "    .dataframe tbody tr th:only-of-type {\n",
       "        vertical-align: middle;\n",
       "    }\n",
       "\n",
       "    .dataframe tbody tr th {\n",
       "        vertical-align: top;\n",
       "    }\n",
       "\n",
       "    .dataframe thead th {\n",
       "        text-align: right;\n",
       "    }\n",
       "</style>\n",
       "<table border=\"1\" class=\"dataframe\">\n",
       "  <thead>\n",
       "    <tr style=\"text-align: right;\">\n",
       "      <th></th>\n",
       "      <th>6464</th>\n",
       "    </tr>\n",
       "  </thead>\n",
       "  <tbody>\n",
       "    <tr>\n",
       "      <th>0.0</th>\n",
       "      <td>1.000000</td>\n",
       "    </tr>\n",
       "    <tr>\n",
       "      <th>1.0</th>\n",
       "      <td>0.996788</td>\n",
       "    </tr>\n",
       "    <tr>\n",
       "      <th>2.0</th>\n",
       "      <td>0.991966</td>\n",
       "    </tr>\n",
       "    <tr>\n",
       "      <th>3.0</th>\n",
       "      <td>0.989443</td>\n",
       "    </tr>\n",
       "    <tr>\n",
       "      <th>4.0</th>\n",
       "      <td>0.982570</td>\n",
       "    </tr>\n",
       "    <tr>\n",
       "      <th>...</th>\n",
       "      <td>...</td>\n",
       "    </tr>\n",
       "    <tr>\n",
       "      <th>68.0</th>\n",
       "      <td>0.429634</td>\n",
       "    </tr>\n",
       "    <tr>\n",
       "      <th>69.0</th>\n",
       "      <td>0.429634</td>\n",
       "    </tr>\n",
       "    <tr>\n",
       "      <th>70.0</th>\n",
       "      <td>0.429634</td>\n",
       "    </tr>\n",
       "    <tr>\n",
       "      <th>71.0</th>\n",
       "      <td>0.429634</td>\n",
       "    </tr>\n",
       "    <tr>\n",
       "      <th>72.0</th>\n",
       "      <td>0.429634</td>\n",
       "    </tr>\n",
       "  </tbody>\n",
       "</table>\n",
       "<p>73 rows × 1 columns</p>\n",
       "</div>"
      ],
      "text/plain": [
       "          6464\n",
       "0.0   1.000000\n",
       "1.0   0.996788\n",
       "2.0   0.991966\n",
       "3.0   0.989443\n",
       "4.0   0.982570\n",
       "...        ...\n",
       "68.0  0.429634\n",
       "69.0  0.429634\n",
       "70.0  0.429634\n",
       "71.0  0.429634\n",
       "72.0  0.429634\n",
       "\n",
       "[73 rows x 1 columns]"
      ]
     },
     "execution_count": 83,
     "metadata": {},
     "output_type": "execute_result"
    }
   ],
   "source": [
    "cph.predict_survival_function(train_df_surv_not_churned[:1], conditional_after=20)"
   ]
  },
  {
   "cell_type": "code",
   "execution_count": 84,
   "metadata": {
    "slideshow": {
     "slide_type": "slide"
    }
   },
   "outputs": [
    {
     "data": {
      "image/png": "[encoded data removed]",
      "text/plain": [
       "<Figure size 640x480 with 1 Axes>"
      ]
     },
     "metadata": {},
     "output_type": "display_data"
    }
   ],
   "source": [
    "plt.figure()\n",
    "cph.predict_survival_function(train_df_surv_not_churned[:1]).plot(ax=plt.gca())\n",
    "preds = cph.predict_survival_function(\n",
    "    train_df_surv_not_churned[:1], conditional_after=20\n",
    ")\n",
    "plt.plot(preds.index[20:], preds.values[:-20])\n",
    "plt.xlabel(\"Time with service (months)\")\n",
    "plt.ylabel(\"Survival probability\")\n",
    "plt.legend([\"Starting now\", \"Given 20 more months of service\"])\n",
    "plt.ylim([0, 1])\n",
    "plt.xlim([1, 50]);"
   ]
  },
  {
   "cell_type": "markdown",
   "metadata": {},
   "source": [
    "- Look at how the survival function (and expected lifetime) is much longer _given_ that the customer has already lasted 20 months."
   ]
  },
  {
   "cell_type": "markdown",
   "metadata": {
    "slideshow": {
     "slide_type": "slide"
    }
   },
   "source": [
    "- How long each non-churned customer is likely to stay according to the model assuming that they have been here for the tenure time? \n",
    "- So, we can set this to their actual tenure so far to get a prediciton of what will happen going forward:"
   ]
  },
  {
   "cell_type": "code",
   "execution_count": 85,
   "metadata": {},
   "outputs": [
    {
     "data": {
      "image/png": "[encoded data removed]",
      "text/plain": [
       "<Figure size 640x480 with 1 Axes>"
      ]
     },
     "metadata": {},
     "output_type": "display_data"
    }
   ],
   "source": [
    "cph.predict_survival_function(\n",
    "    train_df_surv_not_churned[:1],\n",
    "    conditional_after=train_df_surv_not_churned[:1][\"tenure\"],\n",
    ").plot()\n",
    "plt.xlabel(\"Time into the future (months)\")\n",
    "plt.ylabel(\"Survival probability\")\n",
    "plt.ylim([0, 1])\n",
    "plt.xlim([0, 20]);"
   ]
  },
  {
   "cell_type": "markdown",
   "metadata": {
    "slideshow": {
     "slide_type": "slide"
    }
   },
   "source": [
    "- Another useful application: you could ask what is the [customer lifetime value](https://en.wikipedia.org/wiki/Customer_lifetime_value).\n",
    "  - Basically, how much money do you expect to make off this customer between now and when they churn?\n",
    "- With regular supervised learning, tenure was a feature and we could only predict whether or not they had churned by then."
   ]
  },
  {
   "cell_type": "markdown",
   "metadata": {},
   "source": [
    "<br><br>"
   ]
  },
  {
   "cell_type": "markdown",
   "metadata": {
    "slideshow": {
     "slide_type": "slide"
    }
   },
   "source": [
    "## (Optional) Evaluation \n",
    "\n",
    "By default score returns \"partial log likelihood\":"
   ]
  },
  {
   "cell_type": "code",
   "execution_count": 86,
   "metadata": {},
   "outputs": [
    {
     "data": {
      "text/plain": [
       "-1.8641864337292489"
      ]
     },
     "execution_count": 86,
     "metadata": {},
     "output_type": "execute_result"
    }
   ],
   "source": [
    "cph.score(train_df_surv)"
   ]
  },
  {
   "cell_type": "code",
   "execution_count": 87,
   "metadata": {},
   "outputs": [
    {
     "data": {
      "text/plain": [
       "-1.7277854625841886"
      ]
     },
     "execution_count": 87,
     "metadata": {},
     "output_type": "execute_result"
    }
   ],
   "source": [
    "cph.score(test_df_surv)"
   ]
  },
  {
   "cell_type": "markdown",
   "metadata": {
    "slideshow": {
     "slide_type": "slide"
    }
   },
   "source": [
    "We can look at the \"concordance index\" which is more interpretable:"
   ]
  },
  {
   "cell_type": "code",
   "execution_count": 88,
   "metadata": {},
   "outputs": [
    {
     "data": {
      "text/plain": [
       "0.8625888648969532"
      ]
     },
     "execution_count": 88,
     "metadata": {},
     "output_type": "execute_result"
    }
   ],
   "source": [
    "cph.concordance_index_"
   ]
  },
  {
   "cell_type": "code",
   "execution_count": 89,
   "metadata": {},
   "outputs": [
    {
     "data": {
      "text/plain": [
       "0.8625888648969532"
      ]
     },
     "execution_count": 89,
     "metadata": {},
     "output_type": "execute_result"
    }
   ],
   "source": [
    "cph.score(train_df_surv, scoring_method=\"concordance_index\")"
   ]
  },
  {
   "cell_type": "code",
   "execution_count": 90,
   "metadata": {},
   "outputs": [
    {
     "data": {
      "text/plain": [
       "0.8546143543902771"
      ]
     },
     "execution_count": 90,
     "metadata": {},
     "output_type": "execute_result"
    }
   ],
   "source": [
    "cph.score(test_df_surv, scoring_method=\"concordance_index\")"
   ]
  },
  {
   "cell_type": "markdown",
   "metadata": {
    "slideshow": {
     "slide_type": "slide"
    }
   },
   "source": [
    "From the documentation [here](https://lifelines.readthedocs.io/en/latest/Survival%20Regression.html#model-selection-and-calibration-in-survival-regression):\n",
    "\n",
    "> Another censoring-sensitive measure is the concordance-index, also known as the c-index. This measure evaluates the accuracy of the ranking of predicted time. It is in fact a generalization of AUC, another common loss function, and is interpreted similarly:\n",
    "> \n",
    "> - 0.5 is the expected result from random predictions,\n",
    "> - 1.0 is perfect concordance and,\n",
    "> - 0.0 is perfect anti-concordance (multiply predictions with -1 to get 1.0)\n",
    "> \n",
    "> [Here](https://stats.stackexchange.com/a/478305/11867) is an excellent introduction & description of the c-index for new users.\n"
   ]
  },
  {
   "cell_type": "code",
   "execution_count": 91,
   "metadata": {},
   "outputs": [
    {
     "data": {
      "text/html": [
       "<div>\n",
       "<style scoped>\n",
       "    .dataframe tbody tr th:only-of-type {\n",
       "        vertical-align: middle;\n",
       "    }\n",
       "\n",
       "    .dataframe tbody tr th {\n",
       "        vertical-align: top;\n",
       "    }\n",
       "\n",
       "    .dataframe thead th {\n",
       "        text-align: right;\n",
       "    }\n",
       "</style>\n",
       "<table border=\"1\" class=\"dataframe\">\n",
       "  <tbody>\n",
       "    <tr>\n",
       "      <th>null_distribution</th>\n",
       "      <td>chi squared</td>\n",
       "    </tr>\n",
       "    <tr>\n",
       "      <th>degrees_freedom</th>\n",
       "      <td>43</td>\n",
       "    </tr>\n",
       "    <tr>\n",
       "      <th>test_name</th>\n",
       "      <td>log-likelihood ratio test</td>\n",
       "    </tr>\n",
       "  </tbody>\n",
       "</table>\n",
       "</div><table border=\"1\" class=\"dataframe\">\n",
       "  <thead>\n",
       "    <tr style=\"text-align: right;\">\n",
       "      <th></th>\n",
       "      <th>test_statistic</th>\n",
       "      <th>p</th>\n",
       "      <th>-log2(p)</th>\n",
       "    </tr>\n",
       "  </thead>\n",
       "  <tbody>\n",
       "    <tr>\n",
       "      <th>0</th>\n",
       "      <td>2206.68</td>\n",
       "      <td>&lt;0.005</td>\n",
       "      <td>inf</td>\n",
       "    </tr>\n",
       "  </tbody>\n",
       "</table>"
      ],
      "text/latex": [
       "\\begin{tabular}{lrrr}\n",
       " & test_statistic & p & -log2(p) \\\\\n",
       "0 & 2206.68 & 0.00 & inf \\\\\n",
       "\\end{tabular}\n"
      ],
      "text/plain": [
       "<lifelines.StatisticalResult: log-likelihood ratio test>\n",
       "null_distribution = chi squared\n",
       "  degrees_freedom = 43\n",
       "        test_name = log-likelihood ratio test\n",
       "\n",
       "---\n",
       " test_statistic      p  -log2(p)\n",
       "        2206.68 <0.005       inf"
      ]
     },
     "execution_count": 91,
     "metadata": {},
     "output_type": "execute_result"
    }
   ],
   "source": [
    "cph.log_likelihood_ratio_test()"
   ]
  },
  {
   "cell_type": "code",
   "execution_count": 92,
   "metadata": {},
   "outputs": [
    {
     "name": "stdout",
     "output_type": "stream",
     "text": [
      "The ``p_value_threshold`` is set at 0.01. Even under the null hypothesis of no violations, some\n",
      "covariates will be below the threshold by chance. This is compounded when there are many covariates.\n",
      "Similarly, when there are lots of observations, even minor deviances from the proportional hazard\n",
      "assumption will be flagged.\n",
      "\n",
      "With that in mind, it's best to use a combination of statistical tests and visual tests to determine\n",
      "the most serious violations. Produce visual plots using ``check_assumptions(..., show_plots=True)``\n",
      "and looking for non-constant lines. See link [A] below for a full example.\n",
      "\n"
     ]
    },
    {
     "data": {
      "text/html": [
       "<div>\n",
       "<style scoped>\n",
       "    .dataframe tbody tr th:only-of-type {\n",
       "        vertical-align: middle;\n",
       "    }\n",
       "\n",
       "    .dataframe tbody tr th {\n",
       "        vertical-align: top;\n",
       "    }\n",
       "\n",
       "    .dataframe thead th {\n",
       "        text-align: right;\n",
       "    }\n",
       "</style>\n",
       "<table border=\"1\" class=\"dataframe\">\n",
       "  <tbody>\n",
       "    <tr>\n",
       "      <th>null_distribution</th>\n",
       "      <td>chi squared</td>\n",
       "    </tr>\n",
       "    <tr>\n",
       "      <th>degrees_of_freedom</th>\n",
       "      <td>1</td>\n",
       "    </tr>\n",
       "    <tr>\n",
       "      <th>model</th>\n",
       "      <td>&lt;lifelines.CoxPHFitter: fitted with 5282 total...</td>\n",
       "    </tr>\n",
       "    <tr>\n",
       "      <th>test_name</th>\n",
       "      <td>proportional_hazard_test</td>\n",
       "    </tr>\n",
       "  </tbody>\n",
       "</table>\n",
       "</div><table border=\"1\" class=\"dataframe\">\n",
       "  <thead>\n",
       "    <tr style=\"text-align: right;\">\n",
       "      <th></th>\n",
       "      <th></th>\n",
       "      <th>test_statistic</th>\n",
       "      <th>p</th>\n",
       "      <th>-log2(p)</th>\n",
       "    </tr>\n",
       "  </thead>\n",
       "  <tbody>\n",
       "    <tr>\n",
       "      <th rowspan=\"2\" valign=\"top\">Contract_Month-to-month</th>\n",
       "      <th>km</th>\n",
       "      <td>0.07</td>\n",
       "      <td>0.80</td>\n",
       "      <td>0.33</td>\n",
       "    </tr>\n",
       "    <tr>\n",
       "      <th>rank</th>\n",
       "      <td>0.00</td>\n",
       "      <td>0.97</td>\n",
       "      <td>0.04</td>\n",
       "    </tr>\n",
       "    <tr>\n",
       "      <th rowspan=\"2\" valign=\"top\">Contract_One year</th>\n",
       "      <th>km</th>\n",
       "      <td>14.52</td>\n",
       "      <td>&lt;0.005</td>\n",
       "      <td>12.81</td>\n",
       "    </tr>\n",
       "    <tr>\n",
       "      <th>rank</th>\n",
       "      <td>10.11</td>\n",
       "      <td>&lt;0.005</td>\n",
       "      <td>9.41</td>\n",
       "    </tr>\n",
       "    <tr>\n",
       "      <th rowspan=\"2\" valign=\"top\">Contract_Two year</th>\n",
       "      <th>km</th>\n",
       "      <td>8.86</td>\n",
       "      <td>&lt;0.005</td>\n",
       "      <td>8.42</td>\n",
       "    </tr>\n",
       "    <tr>\n",
       "      <th>rank</th>\n",
       "      <td>7.69</td>\n",
       "      <td>0.01</td>\n",
       "      <td>7.49</td>\n",
       "    </tr>\n",
       "    <tr>\n",
       "      <th rowspan=\"2\" valign=\"top\">Dependents_No</th>\n",
       "      <th>km</th>\n",
       "      <td>0.07</td>\n",
       "      <td>0.79</td>\n",
       "      <td>0.34</td>\n",
       "    </tr>\n",
       "    <tr>\n",
       "      <th>rank</th>\n",
       "      <td>0.07</td>\n",
       "      <td>0.79</td>\n",
       "      <td>0.34</td>\n",
       "    </tr>\n",
       "    <tr>\n",
       "      <th rowspan=\"2\" valign=\"top\">Dependents_Yes</th>\n",
       "      <th>km</th>\n",
       "      <td>0.07</td>\n",
       "      <td>0.79</td>\n",
       "      <td>0.34</td>\n",
       "    </tr>\n",
       "    <tr>\n",
       "      <th>rank</th>\n",
       "      <td>0.07</td>\n",
       "      <td>0.79</td>\n",
       "      <td>0.34</td>\n",
       "    </tr>\n",
       "    <tr>\n",
       "      <th rowspan=\"2\" valign=\"top\">DeviceProtection_No</th>\n",
       "      <th>km</th>\n",
       "      <td>0.07</td>\n",
       "      <td>0.79</td>\n",
       "      <td>0.34</td>\n",
       "    </tr>\n",
       "    <tr>\n",
       "      <th>rank</th>\n",
       "      <td>0.08</td>\n",
       "      <td>0.77</td>\n",
       "      <td>0.37</td>\n",
       "    </tr>\n",
       "    <tr>\n",
       "      <th rowspan=\"2\" valign=\"top\">DeviceProtection_No internet service</th>\n",
       "      <th>km</th>\n",
       "      <td>0.25</td>\n",
       "      <td>0.62</td>\n",
       "      <td>0.69</td>\n",
       "    </tr>\n",
       "    <tr>\n",
       "      <th>rank</th>\n",
       "      <td>0.26</td>\n",
       "      <td>0.61</td>\n",
       "      <td>0.72</td>\n",
       "    </tr>\n",
       "    <tr>\n",
       "      <th rowspan=\"2\" valign=\"top\">DeviceProtection_Yes</th>\n",
       "      <th>km</th>\n",
       "      <td>0.70</td>\n",
       "      <td>0.40</td>\n",
       "      <td>1.31</td>\n",
       "    </tr>\n",
       "    <tr>\n",
       "      <th>rank</th>\n",
       "      <td>0.76</td>\n",
       "      <td>0.38</td>\n",
       "      <td>1.38</td>\n",
       "    </tr>\n",
       "    <tr>\n",
       "      <th rowspan=\"2\" valign=\"top\">InternetService_DSL</th>\n",
       "      <th>km</th>\n",
       "      <td>0.32</td>\n",
       "      <td>0.57</td>\n",
       "      <td>0.81</td>\n",
       "    </tr>\n",
       "    <tr>\n",
       "      <th>rank</th>\n",
       "      <td>0.28</td>\n",
       "      <td>0.59</td>\n",
       "      <td>0.75</td>\n",
       "    </tr>\n",
       "    <tr>\n",
       "      <th rowspan=\"2\" valign=\"top\">InternetService_Fiber optic</th>\n",
       "      <th>km</th>\n",
       "      <td>1.02</td>\n",
       "      <td>0.31</td>\n",
       "      <td>1.68</td>\n",
       "    </tr>\n",
       "    <tr>\n",
       "      <th>rank</th>\n",
       "      <td>0.98</td>\n",
       "      <td>0.32</td>\n",
       "      <td>1.64</td>\n",
       "    </tr>\n",
       "    <tr>\n",
       "      <th rowspan=\"2\" valign=\"top\">InternetService_No</th>\n",
       "      <th>km</th>\n",
       "      <td>0.25</td>\n",
       "      <td>0.62</td>\n",
       "      <td>0.69</td>\n",
       "    </tr>\n",
       "    <tr>\n",
       "      <th>rank</th>\n",
       "      <td>0.26</td>\n",
       "      <td>0.61</td>\n",
       "      <td>0.72</td>\n",
       "    </tr>\n",
       "    <tr>\n",
       "      <th rowspan=\"2\" valign=\"top\">MonthlyCharges</th>\n",
       "      <th>km</th>\n",
       "      <td>1.65</td>\n",
       "      <td>0.20</td>\n",
       "      <td>2.33</td>\n",
       "    </tr>\n",
       "    <tr>\n",
       "      <th>rank</th>\n",
       "      <td>1.72</td>\n",
       "      <td>0.19</td>\n",
       "      <td>2.40</td>\n",
       "    </tr>\n",
       "    <tr>\n",
       "      <th rowspan=\"2\" valign=\"top\">MultipleLines_No</th>\n",
       "      <th>km</th>\n",
       "      <td>1.57</td>\n",
       "      <td>0.21</td>\n",
       "      <td>2.25</td>\n",
       "    </tr>\n",
       "    <tr>\n",
       "      <th>rank</th>\n",
       "      <td>1.87</td>\n",
       "      <td>0.17</td>\n",
       "      <td>2.55</td>\n",
       "    </tr>\n",
       "    <tr>\n",
       "      <th rowspan=\"2\" valign=\"top\">MultipleLines_No phone service</th>\n",
       "      <th>km</th>\n",
       "      <td>0.03</td>\n",
       "      <td>0.86</td>\n",
       "      <td>0.21</td>\n",
       "    </tr>\n",
       "    <tr>\n",
       "      <th>rank</th>\n",
       "      <td>0.05</td>\n",
       "      <td>0.83</td>\n",
       "      <td>0.27</td>\n",
       "    </tr>\n",
       "    <tr>\n",
       "      <th rowspan=\"2\" valign=\"top\">MultipleLines_Yes</th>\n",
       "      <th>km</th>\n",
       "      <td>1.92</td>\n",
       "      <td>0.17</td>\n",
       "      <td>2.59</td>\n",
       "    </tr>\n",
       "    <tr>\n",
       "      <th>rank</th>\n",
       "      <td>2.35</td>\n",
       "      <td>0.13</td>\n",
       "      <td>3.00</td>\n",
       "    </tr>\n",
       "    <tr>\n",
       "      <th rowspan=\"2\" valign=\"top\">OnlineBackup_No</th>\n",
       "      <th>km</th>\n",
       "      <td>0.29</td>\n",
       "      <td>0.59</td>\n",
       "      <td>0.76</td>\n",
       "    </tr>\n",
       "    <tr>\n",
       "      <th>rank</th>\n",
       "      <td>0.24</td>\n",
       "      <td>0.63</td>\n",
       "      <td>0.68</td>\n",
       "    </tr>\n",
       "    <tr>\n",
       "      <th rowspan=\"2\" valign=\"top\">OnlineBackup_No internet service</th>\n",
       "      <th>km</th>\n",
       "      <td>0.25</td>\n",
       "      <td>0.62</td>\n",
       "      <td>0.69</td>\n",
       "    </tr>\n",
       "    <tr>\n",
       "      <th>rank</th>\n",
       "      <td>0.26</td>\n",
       "      <td>0.61</td>\n",
       "      <td>0.72</td>\n",
       "    </tr>\n",
       "    <tr>\n",
       "      <th rowspan=\"2\" valign=\"top\">OnlineBackup_Yes</th>\n",
       "      <th>km</th>\n",
       "      <td>1.25</td>\n",
       "      <td>0.26</td>\n",
       "      <td>1.92</td>\n",
       "    </tr>\n",
       "    <tr>\n",
       "      <th>rank</th>\n",
       "      <td>1.17</td>\n",
       "      <td>0.28</td>\n",
       "      <td>1.84</td>\n",
       "    </tr>\n",
       "    <tr>\n",
       "      <th rowspan=\"2\" valign=\"top\">OnlineSecurity_No</th>\n",
       "      <th>km</th>\n",
       "      <td>0.02</td>\n",
       "      <td>0.88</td>\n",
       "      <td>0.19</td>\n",
       "    </tr>\n",
       "    <tr>\n",
       "      <th>rank</th>\n",
       "      <td>0.09</td>\n",
       "      <td>0.77</td>\n",
       "      <td>0.38</td>\n",
       "    </tr>\n",
       "    <tr>\n",
       "      <th rowspan=\"2\" valign=\"top\">OnlineSecurity_No internet service</th>\n",
       "      <th>km</th>\n",
       "      <td>0.25</td>\n",
       "      <td>0.62</td>\n",
       "      <td>0.69</td>\n",
       "    </tr>\n",
       "    <tr>\n",
       "      <th>rank</th>\n",
       "      <td>0.26</td>\n",
       "      <td>0.61</td>\n",
       "      <td>0.72</td>\n",
       "    </tr>\n",
       "    <tr>\n",
       "      <th rowspan=\"2\" valign=\"top\">OnlineSecurity_Yes</th>\n",
       "      <th>km</th>\n",
       "      <td>0.56</td>\n",
       "      <td>0.46</td>\n",
       "      <td>1.13</td>\n",
       "    </tr>\n",
       "    <tr>\n",
       "      <th>rank</th>\n",
       "      <td>0.85</td>\n",
       "      <td>0.36</td>\n",
       "      <td>1.49</td>\n",
       "    </tr>\n",
       "    <tr>\n",
       "      <th rowspan=\"2\" valign=\"top\">PaperlessBilling_No</th>\n",
       "      <th>km</th>\n",
       "      <td>0.03</td>\n",
       "      <td>0.86</td>\n",
       "      <td>0.21</td>\n",
       "    </tr>\n",
       "    <tr>\n",
       "      <th>rank</th>\n",
       "      <td>0.02</td>\n",
       "      <td>0.90</td>\n",
       "      <td>0.16</td>\n",
       "    </tr>\n",
       "    <tr>\n",
       "      <th rowspan=\"2\" valign=\"top\">PaperlessBilling_Yes</th>\n",
       "      <th>km</th>\n",
       "      <td>0.03</td>\n",
       "      <td>0.86</td>\n",
       "      <td>0.21</td>\n",
       "    </tr>\n",
       "    <tr>\n",
       "      <th>rank</th>\n",
       "      <td>0.02</td>\n",
       "      <td>0.90</td>\n",
       "      <td>0.16</td>\n",
       "    </tr>\n",
       "    <tr>\n",
       "      <th rowspan=\"2\" valign=\"top\">Partner_No</th>\n",
       "      <th>km</th>\n",
       "      <td>0.27</td>\n",
       "      <td>0.60</td>\n",
       "      <td>0.73</td>\n",
       "    </tr>\n",
       "    <tr>\n",
       "      <th>rank</th>\n",
       "      <td>0.37</td>\n",
       "      <td>0.54</td>\n",
       "      <td>0.88</td>\n",
       "    </tr>\n",
       "    <tr>\n",
       "      <th rowspan=\"2\" valign=\"top\">Partner_Yes</th>\n",
       "      <th>km</th>\n",
       "      <td>0.27</td>\n",
       "      <td>0.60</td>\n",
       "      <td>0.73</td>\n",
       "    </tr>\n",
       "    <tr>\n",
       "      <th>rank</th>\n",
       "      <td>0.37</td>\n",
       "      <td>0.54</td>\n",
       "      <td>0.88</td>\n",
       "    </tr>\n",
       "    <tr>\n",
       "      <th rowspan=\"2\" valign=\"top\">PaymentMethod_Bank transfer (automatic)</th>\n",
       "      <th>km</th>\n",
       "      <td>0.44</td>\n",
       "      <td>0.51</td>\n",
       "      <td>0.98</td>\n",
       "    </tr>\n",
       "    <tr>\n",
       "      <th>rank</th>\n",
       "      <td>0.51</td>\n",
       "      <td>0.48</td>\n",
       "      <td>1.07</td>\n",
       "    </tr>\n",
       "    <tr>\n",
       "      <th rowspan=\"2\" valign=\"top\">PaymentMethod_Credit card (automatic)</th>\n",
       "      <th>km</th>\n",
       "      <td>1.46</td>\n",
       "      <td>0.23</td>\n",
       "      <td>2.14</td>\n",
       "    </tr>\n",
       "    <tr>\n",
       "      <th>rank</th>\n",
       "      <td>1.70</td>\n",
       "      <td>0.19</td>\n",
       "      <td>2.38</td>\n",
       "    </tr>\n",
       "    <tr>\n",
       "      <th rowspan=\"2\" valign=\"top\">PaymentMethod_Electronic check</th>\n",
       "      <th>km</th>\n",
       "      <td>0.06</td>\n",
       "      <td>0.81</td>\n",
       "      <td>0.30</td>\n",
       "    </tr>\n",
       "    <tr>\n",
       "      <th>rank</th>\n",
       "      <td>0.05</td>\n",
       "      <td>0.82</td>\n",
       "      <td>0.29</td>\n",
       "    </tr>\n",
       "    <tr>\n",
       "      <th rowspan=\"2\" valign=\"top\">PaymentMethod_Mailed check</th>\n",
       "      <th>km</th>\n",
       "      <td>2.36</td>\n",
       "      <td>0.12</td>\n",
       "      <td>3.01</td>\n",
       "    </tr>\n",
       "    <tr>\n",
       "      <th>rank</th>\n",
       "      <td>2.85</td>\n",
       "      <td>0.09</td>\n",
       "      <td>3.45</td>\n",
       "    </tr>\n",
       "    <tr>\n",
       "      <th rowspan=\"2\" valign=\"top\">PhoneService_No</th>\n",
       "      <th>km</th>\n",
       "      <td>0.03</td>\n",
       "      <td>0.86</td>\n",
       "      <td>0.21</td>\n",
       "    </tr>\n",
       "    <tr>\n",
       "      <th>rank</th>\n",
       "      <td>0.05</td>\n",
       "      <td>0.83</td>\n",
       "      <td>0.27</td>\n",
       "    </tr>\n",
       "    <tr>\n",
       "      <th rowspan=\"2\" valign=\"top\">PhoneService_Yes</th>\n",
       "      <th>km</th>\n",
       "      <td>0.03</td>\n",
       "      <td>0.86</td>\n",
       "      <td>0.21</td>\n",
       "    </tr>\n",
       "    <tr>\n",
       "      <th>rank</th>\n",
       "      <td>0.05</td>\n",
       "      <td>0.83</td>\n",
       "      <td>0.27</td>\n",
       "    </tr>\n",
       "    <tr>\n",
       "      <th rowspan=\"2\" valign=\"top\">SeniorCitizen</th>\n",
       "      <th>km</th>\n",
       "      <td>0.00</td>\n",
       "      <td>0.95</td>\n",
       "      <td>0.08</td>\n",
       "    </tr>\n",
       "    <tr>\n",
       "      <th>rank</th>\n",
       "      <td>0.00</td>\n",
       "      <td>0.95</td>\n",
       "      <td>0.08</td>\n",
       "    </tr>\n",
       "    <tr>\n",
       "      <th rowspan=\"2\" valign=\"top\">StreamingMovies_No</th>\n",
       "      <th>km</th>\n",
       "      <td>1.10</td>\n",
       "      <td>0.30</td>\n",
       "      <td>1.76</td>\n",
       "    </tr>\n",
       "    <tr>\n",
       "      <th>rank</th>\n",
       "      <td>1.25</td>\n",
       "      <td>0.26</td>\n",
       "      <td>1.93</td>\n",
       "    </tr>\n",
       "    <tr>\n",
       "      <th rowspan=\"2\" valign=\"top\">StreamingMovies_No internet service</th>\n",
       "      <th>km</th>\n",
       "      <td>0.25</td>\n",
       "      <td>0.62</td>\n",
       "      <td>0.69</td>\n",
       "    </tr>\n",
       "    <tr>\n",
       "      <th>rank</th>\n",
       "      <td>0.26</td>\n",
       "      <td>0.61</td>\n",
       "      <td>0.72</td>\n",
       "    </tr>\n",
       "    <tr>\n",
       "      <th rowspan=\"2\" valign=\"top\">StreamingMovies_Yes</th>\n",
       "      <th>km</th>\n",
       "      <td>2.45</td>\n",
       "      <td>0.12</td>\n",
       "      <td>3.09</td>\n",
       "    </tr>\n",
       "    <tr>\n",
       "      <th>rank</th>\n",
       "      <td>2.73</td>\n",
       "      <td>0.10</td>\n",
       "      <td>3.35</td>\n",
       "    </tr>\n",
       "    <tr>\n",
       "      <th rowspan=\"2\" valign=\"top\">StreamingTV_No</th>\n",
       "      <th>km</th>\n",
       "      <td>1.09</td>\n",
       "      <td>0.30</td>\n",
       "      <td>1.76</td>\n",
       "    </tr>\n",
       "    <tr>\n",
       "      <th>rank</th>\n",
       "      <td>0.90</td>\n",
       "      <td>0.34</td>\n",
       "      <td>1.55</td>\n",
       "    </tr>\n",
       "    <tr>\n",
       "      <th rowspan=\"2\" valign=\"top\">StreamingTV_No internet service</th>\n",
       "      <th>km</th>\n",
       "      <td>0.25</td>\n",
       "      <td>0.62</td>\n",
       "      <td>0.69</td>\n",
       "    </tr>\n",
       "    <tr>\n",
       "      <th>rank</th>\n",
       "      <td>0.26</td>\n",
       "      <td>0.61</td>\n",
       "      <td>0.72</td>\n",
       "    </tr>\n",
       "    <tr>\n",
       "      <th rowspan=\"2\" valign=\"top\">StreamingTV_Yes</th>\n",
       "      <th>km</th>\n",
       "      <td>2.48</td>\n",
       "      <td>0.12</td>\n",
       "      <td>3.12</td>\n",
       "    </tr>\n",
       "    <tr>\n",
       "      <th>rank</th>\n",
       "      <td>2.23</td>\n",
       "      <td>0.14</td>\n",
       "      <td>2.89</td>\n",
       "    </tr>\n",
       "    <tr>\n",
       "      <th rowspan=\"2\" valign=\"top\">TechSupport_No</th>\n",
       "      <th>km</th>\n",
       "      <td>0.49</td>\n",
       "      <td>0.49</td>\n",
       "      <td>1.04</td>\n",
       "    </tr>\n",
       "    <tr>\n",
       "      <th>rank</th>\n",
       "      <td>0.50</td>\n",
       "      <td>0.48</td>\n",
       "      <td>1.07</td>\n",
       "    </tr>\n",
       "    <tr>\n",
       "      <th rowspan=\"2\" valign=\"top\">TechSupport_No internet service</th>\n",
       "      <th>km</th>\n",
       "      <td>0.25</td>\n",
       "      <td>0.62</td>\n",
       "      <td>0.69</td>\n",
       "    </tr>\n",
       "    <tr>\n",
       "      <th>rank</th>\n",
       "      <td>0.26</td>\n",
       "      <td>0.61</td>\n",
       "      <td>0.72</td>\n",
       "    </tr>\n",
       "    <tr>\n",
       "      <th rowspan=\"2\" valign=\"top\">TechSupport_Yes</th>\n",
       "      <th>km</th>\n",
       "      <td>1.92</td>\n",
       "      <td>0.17</td>\n",
       "      <td>2.59</td>\n",
       "    </tr>\n",
       "    <tr>\n",
       "      <th>rank</th>\n",
       "      <td>2.01</td>\n",
       "      <td>0.16</td>\n",
       "      <td>2.68</td>\n",
       "    </tr>\n",
       "    <tr>\n",
       "      <th rowspan=\"2\" valign=\"top\">gender_Female</th>\n",
       "      <th>km</th>\n",
       "      <td>0.22</td>\n",
       "      <td>0.64</td>\n",
       "      <td>0.65</td>\n",
       "    </tr>\n",
       "    <tr>\n",
       "      <th>rank</th>\n",
       "      <td>0.08</td>\n",
       "      <td>0.78</td>\n",
       "      <td>0.35</td>\n",
       "    </tr>\n",
       "    <tr>\n",
       "      <th rowspan=\"2\" valign=\"top\">gender_Male</th>\n",
       "      <th>km</th>\n",
       "      <td>0.22</td>\n",
       "      <td>0.64</td>\n",
       "      <td>0.65</td>\n",
       "    </tr>\n",
       "    <tr>\n",
       "      <th>rank</th>\n",
       "      <td>0.08</td>\n",
       "      <td>0.78</td>\n",
       "      <td>0.35</td>\n",
       "    </tr>\n",
       "  </tbody>\n",
       "</table>"
      ],
      "text/latex": [
       "\\begin{tabular}{llrrr}\n",
       " &  & test_statistic & p & -log2(p) \\\\\n",
       "\\multirow[c]{2}{*}{Contract_Month-to-month} & km & 0.07 & 0.80 & 0.33 \\\\\n",
       " & rank & 0.00 & 0.97 & 0.04 \\\\\n",
       "\\multirow[c]{2}{*}{Contract_One year} & km & 14.52 & 0.00 & 12.81 \\\\\n",
       " & rank & 10.11 & 0.00 & 9.41 \\\\\n",
       "\\multirow[c]{2}{*}{Contract_Two year} & km & 8.86 & 0.00 & 8.42 \\\\\n",
       " & rank & 7.69 & 0.01 & 7.49 \\\\\n",
       "\\multirow[c]{2}{*}{Dependents_No} & km & 0.07 & 0.79 & 0.34 \\\\\n",
       " & rank & 0.07 & 0.79 & 0.34 \\\\\n",
       "\\multirow[c]{2}{*}{Dependents_Yes} & km & 0.07 & 0.79 & 0.34 \\\\\n",
       " & rank & 0.07 & 0.79 & 0.34 \\\\\n",
       "\\multirow[c]{2}{*}{DeviceProtection_No} & km & 0.07 & 0.79 & 0.34 \\\\\n",
       " & rank & 0.08 & 0.77 & 0.37 \\\\\n",
       "\\multirow[c]{2}{*}{DeviceProtection_No internet service} & km & 0.25 & 0.62 & 0.69 \\\\\n",
       " & rank & 0.26 & 0.61 & 0.72 \\\\\n",
       "\\multirow[c]{2}{*}{DeviceProtection_Yes} & km & 0.70 & 0.40 & 1.31 \\\\\n",
       " & rank & 0.76 & 0.38 & 1.38 \\\\\n",
       "\\multirow[c]{2}{*}{InternetService_DSL} & km & 0.32 & 0.57 & 0.81 \\\\\n",
       " & rank & 0.28 & 0.59 & 0.75 \\\\\n",
       "\\multirow[c]{2}{*}{InternetService_Fiber optic} & km & 1.02 & 0.31 & 1.68 \\\\\n",
       " & rank & 0.98 & 0.32 & 1.64 \\\\\n",
       "\\multirow[c]{2}{*}{InternetService_No} & km & 0.25 & 0.62 & 0.69 \\\\\n",
       " & rank & 0.26 & 0.61 & 0.72 \\\\\n",
       "\\multirow[c]{2}{*}{MonthlyCharges} & km & 1.65 & 0.20 & 2.33 \\\\\n",
       " & rank & 1.72 & 0.19 & 2.40 \\\\\n",
       "\\multirow[c]{2}{*}{MultipleLines_No} & km & 1.57 & 0.21 & 2.25 \\\\\n",
       " & rank & 1.87 & 0.17 & 2.55 \\\\\n",
       "\\multirow[c]{2}{*}{MultipleLines_No phone service} & km & 0.03 & 0.86 & 0.21 \\\\\n",
       " & rank & 0.05 & 0.83 & 0.27 \\\\\n",
       "\\multirow[c]{2}{*}{MultipleLines_Yes} & km & 1.92 & 0.17 & 2.59 \\\\\n",
       " & rank & 2.35 & 0.13 & 3.00 \\\\\n",
       "\\multirow[c]{2}{*}{OnlineBackup_No} & km & 0.29 & 0.59 & 0.76 \\\\\n",
       " & rank & 0.24 & 0.63 & 0.68 \\\\\n",
       "\\multirow[c]{2}{*}{OnlineBackup_No internet service} & km & 0.25 & 0.62 & 0.69 \\\\\n",
       " & rank & 0.26 & 0.61 & 0.72 \\\\\n",
       "\\multirow[c]{2}{*}{OnlineBackup_Yes} & km & 1.25 & 0.26 & 1.92 \\\\\n",
       " & rank & 1.17 & 0.28 & 1.84 \\\\\n",
       "\\multirow[c]{2}{*}{OnlineSecurity_No} & km & 0.02 & 0.88 & 0.19 \\\\\n",
       " & rank & 0.09 & 0.77 & 0.38 \\\\\n",
       "\\multirow[c]{2}{*}{OnlineSecurity_No internet service} & km & 0.25 & 0.62 & 0.69 \\\\\n",
       " & rank & 0.26 & 0.61 & 0.72 \\\\\n",
       "\\multirow[c]{2}{*}{OnlineSecurity_Yes} & km & 0.56 & 0.46 & 1.13 \\\\\n",
       " & rank & 0.85 & 0.36 & 1.49 \\\\\n",
       "\\multirow[c]{2}{*}{PaperlessBilling_No} & km & 0.03 & 0.86 & 0.21 \\\\\n",
       " & rank & 0.02 & 0.90 & 0.16 \\\\\n",
       "\\multirow[c]{2}{*}{PaperlessBilling_Yes} & km & 0.03 & 0.86 & 0.21 \\\\\n",
       " & rank & 0.02 & 0.90 & 0.16 \\\\\n",
       "\\multirow[c]{2}{*}{Partner_No} & km & 0.27 & 0.60 & 0.73 \\\\\n",
       " & rank & 0.37 & 0.54 & 0.88 \\\\\n",
       "\\multirow[c]{2}{*}{Partner_Yes} & km & 0.27 & 0.60 & 0.73 \\\\\n",
       " & rank & 0.37 & 0.54 & 0.88 \\\\\n",
       "\\multirow[c]{2}{*}{PaymentMethod_Bank transfer (automatic)} & km & 0.44 & 0.51 & 0.98 \\\\\n",
       " & rank & 0.51 & 0.48 & 1.07 \\\\\n",
       "\\multirow[c]{2}{*}{PaymentMethod_Credit card (automatic)} & km & 1.46 & 0.23 & 2.14 \\\\\n",
       " & rank & 1.70 & 0.19 & 2.38 \\\\\n",
       "\\multirow[c]{2}{*}{PaymentMethod_Electronic check} & km & 0.06 & 0.81 & 0.30 \\\\\n",
       " & rank & 0.05 & 0.82 & 0.29 \\\\\n",
       "\\multirow[c]{2}{*}{PaymentMethod_Mailed check} & km & 2.36 & 0.12 & 3.01 \\\\\n",
       " & rank & 2.85 & 0.09 & 3.45 \\\\\n",
       "\\multirow[c]{2}{*}{PhoneService_No} & km & 0.03 & 0.86 & 0.21 \\\\\n",
       " & rank & 0.05 & 0.83 & 0.27 \\\\\n",
       "\\multirow[c]{2}{*}{PhoneService_Yes} & km & 0.03 & 0.86 & 0.21 \\\\\n",
       " & rank & 0.05 & 0.83 & 0.27 \\\\\n",
       "\\multirow[c]{2}{*}{SeniorCitizen} & km & 0.00 & 0.95 & 0.08 \\\\\n",
       " & rank & 0.00 & 0.95 & 0.08 \\\\\n",
       "\\multirow[c]{2}{*}{StreamingMovies_No} & km & 1.10 & 0.30 & 1.76 \\\\\n",
       " & rank & 1.25 & 0.26 & 1.93 \\\\\n",
       "\\multirow[c]{2}{*}{StreamingMovies_No internet service} & km & 0.25 & 0.62 & 0.69 \\\\\n",
       " & rank & 0.26 & 0.61 & 0.72 \\\\\n",
       "\\multirow[c]{2}{*}{StreamingMovies_Yes} & km & 2.45 & 0.12 & 3.09 \\\\\n",
       " & rank & 2.73 & 0.10 & 3.35 \\\\\n",
       "\\multirow[c]{2}{*}{StreamingTV_No} & km & 1.09 & 0.30 & 1.76 \\\\\n",
       " & rank & 0.90 & 0.34 & 1.55 \\\\\n",
       "\\multirow[c]{2}{*}{StreamingTV_No internet service} & km & 0.25 & 0.62 & 0.69 \\\\\n",
       " & rank & 0.26 & 0.61 & 0.72 \\\\\n",
       "\\multirow[c]{2}{*}{StreamingTV_Yes} & km & 2.48 & 0.12 & 3.12 \\\\\n",
       " & rank & 2.23 & 0.14 & 2.89 \\\\\n",
       "\\multirow[c]{2}{*}{TechSupport_No} & km & 0.49 & 0.49 & 1.04 \\\\\n",
       " & rank & 0.50 & 0.48 & 1.07 \\\\\n",
       "\\multirow[c]{2}{*}{TechSupport_No internet service} & km & 0.25 & 0.62 & 0.69 \\\\\n",
       " & rank & 0.26 & 0.61 & 0.72 \\\\\n",
       "\\multirow[c]{2}{*}{TechSupport_Yes} & km & 1.92 & 0.17 & 2.59 \\\\\n",
       " & rank & 2.01 & 0.16 & 2.68 \\\\\n",
       "\\multirow[c]{2}{*}{gender_Female} & km & 0.22 & 0.64 & 0.65 \\\\\n",
       " & rank & 0.08 & 0.78 & 0.35 \\\\\n",
       "\\multirow[c]{2}{*}{gender_Male} & km & 0.22 & 0.64 & 0.65 \\\\\n",
       " & rank & 0.08 & 0.78 & 0.35 \\\\\n",
       "\\end{tabular}\n"
      ],
      "text/plain": [
       "<lifelines.StatisticalResult: proportional_hazard_test>\n",
       " null_distribution = chi squared\n",
       "degrees_of_freedom = 1\n",
       "             model = <lifelines.CoxPHFitter: fitted with 5282 total observations, 3912 right-censored observations>\n",
       "         test_name = proportional_hazard_test\n",
       "\n",
       "---\n",
       "                                              test_statistic      p  -log2(p)\n",
       "Contract_Month-to-month                 km              0.07   0.80      0.33\n",
       "                                        rank            0.00   0.97      0.04\n",
       "Contract_One year                       km             14.52 <0.005     12.81\n",
       "                                        rank           10.11 <0.005      9.41\n",
       "Contract_Two year                       km              8.86 <0.005      8.42\n",
       "                                        rank            7.69   0.01      7.49\n",
       "Dependents_No                           km              0.07   0.79      0.34\n",
       "                                        rank            0.07   0.79      0.34\n",
       "Dependents_Yes                          km              0.07   0.79      0.34\n",
       "                                        rank            0.07   0.79      0.34\n",
       "DeviceProtection_No                     km              0.07   0.79      0.34\n",
       "                                        rank            0.08   0.77      0.37\n",
       "DeviceProtection_No internet service    km              0.25   0.62      0.69\n",
       "                                        rank            0.26   0.61      0.72\n",
       "DeviceProtection_Yes                    km              0.70   0.40      1.31\n",
       "                                        rank            0.76   0.38      1.38\n",
       "InternetService_DSL                     km              0.32   0.57      0.81\n",
       "                                        rank            0.28   0.59      0.75\n",
       "InternetService_Fiber optic             km              1.02   0.31      1.68\n",
       "                                        rank            0.98   0.32      1.64\n",
       "InternetService_No                      km              0.25   0.62      0.69\n",
       "                                        rank            0.26   0.61      0.72\n",
       "MonthlyCharges                          km              1.65   0.20      2.33\n",
       "                                        rank            1.72   0.19      2.40\n",
       "MultipleLines_No                        km              1.57   0.21      2.25\n",
       "                                        rank            1.87   0.17      2.55\n",
       "MultipleLines_No phone service          km              0.03   0.86      0.21\n",
       "                                        rank            0.05   0.83      0.27\n",
       "MultipleLines_Yes                       km              1.92   0.17      2.59\n",
       "                                        rank            2.35   0.13      3.00\n",
       "OnlineBackup_No                         km              0.29   0.59      0.76\n",
       "                                        rank            0.24   0.63      0.68\n",
       "OnlineBackup_No internet service        km              0.25   0.62      0.69\n",
       "                                        rank            0.26   0.61      0.72\n",
       "OnlineBackup_Yes                        km              1.25   0.26      1.92\n",
       "                                        rank            1.17   0.28      1.84\n",
       "OnlineSecurity_No                       km              0.02   0.88      0.19\n",
       "                                        rank            0.09   0.77      0.38\n",
       "OnlineSecurity_No internet service      km              0.25   0.62      0.69\n",
       "                                        rank            0.26   0.61      0.72\n",
       "OnlineSecurity_Yes                      km              0.56   0.46      1.13\n",
       "                                        rank            0.85   0.36      1.49\n",
       "PaperlessBilling_No                     km              0.03   0.86      0.21\n",
       "                                        rank            0.02   0.90      0.16\n",
       "PaperlessBilling_Yes                    km              0.03   0.86      0.21\n",
       "                                        rank            0.02   0.90      0.16\n",
       "Partner_No                              km              0.27   0.60      0.73\n",
       "                                        rank            0.37   0.54      0.88\n",
       "Partner_Yes                             km              0.27   0.60      0.73\n",
       "                                        rank            0.37   0.54      0.88\n",
       "PaymentMethod_Bank transfer (automatic) km              0.44   0.51      0.98\n",
       "                                        rank            0.51   0.48      1.07\n",
       "PaymentMethod_Credit card (automatic)   km              1.46   0.23      2.14\n",
       "                                        rank            1.70   0.19      2.38\n",
       "PaymentMethod_Electronic check          km              0.06   0.81      0.30\n",
       "                                        rank            0.05   0.82      0.29\n",
       "PaymentMethod_Mailed check              km              2.36   0.12      3.01\n",
       "                                        rank            2.85   0.09      3.45\n",
       "PhoneService_No                         km              0.03   0.86      0.21\n",
       "                                        rank            0.05   0.83      0.27\n",
       "PhoneService_Yes                        km              0.03   0.86      0.21\n",
       "                                        rank            0.05   0.83      0.27\n",
       "SeniorCitizen                           km              0.00   0.95      0.08\n",
       "                                        rank            0.00   0.95      0.08\n",
       "StreamingMovies_No                      km              1.10   0.30      1.76\n",
       "                                        rank            1.25   0.26      1.93\n",
       "StreamingMovies_No internet service     km              0.25   0.62      0.69\n",
       "                                        rank            0.26   0.61      0.72\n",
       "StreamingMovies_Yes                     km              2.45   0.12      3.09\n",
       "                                        rank            2.73   0.10      3.35\n",
       "StreamingTV_No                          km              1.09   0.30      1.76\n",
       "                                        rank            0.90   0.34      1.55\n",
       "StreamingTV_No internet service         km              0.25   0.62      0.69\n",
       "                                        rank            0.26   0.61      0.72\n",
       "StreamingTV_Yes                         km              2.48   0.12      3.12\n",
       "                                        rank            2.23   0.14      2.89\n",
       "TechSupport_No                          km              0.49   0.49      1.04\n",
       "                                        rank            0.50   0.48      1.07\n",
       "TechSupport_No internet service         km              0.25   0.62      0.69\n",
       "                                        rank            0.26   0.61      0.72\n",
       "TechSupport_Yes                         km              1.92   0.17      2.59\n",
       "                                        rank            2.01   0.16      2.68\n",
       "gender_Female                           km              0.22   0.64      0.65\n",
       "                                        rank            0.08   0.78      0.35\n",
       "gender_Male                             km              0.22   0.64      0.65\n",
       "                                        rank            0.08   0.78      0.35"
      ]
     },
     "metadata": {},
     "output_type": "display_data"
    },
    {
     "name": "stdout",
     "output_type": "stream",
     "text": [
      "\n",
      "\n",
      "1. Variable 'Contract_One year' failed the non-proportional test: p-value is 0.0001.\n",
      "\n",
      "   Advice: with so few unique values (only 2), you can include `strata=['Contract_One year', ...]`\n",
      "in the call in `.fit`. See documentation in link [E] below.\n",
      "\n",
      "2. Variable 'Contract_Two year' failed the non-proportional test: p-value is 0.0029.\n",
      "\n",
      "   Advice: with so few unique values (only 2), you can include `strata=['Contract_Two year', ...]`\n",
      "in the call in `.fit`. See documentation in link [E] below.\n",
      "\n",
      "---\n",
      "[A]  https://lifelines.readthedocs.io/en/latest/jupyter_notebooks/Proportional%20hazard%20assumption.html\n",
      "[B]  https://lifelines.readthedocs.io/en/latest/jupyter_notebooks/Proportional%20hazard%20assumption.html#Bin-variable-and-stratify-on-it\n",
      "[C]  https://lifelines.readthedocs.io/en/latest/jupyter_notebooks/Proportional%20hazard%20assumption.html#Introduce-time-varying-covariates\n",
      "[D]  https://lifelines.readthedocs.io/en/latest/jupyter_notebooks/Proportional%20hazard%20assumption.html#Modify-the-functional-form\n",
      "[E]  https://lifelines.readthedocs.io/en/latest/jupyter_notebooks/Proportional%20hazard%20assumption.html#Stratification\n",
      "\n"
     ]
    },
    {
     "data": {
      "text/plain": [
       "[]"
      ]
     },
     "execution_count": 92,
     "metadata": {},
     "output_type": "execute_result"
    }
   ],
   "source": [
    "cph.check_assumptions(train_df_surv)"
   ]
  },
  {
   "cell_type": "markdown",
   "metadata": {
    "slideshow": {
     "slide_type": "skip"
    }
   },
   "source": [
    "<br><br><br><br>"
   ]
  },
  {
   "cell_type": "markdown",
   "metadata": {
    "slideshow": {
     "slide_type": "slide"
    }
   },
   "source": [
    "## Other approaches / what did we not cover? \n",
    "\n",
    "There are many other approaches to modelling in survival analysis:\n",
    "\n",
    "- Time-varying proportional hazards.\n",
    "  - What if some of the features change over time, e.g. plan type, number of lines, etc.\n",
    "- Approaches based on deep learning, e.g. the [pysurvival](https://square.github.io/pysurvival/) package.\n",
    "- Random survival forests.\n",
    "- And more..."
   ]
  },
  {
   "cell_type": "markdown",
   "metadata": {
    "slideshow": {
     "slide_type": "slide"
    }
   },
   "source": [
    "### Types of censoring\n",
    "There are also various types and sub-types of censoring we didn't cover:\n",
    "\n",
    "- What we did today is called \"right censoring\"\n",
    "- Sub-types within right censoring\n",
    "  - Did everyone join at the same time?\n",
    "  - Other reasons the data might be censored at random times, e.g. the person died?\n",
    "- Left censoring\n",
    "- Interval censoring"
   ]
  },
  {
   "cell_type": "markdown",
   "metadata": {
    "slideshow": {
     "slide_type": "slide"
    }
   },
   "source": [
    "## Summary\n",
    "\n",
    "- Censoring and incorrect approaches to handling it\n",
    "  - Throw away people who haven't churned\n",
    "  - Assume everyone churns today\n",
    "- Predicting tenure vs. churned\n",
    "- Survival analysis encompasses both of these, and deals with censoring\n",
    "- And it can make rich and interesting predictions!\n",
    "- KM model -> doesn't look at features\n",
    "- CPH model -> like linear regression, does look at the features"
   ]
  },
  {
   "cell_type": "markdown",
   "metadata": {
    "slideshow": {
     "slide_type": "slide"
    }
   },
   "source": [
    "## References\n",
    "\n",
    "Some people working with this same dataset:\n",
    "\n",
    "- https://medium.com/@zachary.james.angell/applying-survival-analysis-to-customer-churn-40b5a809b05a\n",
    "- https://towardsdatascience.com/churn-prediction-and-prevention-in-python-2d454e5fd9a5 (Cox)\n",
    "- https://towardsdatascience.com/survival-analysis-in-python-a-model-for-customer-churn-e737c5242822\n",
    "- https://towardsdatascience.com/survival-analysis-intuition-implementation-in-python-504fde4fcf8e\n",
    "\n",
    "lifelines documentation: \n",
    "- https://lifelines.readthedocs.io/en/latest/Survival%20analysis%20with%20lifelines.html\n",
    "- https://lifelines.readthedocs.io/en/latest/Survival%20Analysis%20intro.html#introduction-to-survival-analysis"
   ]
  }
 ],
 "metadata": {
  "celltoolbar": "Slideshow",
  "kernelspec": {
   "display_name": "cpsc330",
   "language": "python",
   "name": "cpsc330"
  },
  "language_info": {
   "codemirror_mode": {
    "name": "ipython",
    "version": 3
   },
   "file_extension": ".py",
   "mimetype": "text/x-python",
   "name": "python",
   "nbconvert_exporter": "python",
   "pygments_lexer": "ipython3",
   "version": "3.10.0"
  }
 },
 "nbformat": 4,
 "nbformat_minor": 4
}
