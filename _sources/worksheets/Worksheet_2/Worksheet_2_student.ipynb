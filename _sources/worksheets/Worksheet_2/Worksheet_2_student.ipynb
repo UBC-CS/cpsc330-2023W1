{
 "cells": [
  {
   "cell_type": "code",
   "execution_count": 1,
   "id": "da56a2ab",
   "metadata": {
    "deletable": false,
    "editable": false
   },
   "outputs": [],
   "source": [
    "# Initialize Otter\n",
    "import otter\n",
    "grader = otter.Notebook(\"Worksheet_2.ipynb\")"
   ]
  },
  {
   "cell_type": "markdown",
   "id": "1d5132b7-52ce-43c7-85c3-4029dc3e74c0",
   "metadata": {
    "tags": []
   },
   "source": [
    "# Worksheet 2: KNNs and SVMs\n"
   ]
  },
  {
   "cell_type": "markdown",
   "id": "f26baf5b-b2dc-44cf-8099-d1af6a70b721",
   "metadata": {
    "editable": true,
    "slideshow": {
     "slide_type": ""
    },
    "tags": []
   },
   "source": [
    "This worksheet is intended to help you revise and reinforce what you've learnt in the lecture.\n",
    "</br>Please fill in the answers, or write the code, in the space provided.\n"
   ]
  },
  {
   "cell_type": "markdown",
   "id": "fcb8ed3b-01fa-48bb-ba67-fabf7e7b15c8",
   "metadata": {
    "tags": []
   },
   "source": [
    "## Imports"
   ]
  },
  {
   "cell_type": "code",
   "execution_count": 2,
   "id": "02ac3f62-9694-4354-bc77-81a397d1a4a4",
   "metadata": {},
   "outputs": [],
   "source": [
    "# Load necessary libraries\n",
    "import numpy as np\n",
    "import pandas as pd\n",
    "import math\n",
    "import sys\n",
    "from hashlib import sha1\n",
    "from sklearn.datasets import load_iris\n",
    "from sklearn.model_selection import train_test_split, cross_validate, cross_val_score\n",
    "from sklearn.neighbors import KNeighborsClassifier\n",
    "from sklearn.svm import SVC\n",
    "from sklearn.tree import DecisionTreeClassifier\n",
    "import matplotlib.pyplot as plt\n",
    "%matplotlib inline\n",
    "pd.set_option(\"display.max_colwidth\", 200)"
   ]
  },
  {
   "cell_type": "markdown",
   "id": "cd8875ca-d459-41ad-84c9-cee0bddd324d",
   "metadata": {
    "tags": []
   },
   "source": [
    "## Exercise 1: 👽 \"The Alien Zoo Adventure\" 🛸\n",
    "\n",
    "Welcome to the Alien Zoo! \n",
    "Ah, the power of the vote! As you know, $k$-Nearest Neighbours ($k$-NNs) is a model that's all about numbers. It believes in majority rule, where the value of $k$ decides how many neighbours get to vote during the prediction process.\n",
    "<br>In this exercise, your mission is to help a young alien named *Zog* find his species group in the zoo using our special tool, $k$NN. We have a map with the locations of different alien groups, but unfortunately, the map doesn't label them! We do have some data on a few aliens and where they belong. Let's use that to help Zog find his family!"
   ]
  },
  {
   "cell_type": "markdown",
   "id": "7fd4a38e-5bc1-4db6-8852-8930de736abc",
   "metadata": {},
   "source": [
    "| Name  | X (Horizontal Steps) | Y (Vertical Steps) | Alien Group |\n",
    "|-------|----------------------|--------------------|-------------|\n",
    "| Vega  | 5                    | 3                  | Jovian      |\n",
    "| Max   | 3                    | 2                  | Martian     |\n",
    "| Orion | 3                    | 5                  | Jovian      |\n",
    "| Stella| 2                    | 1                  | Martian     |\n",
    "| Luna  | 4                    | 2                  | Martian     |\n",
    "\n",
    "**<p style=\"text-align: center;\">Zog's Location: ($X$=3, $Y$=3)</p>**"
   ]
  },
  {
   "cell_type": "markdown",
   "id": "b08d177d-f76c-463a-b79b-5d73722c6570",
   "metadata": {},
   "source": [
    "**Guesstimation Game:**\n",
    "\n",
    "Before diving in, let's play a quick game. Can you guess Zog's alien group just by looking at the map and the known aliens? We will see if math backs your guesswork!\n"
   ]
  },
  {
   "cell_type": "markdown",
   "id": "7c66c779-5e02-4fa3-a743-bd2635086adb",
   "metadata": {
    "deletable": false,
    "editable": false,
    "tags": []
   },
   "source": [
    "### 1.1 Footstep Calculation!\n",
    "\n",
    "Zog wants to find the shortest footpath to his family. Let's calculate how many steps Zog is from each known alien using the Footstep Formula:\n",
    "\n",
    "$$ \\text{Footstep Formula:} \\sqrt{(x_{\\text{alien}} - x_{\\text{zog}})^2 + (y_{\\text{alien}} - y_{\\text{zog}})^2} $$\n",
    "\n",
    "**Your Task:**\n",
    "<br>Now in the following code, substitute `alien_location` for each alien, and keep track of the distances in the solution code cell."
   ]
  },
  {
   "cell_type": "code",
   "execution_count": 3,
   "id": "4c63ffe9-7d26-41fb-a802-8e557d00c5ed",
   "metadata": {
    "deletable": false,
    "editable": false,
    "slideshow": {
     "slide_type": ""
    },
    "tags": []
   },
   "outputs": [
    {
     "name": "stdout",
     "output_type": "stream",
     "text": [
      "1.4142135623730951\n"
     ]
    }
   ],
   "source": [
    "zog_location = (3, 3)\n",
    "alien_location = (4, 2)  # Change for each alien\n",
    "footstep_distance = math.sqrt((alien_location[0] - zog_location[0])**2 + (alien_location[1] - zog_location[1])**2)\n",
    "print(footstep_distance)"
   ]
  },
  {
   "cell_type": "markdown",
   "id": "585f6a37-7ec8-4449-b8e7-478b6d043b95",
   "metadata": {
    "deletable": false,
    "editable": false,
    "tags": []
   },
   "source": [
    "<div class=\"alert alert-warning\">\n",
    "\n",
    "Solution_1.1\n",
    "    \n",
    "</div>\n",
    "\n",
    "_Points:_ 3"
   ]
  },
  {
   "cell_type": "code",
   "execution_count": 4,
   "id": "28d08032-dd58-46da-9986-5218d4ab4915",
   "metadata": {
    "tags": []
   },
   "outputs": [
    {
     "name": "stdout",
     "output_type": "stream",
     "text": [
      "2.0 1.0 2.0 2.23606797749979 1.4142135623730951\n"
     ]
    }
   ],
   "source": [
    "def alien_dist(alien_loc):\n",
    "    return math.sqrt((alien_loc[0] - zog_location[0])**2 + (alien_loc[1] - zog_location[1])**2)\n",
    "\n",
    "# Answer should be number with at least one decimal point (x.x)\n",
    "distance_Vega = alien_dist((5, 3))\n",
    "distance_Max = alien_dist((3, 2))\n",
    "distance_Orion = alien_dist((3, 5))\n",
    "distance_Stella = alien_dist((2, 1))\n",
    "distance_Luna = alien_dist((4, 2))\n",
    "\n",
    "print(distance_Vega, distance_Max, distance_Orion, distance_Stella, distance_Luna)"
   ]
  },
  {
   "cell_type": "code",
   "execution_count": 5,
   "id": "bd4bd92b",
   "metadata": {
    "deletable": false,
    "editable": false
   },
   "outputs": [
    {
     "data": {
      "text/html": [
       "<p><strong><pre style='display: inline;'>q1.1</pre></strong> passed! 🌟</p>"
      ],
      "text/plain": [
       "q1.1 results: All test cases passed!"
      ]
     },
     "execution_count": 5,
     "metadata": {},
     "output_type": "execute_result"
    }
   ],
   "source": [
    "grader.check(\"q1.1\")"
   ]
  },
  {
   "cell_type": "markdown",
   "id": "a5ac9c57-ca9a-4bf2-b17b-9e09dba38c68",
   "metadata": {},
   "source": [
    "<br><br>"
   ]
  },
  {
   "cell_type": "markdown",
   "id": "20980375-a595-402b-9bb8-c7b0082a8bd6",
   "metadata": {
    "deletable": false,
    "editable": false,
    "tags": []
   },
   "source": [
    "### 1.2 Shuffle and Whistle for $k$=2\n",
    "\n",
    "Zog has a whistle that can call the nearest aliens to him. If he blows it lightly, it'll call two aliens.\n",
    "\n",
    "1. Which two aliens come to Zog first? Type their initial in the code cell bellow.\n",
    "2. Based on the alien groups of these two, where should Zog go?\n",
    "    - A) Jovian Group\n",
    "    - B) Martian Group\n"
   ]
  },
  {
   "cell_type": "markdown",
   "id": "07a90020-9f61-49b4-b587-b699f3808b62",
   "metadata": {
    "deletable": false,
    "editable": false,
    "tags": []
   },
   "source": [
    "<div class=\"alert alert-warning\">\n",
    "\n",
    "Solution_1.2\n",
    "    \n",
    "</div>\n",
    "\n",
    "_Points:_ 2"
   ]
  },
  {
   "cell_type": "code",
   "execution_count": 6,
   "id": "17bf8994-8d1a-457e-9c57-b0a0a206e04b",
   "metadata": {
    "tags": []
   },
   "outputs": [
    {
     "data": {
      "text/plain": [
       "Ellipsis"
      ]
     },
     "execution_count": 6,
     "metadata": {},
     "output_type": "execute_result"
    }
   ],
   "source": [
    "answer_1 = ['M', 'L'] # Answer should be list, for example ['V','M']\n",
    "answer_2 = 'B' # Answer should be 'A' or 'B'\n",
    "\n",
    "..."
   ]
  },
  {
   "cell_type": "code",
   "execution_count": 7,
   "id": "fb86c6d9",
   "metadata": {
    "deletable": false,
    "editable": false
   },
   "outputs": [
    {
     "data": {
      "text/html": [
       "<p><strong><pre style='display: inline;'>q1.2</pre></strong> passed! 💯</p>"
      ],
      "text/plain": [
       "q1.2 results: All test cases passed!"
      ]
     },
     "execution_count": 7,
     "metadata": {},
     "output_type": "execute_result"
    }
   ],
   "source": [
    "grader.check(\"q1.2\")"
   ]
  },
  {
   "cell_type": "markdown",
   "id": "a00b33b2-3c71-4c00-a85a-94edcfb6c221",
   "metadata": {},
   "source": [
    "### 🔗 Pause and Ponder!\n",
    "\n",
    "Thanks for helping Zog find his closest neighbors and his home. 🌌👽💃\n",
    "\n",
    "In our exercise, Zog effortlessly found his two closest neighbors. But what if there was a tie, where multiple aliens were equidistant to Zog for the last spot? How might you decide between them? Consider the implications of ties in $k$NN. What strategies could you employ to resolve such ties in a way that is both fair and meaningful? 🌠🤔"
   ]
  },
  {
   "cell_type": "markdown",
   "id": "d154a2c4-1529-4760-a269-277fada2df9d",
   "metadata": {},
   "source": [
    "<br><br><br><br>"
   ]
  },
  {
   "cell_type": "markdown",
   "id": "ff98f5ff-c7f0-47bc-9c09-0b21926aa326",
   "metadata": {},
   "source": [
    "## Exercise 2: Iris flower classification using KNNs and SVM RBFs\n",
    "\n",
    "|               |                               | |\n",
    "| :--------------------------------------- | :-----------------   | :-----------------   | \n",
    "| <img src=\"img/iris_setosa.jpg\" alt=\"setosa\" class=\"bg-primary\" width=\"200px\"/>|<img src=\"img/iris_versicolor.jpg\" alt=\"versicolor\" class=\"bg-primary\" width=\"200px\"/> |<img src=\"img/iris_virginica.jpg\" alt=\"virginica\" class=\"bg-primary\" width=\"200px\"/>|"
   ]
  },
  {
   "cell_type": "markdown",
   "id": "7d0594a7-5e85-4b42-94bf-5ad5eafacc26",
   "metadata": {
    "editable": true,
    "slideshow": {
     "slide_type": ""
    },
    "tags": []
   },
   "source": []
  },
  {
   "cell_type": "markdown",
   "id": "3bd7bf64-6fdc-4bb4-97db-4706aa9c75bc",
   "metadata": {},
   "source": [
    "Let's start by loading and splitting the dataset. "
   ]
  },
  {
   "cell_type": "code",
   "execution_count": 8,
   "id": "36fc264f-6cc1-443a-84fc-d4f0e3c73f07",
   "metadata": {},
   "outputs": [],
   "source": [
    "from sklearn.datasets import load_iris\n",
    "iris = load_iris()\n",
    "X = iris.data\n",
    "y = iris.target\n",
    "feature_names = iris.feature_names"
   ]
  },
  {
   "cell_type": "code",
   "execution_count": 9,
   "id": "dd3786de-560b-4121-8a7d-41ab6bb25251",
   "metadata": {},
   "outputs": [
    {
     "data": {
      "text/html": [
       "<div>\n",
       "<style scoped>\n",
       "    .dataframe tbody tr th:only-of-type {\n",
       "        vertical-align: middle;\n",
       "    }\n",
       "\n",
       "    .dataframe tbody tr th {\n",
       "        vertical-align: top;\n",
       "    }\n",
       "\n",
       "    .dataframe thead th {\n",
       "        text-align: right;\n",
       "    }\n",
       "</style>\n",
       "<table border=\"1\" class=\"dataframe\">\n",
       "  <thead>\n",
       "    <tr style=\"text-align: right;\">\n",
       "      <th></th>\n",
       "      <th>sepal length (cm)</th>\n",
       "      <th>sepal width (cm)</th>\n",
       "      <th>petal length (cm)</th>\n",
       "      <th>petal width (cm)</th>\n",
       "    </tr>\n",
       "  </thead>\n",
       "  <tbody>\n",
       "    <tr>\n",
       "      <th>0</th>\n",
       "      <td>7.4</td>\n",
       "      <td>2.8</td>\n",
       "      <td>6.1</td>\n",
       "      <td>1.9</td>\n",
       "    </tr>\n",
       "    <tr>\n",
       "      <th>1</th>\n",
       "      <td>6.0</td>\n",
       "      <td>2.2</td>\n",
       "      <td>5.0</td>\n",
       "      <td>1.5</td>\n",
       "    </tr>\n",
       "    <tr>\n",
       "      <th>2</th>\n",
       "      <td>4.7</td>\n",
       "      <td>3.2</td>\n",
       "      <td>1.6</td>\n",
       "      <td>0.2</td>\n",
       "    </tr>\n",
       "    <tr>\n",
       "      <th>3</th>\n",
       "      <td>5.1</td>\n",
       "      <td>3.5</td>\n",
       "      <td>1.4</td>\n",
       "      <td>0.2</td>\n",
       "    </tr>\n",
       "    <tr>\n",
       "      <th>4</th>\n",
       "      <td>6.0</td>\n",
       "      <td>2.2</td>\n",
       "      <td>4.0</td>\n",
       "      <td>1.0</td>\n",
       "    </tr>\n",
       "    <tr>\n",
       "      <th>...</th>\n",
       "      <td>...</td>\n",
       "      <td>...</td>\n",
       "      <td>...</td>\n",
       "      <td>...</td>\n",
       "    </tr>\n",
       "    <tr>\n",
       "      <th>115</th>\n",
       "      <td>5.1</td>\n",
       "      <td>3.5</td>\n",
       "      <td>1.4</td>\n",
       "      <td>0.3</td>\n",
       "    </tr>\n",
       "    <tr>\n",
       "      <th>116</th>\n",
       "      <td>5.1</td>\n",
       "      <td>2.5</td>\n",
       "      <td>3.0</td>\n",
       "      <td>1.1</td>\n",
       "    </tr>\n",
       "    <tr>\n",
       "      <th>117</th>\n",
       "      <td>5.6</td>\n",
       "      <td>3.0</td>\n",
       "      <td>4.5</td>\n",
       "      <td>1.5</td>\n",
       "    </tr>\n",
       "    <tr>\n",
       "      <th>118</th>\n",
       "      <td>6.2</td>\n",
       "      <td>2.8</td>\n",
       "      <td>4.8</td>\n",
       "      <td>1.8</td>\n",
       "    </tr>\n",
       "    <tr>\n",
       "      <th>119</th>\n",
       "      <td>7.2</td>\n",
       "      <td>3.6</td>\n",
       "      <td>6.1</td>\n",
       "      <td>2.5</td>\n",
       "    </tr>\n",
       "  </tbody>\n",
       "</table>\n",
       "<p>120 rows × 4 columns</p>\n",
       "</div>"
      ],
      "text/plain": [
       "     sepal length (cm)  sepal width (cm)  petal length (cm)  petal width (cm)\n",
       "0                  7.4               2.8                6.1               1.9\n",
       "1                  6.0               2.2                5.0               1.5\n",
       "2                  4.7               3.2                1.6               0.2\n",
       "3                  5.1               3.5                1.4               0.2\n",
       "4                  6.0               2.2                4.0               1.0\n",
       "..                 ...               ...                ...               ...\n",
       "115                5.1               3.5                1.4               0.3\n",
       "116                5.1               2.5                3.0               1.1\n",
       "117                5.6               3.0                4.5               1.5\n",
       "118                6.2               2.8                4.8               1.8\n",
       "119                7.2               3.6                6.1               2.5\n",
       "\n",
       "[120 rows x 4 columns]"
      ]
     },
     "execution_count": 9,
     "metadata": {},
     "output_type": "execute_result"
    }
   ],
   "source": [
    "X_train, X_test, y_train, y_test = train_test_split(X, y, test_size=0.2, random_state=123)\n",
    "pd.DataFrame(X_train, columns=feature_names)"
   ]
  },
  {
   "cell_type": "markdown",
   "id": "64cd3f62-4c38-42dd-9834-ab8b11132e2d",
   "metadata": {},
   "source": [
    "<br><br>"
   ]
  },
  {
   "cell_type": "markdown",
   "id": "087b6eaf-7014-4479-b86b-31c71cc08eba",
   "metadata": {
    "deletable": false,
    "editable": false
   },
   "source": [
    "### 2.1 Dummy classifier\n",
    "\n",
    "**Your tasks:**\n",
    "\n",
    "- Carry out 5-fold cross validation using the `DummyClassifier` and store the mean cross-validation score in the `mean_cv_score` variable below.  \n",
    "\n",
    "_Points:_ 1"
   ]
  },
  {
   "cell_type": "code",
   "execution_count": 14,
   "id": "a59b7094-8c74-48ea-9eca-1de9679ac082",
   "metadata": {},
   "outputs": [
    {
     "data": {
      "text/plain": [
       "(120, 4)"
      ]
     },
     "execution_count": 14,
     "metadata": {},
     "output_type": "execute_result"
    }
   ],
   "source": [
    "X_train.shape"
   ]
  },
  {
   "cell_type": "code",
   "execution_count": 12,
   "id": "99d76a11-e1ab-4a48-9166-f704ed8899a2",
   "metadata": {
    "tags": []
   },
   "outputs": [
    {
     "data": {
      "text/plain": [
       "0.36666666666666664"
      ]
     },
     "execution_count": 12,
     "metadata": {},
     "output_type": "execute_result"
    }
   ],
   "source": [
    "from sklearn.dummy import DummyClassifier\n",
    "dummy_classifier = DummyClassifier(strategy='most_frequent', random_state=123)\n",
    "cv_data = cross_val_score(dummy_classifier, X=X_train, y=y_train, cv=5)\n",
    "mean_cv_score = np.mean(cv_data)\n",
    "\n",
    "mean_cv_score"
   ]
  },
  {
   "cell_type": "code",
   "execution_count": null,
   "id": "cd376f1b",
   "metadata": {
    "deletable": false,
    "editable": false
   },
   "outputs": [],
   "source": [
    "grader.check(\"q2.1\")"
   ]
  },
  {
   "cell_type": "markdown",
   "id": "63a9197a-cfeb-4d03-8e68-13b4283cf176",
   "metadata": {},
   "source": [
    "<br><br>"
   ]
  },
  {
   "cell_type": "markdown",
   "id": "30c60db3-3be0-413e-916f-8cc38fb9e47f",
   "metadata": {
    "deletable": false,
    "editable": false
   },
   "source": [
    "### 2. Optimizing $k$ in KNNs \n",
    "\n",
    "In this exercise, you will be searching through various values of `k` (referred to as `n_neighbors` in sklearn) as provided below.\n",
    "\n",
    "**Your tasks:**\n",
    "\n",
    "For each `n_neighbors` value in the param_grid below:\n",
    "- Perform a 5-fold cross-validation.\n",
    "- Compute the mean train score (mean_train_score), mean cross-validation score (mean_cv_score), standard deviation of train scores (std_train_score), and standard deviation of cross-validation scores (std_cv_score).\n",
    "- Store these computed values in their respective lists within the `results_dict` provided below.\n",
    "\n",
    "_Points:_ 4"
   ]
  },
  {
   "cell_type": "code",
   "execution_count": null,
   "id": "7c17236c-ab17-4d3a-8e17-154d2c9d985d",
   "metadata": {
    "editable": false,
    "slideshow": {
     "slide_type": ""
    },
    "tags": []
   },
   "outputs": [],
   "source": [
    "n_neighbors = np.arange(1, 40, 4).tolist()\n",
    "\n",
    "results_dict = {\n",
    "    \"n_neighbors\": [],\n",
    "    \"mean_train_score\": [],\n",
    "    \"mean_cv_score\": [],\n",
    "    \"std_cv_score\": [],\n",
    "    \"std_train_score\": [],\n",
    "}\n",
    "\n",
    "..."
   ]
  },
  {
   "cell_type": "code",
   "execution_count": null,
   "id": "121de11d-12f0-4db1-85b6-7a3d57985c97",
   "metadata": {
    "tags": []
   },
   "outputs": [],
   "source": [
    "from sklearn.neighbors import KNeighborsClassifier\n",
    "from sklearn.model_selection import cross_validate, train_test_split\n",
    "\n",
    "for n_count in n_neighbors:\n",
    "    knn = KNeighborsClassifier(n_neighbors=n_count)\n",
    "    cvdf = cross_validate(knn, X_train, y_train, cv=5, return_train_score=True)\n",
    "    results_dict[\"n_neighbors\"].append(n_count)\n",
    "    results_dict[\"mean_train_score\"].append(np.mean(cvdf[\"train_score\"]))\n",
    "    results_dict[\"mean_cv_score\"].append(np.mean(cvdf[\"test_score\"]))\n",
    "    results_dict[\"std_cv_score\"].append(np.std(cvdf[\"test_score\"]))\n",
    "    results_dict[\"std_train_score\"].append(np.std(cvdf[\"train_score\"]))\n",
    "\n",
    "results_df = pd.DataFrame(results_dict)\n",
    "results_df = results_df.set_index(\"n_neighbors\")\n",
    "results_df"
   ]
  },
  {
   "cell_type": "code",
   "execution_count": null,
   "id": "af825ade-9bc2-40ea-b063-910b64b009e9",
   "metadata": {
    "tags": []
   },
   "outputs": [],
   "source": [
    "results_df[['mean_train_score', 'mean_cv_score']].plot(ylabel='Accuracy', title=\"k vs. accuracy\");"
   ]
  },
  {
   "cell_type": "code",
   "execution_count": null,
   "id": "bd109884",
   "metadata": {
    "deletable": false,
    "editable": false
   },
   "outputs": [],
   "source": [
    "grader.check(\"q2.2\")"
   ]
  },
  {
   "cell_type": "markdown",
   "id": "da6abdc9-09b1-4f96-a8b3-698687dbcdad",
   "metadata": {},
   "source": [
    "<br><br>"
   ]
  },
  {
   "cell_type": "markdown",
   "id": "d44b2767-777b-45aa-85c1-4aa1ba9c85c1",
   "metadata": {
    "tags": []
   },
   "source": [
    "## Playground 🌿🔍"
   ]
  },
  {
   "cell_type": "markdown",
   "id": "82cd61b8-a00b-46e5-95f3-ec98caaa66c1",
   "metadata": {},
   "source": [
    "In this interactive playground, we will investigate how various algorithms create decision boundaries to distinguish between these flower species using their sepal length and width as features. By adjusting the parameters, you can observe how the decision boundaries change, which can result in either overfitting (where the model fits the training data too closely) or underfitting (where the model is too simplistic).\n",
    "\n",
    "- With **k-Nearest Neighbours ($k$-NN)**, you'll determine how many neighboring flowers to consult. Should we rely on a single nearest neighbor, potentially leading to a more complex, wiggly boundary? Or should we consider a wider group, leading to a smoother but potentially more generalized decision boundary?\n",
    "\n",
    "- With **Support Vector Machine (SVM)** using the RBF kernel, you'll tweak the hyperparameters `C` and `gamma` to explore the tightrope walk between overly complex boundaries (that might overfit) and overly broad ones (that might underfit).\n",
    "\n",
    "Observe the process of crafting and refining decision boundaries, one parameter at a time! Be sure to take breaks to reflect on the results you are observing. "
   ]
  },
  {
   "cell_type": "markdown",
   "id": "3dea0848-db2c-4e8b-a825-08a5a3bd945a",
   "metadata": {},
   "source": [
    "In order to run the code below, you need `ipywidgets` in the cpsc330 conda environment and `jupyter_widgets` in the conda base environment (or wherever your Jupyter Lab is installed). \n",
    "\n",
    "- `conda install -n base -c conda-forge jupyterlab_widgets`\n",
    "- `conda install -n cpsc330 -c conda-forge ipywidgets`"
   ]
  },
  {
   "cell_type": "code",
   "execution_count": null,
   "id": "b5768d83-e346-4e8b-8436-08b38e1a401c",
   "metadata": {
    "editable": true,
    "metadata": {
     "tags": [
      "otter_ignore"
     ]
    },
    "slideshow": {
     "slide_type": ""
    },
    "tags": [
     "otter_ignore"
    ]
   },
   "outputs": [],
   "source": [
    "#load dataset\n",
    "from IPython.display import clear_output, Image\n",
    "from ipywidgets import interact, FloatSlider, IntSlider, FloatLogSlider\n",
    "import mglearn\n",
    "\n",
    "iris = load_iris(as_frame=True)\n",
    "iris_df = iris['data']\n",
    "iris_df['species'] = iris['target']\n",
    "iris_df = iris_df[iris_df['species'] > 0]\n",
    "X = iris_df[['sepal length (cm)', 'sepal width (cm)']]\n",
    "y = iris_df['species']\n",
    "X_train, X_test, y_train, y_test = train_test_split(X, y, test_size=0.4, random_state=123)\n",
    "\n",
    "def train_and_visualize_svm(c, gamma, ax):\n",
    "    svc = SVC(C=c, gamma=gamma, random_state=42)\n",
    "    svc.fit(X_train.values, y_train)\n",
    "    mglearn.plots.plot_2d_separator(svc, X_train.values, fill=True, alpha=0.4, ax=ax)\n",
    "    mglearn.discrete_scatter(X_train['sepal length (cm)'], X_train['sepal width (cm)'], y_train, ax=ax)\n",
    "    train_score = np.round(svc.score(X_train.values, y_train), 2)\n",
    "    test_score = np.round(svc.score(X_test.values, y_test), 2)\n",
    "    ax.set_xlabel('sepal length (cm)')\n",
    "    ax.set_ylabel('sepal width (cm)')\n",
    "    ax.set_title(f\"SVM (C={c}, gamma={gamma})\\n train = {train_score}\\ntest = {test_score}\")\n",
    "\n",
    "def train_and_visualize_knn(n_neighbors, ax):\n",
    "    knn = KNeighborsClassifier(n_neighbors=n_neighbors)\n",
    "    knn.fit(X_train.values, y_train)    \n",
    "    mglearn.plots.plot_2d_separator(knn, X_train.values, fill=True, alpha=0.4, ax=ax)\n",
    "    mglearn.discrete_scatter(X_train['sepal length (cm)'], X_train['sepal width (cm)'], y, ax=ax)\n",
    "    train_score = np.round(knn.score(X_train.values, y_train), 2)\n",
    "    test_score = np.round(knn.score(X_test.values, y_test), 2)\n",
    "    ax.set_xlabel('sepal length (cm)')\n",
    "    ax.set_ylabel('sepal width (cm)')\n",
    "    ax.set_title(f\"k-NN (n_neighbors={n_neighbors})\\n train = {train_score}\\ntest = {test_score}\")    \n",
    "\n",
    "def train_and_visualize_tree(max_depth, ax):\n",
    "    dt = DecisionTreeClassifier(max_depth=max_depth, random_state=42)\n",
    "    dt.fit(X_train.values, y_train)\n",
    "    mglearn.plots.plot_2d_separator(dt, X_train.values, fill=True, alpha=0.4, ax=ax)\n",
    "    mglearn.discrete_scatter(X['sepal length (cm)'], X['sepal width (cm)'], y, ax=ax)\n",
    "    train_score = np.round(dt.score(X_train.values, y_train), 2)\n",
    "    test_score = np.round(dt.score(X_test.values, y_test), 2)    \n",
    "    ax.set_xlabel('sepal length (cm)')\n",
    "    ax.set_ylabel('sepal width (cm)')\n",
    "    ax.set_title(f\"Decision Tree (max_depth={max_depth})\\n train = {train_score}\\ntest = {test_score}\")\n",
    "\n",
    "def update(c=1.0, gamma=1.0, n_neighbors=5, max_depth=3):\n",
    "    clear_output(wait=True)  # clear the entire output before plotting\n",
    "    fig, axes = plt.subplots(1, 3, figsize=(20, 7))  # create a figure with three subplots side by side\n",
    "    train_and_visualize_svm(c, gamma, axes[0])\n",
    "    train_and_visualize_knn(n_neighbors, axes[1])\n",
    "    train_and_visualize_tree(max_depth, axes[2])\n",
    "    plt.tight_layout()\n",
    "    plt.show()\n",
    "\n",
    "# Visualize!\n",
    "interact(\n",
    "    update, \n",
    "    #c=FloatSlider(min=0.5, max=10, step=0.5, value=1),\n",
    "    c = FloatLogSlider(value=1.0, base=10, \n",
    "                       min=1, # mix exponent of base\n",
    "                       max=6, # max exponent of base\n",
    "                       step=1, # exponent step\n",
    "                       description='C'),   \n",
    "    gamma = FloatLogSlider(value=1.0, base=10, \n",
    "                       min=-3, # mix exponent of base\n",
    "                       max=5, # max exponent of base\n",
    "                       step=1, # exponent step\n",
    "                       description='gamma'),   \n",
    "\n",
    "    n_neighbors=IntSlider(min=1, max=40, step=5, value=5),\n",
    "    max_depth=IntSlider(min=1, max=20, step=2, value=3)\n",
    ");"
   ]
  },
  {
   "cell_type": "markdown",
   "id": "2fa132b3-4a3b-400f-97af-3a4412e5dccb",
   "metadata": {
    "editable": true,
    "slideshow": {
     "slide_type": ""
    },
    "tags": []
   },
   "source": [
    "🔎 **Challenge:** Now that you've had a chance to play around with this interactive model, what patterns do you notice as you adjust the sliders? How does the look of the decision boundary change? Which model seems to be more sensitive to parameter changes?"
   ]
  },
  {
   "cell_type": "markdown",
   "id": "6c55ed3a-57fe-4bd7-9342-ca070ee5f317",
   "metadata": {},
   "source": [
    "🔎 **Challenge:** Up until now, we have learned how to apply K-nearest neighbors (KNNs) and Support Vector Machines with radial basis function (SVM RBF) for classification tasks. However, it's worth noting that these techniques can also be employed for regression tasks. Try [`KNeighborsRegressor`](https://scikit-learn.org/stable/modules/generated/sklearn.neighbors.KNeighborsRegressor.html) and [`SVR`](https://scikit-learn.org/stable/modules/generated/sklearn.svm.SVR.html) to make predictions regarding the progression of diabetes one year after a baseline for a group of diabetes patients, using the [diabetes dataset](https://scikit-learn.org/stable/datasets/toy_dataset.html) provided by sklearn."
   ]
  }
 ],
 "metadata": {
  "kernelspec": {
   "display_name": "cpsc330",
   "language": "python",
   "name": "cpsc330"
  },
  "language_info": {
   "codemirror_mode": {
    "name": "ipython",
    "version": 3
   },
   "file_extension": ".py",
   "mimetype": "text/x-python",
   "name": "python",
   "nbconvert_exporter": "python",
   "pygments_lexer": "ipython3",
   "version": "3.10.0"
  },
  "otter": {
   "OK_FORMAT": true,
   "tests": {
    "q1.1": {
     "name": "q1.1",
     "points": 3,
     "suites": [
      {
       "cases": [
        {
         "code": ">>> answers = [distance_Vega, distance_Max, distance_Orion, distance_Stella, distance_Luna]\n>>> assert None not in answers, \"Are you setting the provided variable?\"\n>>> assert sha1(''.join([f\"{round(ans, 1):.1f}\" for ans in answers]).encode(\"utf-8\")).hexdigest() == '3aba914b9c983dec91591bbdb6d0a28cc7420963', \"One or more of the answers are incorrect. Please try again.\"\n",
         "hidden": false,
         "locked": false
        }
       ],
       "scored": true,
       "setup": "",
       "teardown": "",
       "type": "doctest"
      }
     ]
    },
    "q1.2": {
     "name": "q1.2",
     "points": 2,
     "suites": [
      {
       "cases": [
        {
         "code": ">>> answers_1_2 = [answer_1, answer_2]\n>>> assert None not in answers_1_2, \"Are you setting the provided variable?\"\n>>> assert sha1(''.join(sorted([a.lower() for a in answer_1]) + [answer_2.lower()]).encode(\"utf-8\")).hexdigest() == '51fe72d9f07dfe94861978781ded7efe972fd383', \"One or more of the answers are incorrect. Please try again.\"\n",
         "hidden": false,
         "locked": false
        }
       ],
       "scored": true,
       "setup": "",
       "teardown": "",
       "type": "doctest"
      }
     ]
    },
    "q2.1": {
     "name": "q2.1",
     "points": 1,
     "suites": [
      {
       "cases": [
        {
         "code": ">>> assert sha1(str(np.round(mean_cv_score, 2)).encode('utf-8')).hexdigest() == '84633e0bb09c3452a10903e74f825bff93f2016e', 'Are you calculating the mean of the cross-validation scores?'\n",
         "hidden": false,
         "locked": false
        }
       ],
       "scored": true,
       "setup": "",
       "teardown": "",
       "type": "doctest"
      }
     ]
    },
    "q2.2": {
     "name": "q2.2",
     "points": [
      2,
      2
     ],
     "suites": [
      {
       "cases": [
        {
         "code": ">>> assert sha1(str(len(results_dict['n_neighbors'])).encode(\"utf-8\")).hexdigest() == \"b1d5781111d84f7b3fe45a0852e59758cd7a87e5\", \"Are you setting results_dict['n_neighbors'] correctly?\"\n>>> assert sha1(str(len(results_dict['mean_train_score'])).encode(\"utf-8\")).hexdigest() == \"b1d5781111d84f7b3fe45a0852e59758cd7a87e5\", \"Are you setting results_dict['mean_train_score'] correctly?\"\n>>> assert sha1(str(len(results_dict['mean_cv_score'])).encode(\"utf-8\")).hexdigest() == \"b1d5781111d84f7b3fe45a0852e59758cd7a87e5\", \"Are you setting results_dict['mean_cv_score'] correctly?\"\n>>> assert sha1(str(len(results_dict['std_train_score'])).encode(\"utf-8\")).hexdigest() == \"b1d5781111d84f7b3fe45a0852e59758cd7a87e5\", \"Are you setting results_dict['std_train_score'] correctly?\"\n>>> assert sha1(str(len(results_dict['std_cv_score'])).encode(\"utf-8\")).hexdigest() == \"b1d5781111d84f7b3fe45a0852e59758cd7a87e5\", \"Are you setting results_dict['std_cv_score'] correctly?\"\n",
         "hidden": false,
         "locked": false
        },
        {
         "code": ">>> assert sha1(str(np.round(results_dict['mean_cv_score'][2], 2)).encode('utf-8')).hexdigest() == 'e6da655eed7b9306b624c65d43d42651284d84fd', 'Are you calculating the mean_cv_score correctly?'\n>>> assert sha1(str(np.round(results_dict['std_cv_score'][2], 2)).encode('utf-8')).hexdigest() == '9ba26e2adc0afa273575707cb431da2c4c0f71ec', 'Are you calculating the std_cv_score correctly?'\n",
         "hidden": false,
         "locked": false
        }
       ],
       "scored": true,
       "setup": "",
       "teardown": "",
       "type": "doctest"
      }
     ]
    }
   }
  }
 },
 "nbformat": 4,
 "nbformat_minor": 5
}
